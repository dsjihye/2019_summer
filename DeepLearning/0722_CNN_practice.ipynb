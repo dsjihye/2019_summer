{
 "cells": [
  {
   "cell_type": "code",
   "execution_count": 1,
   "metadata": {},
   "outputs": [
    {
     "data": {
      "text/html": [
       "<style>.container { width:100% !important; }</style>"
      ],
      "text/plain": [
       "<IPython.core.display.HTML object>"
      ]
     },
     "metadata": {},
     "output_type": "display_data"
    }
   ],
   "source": [
    "# For wide monitor\n",
    "from IPython.core.display import display, HTML\n",
    "display(HTML(\"<style>.container { width:100% !important; }</style>\"))"
   ]
  },
  {
   "cell_type": "code",
   "execution_count": 1,
   "metadata": {},
   "outputs": [],
   "source": [
    "import tensorflow as tf"
   ]
  },
  {
   "cell_type": "code",
   "execution_count": 3,
   "metadata": {},
   "outputs": [],
   "source": [
    "hello = tf.constant('Hello, TensorFlow!') # 노드 생성, 이름은 hello\n",
    "sess = tf.Session() # 메모리에 올리기"
   ]
  },
  {
   "cell_type": "code",
   "execution_count": 4,
   "metadata": {},
   "outputs": [
    {
     "name": "stdout",
     "output_type": "stream",
     "text": [
      "b'Hello, TensorFlow!'\n"
     ]
    }
   ],
   "source": [
    "print(sess.run(hello))"
   ]
  },
  {
   "cell_type": "code",
   "execution_count": 5,
   "metadata": {},
   "outputs": [],
   "source": [
    "import pandas as pd"
   ]
  },
  {
   "cell_type": "code",
   "execution_count": 12,
   "metadata": {},
   "outputs": [],
   "source": [
    "mnist_csv = pd.read_csv('mnist_train.csv', header=None, skiprows=1).values"
   ]
  },
  {
   "cell_type": "code",
   "execution_count": 15,
   "metadata": {},
   "outputs": [
    {
     "name": "stdout",
     "output_type": "stream",
     "text": [
      "(59999, 785)\n"
     ]
    }
   ],
   "source": [
    "print(mnist_csv.shape)"
   ]
  },
  {
   "cell_type": "code",
   "execution_count": 16,
   "metadata": {},
   "outputs": [
    {
     "name": "stdout",
     "output_type": "stream",
     "text": [
      "[  0   0   0   0   0   0   0   0   0   0   0   0   0   0   0   0   0   0\n",
      "   0   0   0   0   0   0   0   0   0   0   0   0   0   0   0   0   0   0\n",
      "   0   0   0   0   0   0   0   0   0   0   0   0   0   0   0   0   0   0\n",
      "   0   0   0   0   0   0   0   0   0   0   0   0   0   0   0   0   0   0\n",
      "   0   0   0   0   0   0   0   0   0   0   0   0   0   0   0   0   0   0\n",
      "   0   0   0   0   0   0   0   0   0   0   0   0   0   0   0   0   0   0\n",
      "   0   0   0   0   0   0   0   0   0   0   0   0   0   0   0   0   0   0\n",
      "   0   0  51 159 253 159  50   0   0   0   0   0   0   0   0   0   0   0\n",
      "   0   0   0   0   0   0   0   0   0   0   0  48 238 252 252 252 237   0\n",
      "   0   0   0   0   0   0   0   0   0   0   0   0   0   0   0   0   0   0\n",
      "   0   0  54 227 253 252 239 233 252  57   6   0   0   0   0   0   0   0\n",
      "   0   0   0   0   0   0   0   0   0   0  10  60 224 252 253 252 202  84\n",
      " 252 253 122   0   0   0   0   0   0   0   0   0   0   0   0   0   0   0\n",
      "   0   0 163 252 252 252 253 252 252  96 189 253 167   0   0   0   0   0\n",
      "   0   0   0   0   0   0   0   0   0   0   0  51 238 253 253 190 114 253\n",
      " 228  47  79 255 168   0   0   0   0   0   0   0   0   0   0   0   0   0\n",
      "   0   0  48 238 252 252 179  12  75 121  21   0   0 253 243  50   0   0\n",
      "   0   0   0   0   0   0   0   0   0   0   0  38 165 253 233 208  84   0\n",
      "   0   0   0   0   0 253 252 165   0   0   0   0   0   0   0   0   0   0\n",
      "   0   0   7 178 252 240  71  19  28   0   0   0   0   0   0 253 252 195\n",
      "   0   0   0   0   0   0   0   0   0   0   0   0  57 252 252  63   0   0\n",
      "   0   0   0   0   0   0   0 253 252 195   0   0   0   0   0   0   0   0\n",
      "   0   0   0   0 198 253 190   0   0   0   0   0   0   0   0   0   0 255\n",
      " 253 196   0   0   0   0   0   0   0   0   0   0   0  76 246 252 112   0\n",
      "   0   0   0   0   0   0   0   0   0 253 252 148   0   0   0   0   0   0\n",
      "   0   0   0   0   0  85 252 230  25   0   0   0   0   0   0   0   0   7\n",
      " 135 253 186  12   0   0   0   0   0   0   0   0   0   0   0  85 252 223\n",
      "   0   0   0   0   0   0   0   0   7 131 252 225  71   0   0   0   0   0\n",
      "   0   0   0   0   0   0   0  85 252 145   0   0   0   0   0   0   0  48\n",
      " 165 252 173   0   0   0   0   0   0   0   0   0   0   0   0   0   0  86\n",
      " 253 225   0   0   0   0   0   0 114 238 253 162   0   0   0   0   0   0\n",
      "   0   0   0   0   0   0   0   0   0  85 252 249 146  48  29  85 178 225\n",
      " 253 223 167  56   0   0   0   0   0   0   0   0   0   0   0   0   0   0\n",
      "   0  85 252 252 252 229 215 252 252 252 196 130   0   0   0   0   0   0\n",
      "   0   0   0   0   0   0   0   0   0   0   0  28 199 252 252 253 252 252\n",
      " 233 145   0   0   0   0   0   0   0   0   0   0   0   0   0   0   0   0\n",
      "   0   0   0   0  25 128 252 253 252 141  37   0   0   0   0   0   0   0\n",
      "   0   0   0   0   0   0   0   0   0   0   0   0   0   0   0   0   0   0\n",
      "   0   0   0   0   0   0   0   0   0   0   0   0   0   0   0   0   0   0\n",
      "   0   0   0   0   0   0   0   0   0   0   0   0   0   0   0   0   0   0\n",
      "   0   0   0   0   0   0   0   0   0   0   0   0   0   0   0   0   0   0\n",
      "   0   0   0   0   0   0   0   0   0   0   0   0   0   0   0   0   0   0\n",
      "   0   0   0   0   0   0   0   0   0   0   0   0   0   0   0   0   0   0\n",
      "   0   0   0   0   0   0   0   0   0   0   0]\n"
     ]
    }
   ],
   "source": [
    "print(mnist_csv[0])"
   ]
  },
  {
   "cell_type": "code",
   "execution_count": 17,
   "metadata": {},
   "outputs": [],
   "source": [
    "from sklearn.model_selection import train_test_split\n",
    "train, test = train_test_split(mnist_csv, test_size=0.3, random_state=1)"
   ]
  },
  {
   "cell_type": "code",
   "execution_count": 18,
   "metadata": {},
   "outputs": [
    {
     "name": "stdout",
     "output_type": "stream",
     "text": [
      "(41999, 785)\n"
     ]
    }
   ],
   "source": [
    "print(train.shape)"
   ]
  },
  {
   "cell_type": "code",
   "execution_count": 19,
   "metadata": {},
   "outputs": [
    {
     "name": "stdout",
     "output_type": "stream",
     "text": [
      "(18000, 785)\n"
     ]
    }
   ],
   "source": [
    "print(test.shape)"
   ]
  },
  {
   "cell_type": "code",
   "execution_count": 21,
   "metadata": {},
   "outputs": [
    {
     "data": {
      "text/plain": [
       "4"
      ]
     },
     "execution_count": 21,
     "metadata": {},
     "output_type": "execute_result"
    }
   ],
   "source": [
    "mnist_csv[1][0] # label"
   ]
  },
  {
   "cell_type": "code",
   "execution_count": 22,
   "metadata": {},
   "outputs": [
    {
     "name": "stdout",
     "output_type": "stream",
     "text": [
      "(41999, 10) (41999, 784)\n",
      "(18000, 10) (18000, 784)\n"
     ]
    },
    {
     "name": "stderr",
     "output_type": "stream",
     "text": [
      "Using TensorFlow backend.\n"
     ]
    }
   ],
   "source": [
    "from keras.utils import np_utils\n",
    "y_train, X_train = np_utils.to_categorical(train[:, 0]), train[:, 1:]\n",
    "y_test, X_test = np_utils.to_categorical(test[:,0]), test[:, 1:]\n",
    "print(y_train.shape, X_train.shape)\n",
    "print(y_test.shape, X_test.shape)"
   ]
  },
  {
   "cell_type": "code",
   "execution_count": 23,
   "metadata": {},
   "outputs": [
    {
     "name": "stdout",
     "output_type": "stream",
     "text": [
      "[0.         0.         0.         0.         0.         0.\n",
      " 0.         0.         0.         0.         0.         0.\n",
      " 0.         0.         0.         0.         0.         0.\n",
      " 0.         0.         0.         0.         0.         0.\n",
      " 0.         0.         0.         0.         0.         0.\n",
      " 0.         0.         0.         0.         0.         0.\n",
      " 0.         0.         0.         0.         0.         0.\n",
      " 0.         0.         0.         0.         0.         0.\n",
      " 0.         0.         0.         0.         0.         0.\n",
      " 0.         0.         0.         0.         0.         0.\n",
      " 0.         0.         0.         0.         0.         0.\n",
      " 0.         0.         0.         0.         0.         0.\n",
      " 0.         0.         0.         0.         0.         0.\n",
      " 0.         0.         0.         0.         0.         0.\n",
      " 0.         0.         0.         0.         0.         0.\n",
      " 0.         0.         0.         0.         0.         0.\n",
      " 0.         0.         0.         0.         0.         0.\n",
      " 0.         0.         0.         0.         0.         0.\n",
      " 0.         0.         0.         0.         0.         0.\n",
      " 0.         0.         0.         0.         0.         0.\n",
      " 0.         0.         0.         0.         0.         0.\n",
      " 0.         0.         0.         0.         0.         0.\n",
      " 0.         0.         0.         0.         0.         0.\n",
      " 0.         0.         0.         0.         0.         0.\n",
      " 0.         0.         0.         0.         0.         0.53333333\n",
      " 0.99607843 0.99607843 1.         0.99607843 0.99607843 0.99607843\n",
      " 0.69803922 0.61960784 0.61960784 0.4745098  0.09019608 0.\n",
      " 0.         0.         0.         0.         0.         0.\n",
      " 0.         0.         0.         0.         0.         0.\n",
      " 0.         0.         0.         0.91764706 0.99607843 0.99607843\n",
      " 0.99607843 0.99607843 0.99607843 0.99607843 0.99607843 0.99607843\n",
      " 0.99607843 0.99607843 0.90980392 0.47058824 0.         0.\n",
      " 0.         0.         0.         0.         0.         0.\n",
      " 0.         0.         0.         0.         0.         0.\n",
      " 0.         0.58431373 0.99607843 0.74117647 0.63529412 0.63529412\n",
      " 0.63529412 0.29019608 0.55686275 0.63529412 0.69019608 0.99607843\n",
      " 0.99607843 0.90980392 0.09019608 0.         0.         0.\n",
      " 0.         0.         0.         0.         0.         0.\n",
      " 0.         0.         0.         0.         0.         0.01176471\n",
      " 0.01568627 0.00784314 0.         0.         0.         0.\n",
      " 0.         0.         0.00392157 0.49411765 0.99607843 0.99607843\n",
      " 0.24313725 0.         0.         0.         0.         0.\n",
      " 0.         0.         0.         0.         0.         0.\n",
      " 0.         0.         0.         0.         0.         0.\n",
      " 0.         0.         0.         0.         0.07843137 0.20392157\n",
      " 0.67058824 0.96078431 0.99607843 0.93333333 0.12941176 0.\n",
      " 0.         0.         0.         0.         0.         0.\n",
      " 0.         0.         0.         0.         0.         0.\n",
      " 0.         0.         0.         0.         0.         0.12941176\n",
      " 0.         0.6627451  0.9372549  0.99607843 0.99607843 0.99607843\n",
      " 0.99607843 0.60392157 0.         0.         0.         0.\n",
      " 0.         0.         0.         0.         0.         0.\n",
      " 0.         0.         0.         0.         0.         0.04705882\n",
      " 0.20784314 0.4745098  0.58431373 0.76078431 0.96078431 0.99215686\n",
      " 0.98823529 0.70196078 0.88235294 0.63137255 0.03529412 0.00392157\n",
      " 0.         0.         0.         0.         0.         0.\n",
      " 0.         0.         0.         0.         0.         0.\n",
      " 0.         0.         0.         0.54901961 0.99607843 0.99607843\n",
      " 0.99607843 0.99607843 0.99607843 0.99607843 0.81568627 0.0745098\n",
      " 0.07843137 0.         0.         0.         0.         0.\n",
      " 0.         0.         0.         0.         0.         0.\n",
      " 0.         0.         0.         0.         0.         0.\n",
      " 0.         0.69411765 0.99607843 0.99607843 0.99607843 0.99607843\n",
      " 0.99607843 0.99607843 0.99607843 0.45882353 0.         0.\n",
      " 0.         0.         0.         0.         0.         0.\n",
      " 0.         0.         0.         0.         0.         0.\n",
      " 0.         0.         0.         0.         0.         0.33333333\n",
      " 0.80392157 0.68235294 0.43137255 0.43137255 0.43137255 0.81176471\n",
      " 0.99607843 0.87058824 0.05490196 0.         0.         0.\n",
      " 0.         0.         0.         0.         0.         0.\n",
      " 0.         0.         0.         0.         0.         0.\n",
      " 0.         0.         0.         0.         0.         0.\n",
      " 0.         0.         0.         0.03529412 0.80784314 0.99607843\n",
      " 0.4        0.         0.         0.         0.         0.\n",
      " 0.         0.         0.         0.         0.         0.\n",
      " 0.         0.         0.         0.         0.         0.\n",
      " 0.         0.         0.         0.         0.         0.\n",
      " 0.         0.         0.30196078 0.99607843 0.47058824 0.\n",
      " 0.         0.         0.         0.         0.         0.\n",
      " 0.         0.         0.         0.         0.         0.\n",
      " 0.         0.         0.         0.         0.         0.\n",
      " 0.         0.         0.         0.         0.         0.\n",
      " 0.03921569 0.99607843 0.47058824 0.         0.         0.\n",
      " 0.         0.         0.         0.         0.         0.\n",
      " 0.         0.         0.         0.         0.         0.\n",
      " 0.         0.         0.         0.         0.         0.\n",
      " 0.         0.         0.         0.         0.21176471 0.99607843\n",
      " 0.47058824 0.         0.         0.         0.         0.\n",
      " 0.         0.         0.         0.         0.         0.\n",
      " 0.         0.         0.24705882 0.0745098  0.         0.\n",
      " 0.         0.         0.         0.         0.         0.\n",
      " 0.         0.05098039 0.84705882 0.99607843 0.47058824 0.\n",
      " 0.         0.         0.         0.         0.         0.\n",
      " 0.         0.         0.         0.         0.         0.22352941\n",
      " 0.98431373 0.79215686 0.1254902  0.         0.         0.\n",
      " 0.         0.         0.         0.         0.         0.56862745\n",
      " 0.99607843 0.95294118 0.11372549 0.         0.         0.\n",
      " 0.         0.         0.         0.         0.         0.\n",
      " 0.         0.         0.         0.24313725 0.99215686 0.99607843\n",
      " 0.94509804 0.41960784 0.01960784 0.01568627 0.         0.00784314\n",
      " 0.01960784 0.20784314 0.77254902 0.97647059 0.99215686 0.41568627\n",
      " 0.         0.         0.         0.         0.         0.\n",
      " 0.         0.         0.         0.         0.         0.\n",
      " 0.         0.         0.52156863 0.99607843 0.99607843 0.99607843\n",
      " 0.99607843 0.92156863 0.63921569 0.75294118 0.99607843 0.99607843\n",
      " 0.99607843 0.99607843 0.4745098  0.         0.         0.\n",
      " 0.         0.         0.         0.         0.         0.\n",
      " 0.         0.         0.         0.         0.         0.\n",
      " 0.01568627 0.24705882 0.71372549 0.97647059 0.99607843 0.99607843\n",
      " 0.99607843 0.99607843 0.99607843 0.96470588 0.49019608 0.28235294\n",
      " 0.02352941 0.         0.         0.         0.         0.\n",
      " 0.         0.         0.         0.         0.         0.\n",
      " 0.         0.         0.         0.         0.         0.\n",
      " 0.         0.20784314 0.78431373 0.99607843 0.99607843 0.99607843\n",
      " 0.78039216 0.29803922 0.         0.         0.         0.\n",
      " 0.         0.         0.         0.         0.         0.\n",
      " 0.         0.         0.         0.         0.         0.\n",
      " 0.         0.         0.         0.         0.         0.\n",
      " 0.         0.         0.         0.         0.         0.\n",
      " 0.         0.         0.         0.         0.         0.\n",
      " 0.         0.         0.         0.         0.         0.\n",
      " 0.         0.         0.         0.         0.         0.\n",
      " 0.         0.         0.         0.         0.         0.\n",
      " 0.         0.         0.         0.         0.         0.\n",
      " 0.         0.         0.         0.         0.         0.\n",
      " 0.         0.         0.         0.         0.         0.\n",
      " 0.         0.         0.         0.         0.         0.\n",
      " 0.         0.         0.         0.         0.         0.\n",
      " 0.         0.         0.         0.         0.         0.\n",
      " 0.         0.         0.         0.         0.         0.\n",
      " 0.         0.         0.         0.        ]\n",
      "[0.         0.         0.         0.         0.         0.\n",
      " 0.         0.         0.         0.         0.         0.\n",
      " 0.         0.         0.         0.         0.         0.\n",
      " 0.         0.         0.         0.         0.         0.\n",
      " 0.         0.         0.         0.         0.         0.\n",
      " 0.         0.         0.         0.         0.         0.\n",
      " 0.         0.         0.         0.         0.         0.\n",
      " 0.         0.         0.         0.         0.         0.\n",
      " 0.         0.         0.         0.         0.         0.\n",
      " 0.         0.         0.         0.         0.         0.\n",
      " 0.         0.         0.         0.         0.         0.\n",
      " 0.         0.         0.         0.         0.         0.\n",
      " 0.         0.         0.         0.         0.         0.\n",
      " 0.         0.         0.         0.         0.         0.\n",
      " 0.         0.         0.         0.         0.         0.\n",
      " 0.         0.         0.         0.         0.         0.\n",
      " 0.         0.         0.         0.         0.         0.\n",
      " 0.         0.         0.         0.         0.         0.\n",
      " 0.         0.         0.         0.         0.         0.\n",
      " 0.         0.         0.         0.         0.         0.\n",
      " 0.         0.         0.         0.         0.         0.\n",
      " 0.         0.         0.         0.         0.         0.\n",
      " 0.         0.         0.         0.         0.         0.\n",
      " 0.         0.         0.         0.         0.         0.\n",
      " 0.         0.         0.         0.         0.         0.53333333\n",
      " 0.99607843 0.99607843 1.         0.99607843 0.99607843 0.99607843\n",
      " 0.69803922 0.61960784 0.61960784 0.4745098  0.09019608 0.\n",
      " 0.         0.         0.         0.         0.         0.\n",
      " 0.         0.         0.         0.         0.         0.\n",
      " 0.         0.         0.         0.91764706 0.99607843 0.99607843\n",
      " 0.99607843 0.99607843 0.99607843 0.99607843 0.99607843 0.99607843\n",
      " 0.99607843 0.99607843 0.90980392 0.47058824 0.         0.\n",
      " 0.         0.         0.         0.         0.         0.\n",
      " 0.         0.         0.         0.         0.         0.\n",
      " 0.         0.58431373 0.99607843 0.74117647 0.63529412 0.63529412\n",
      " 0.63529412 0.29019608 0.55686275 0.63529412 0.69019608 0.99607843\n",
      " 0.99607843 0.90980392 0.09019608 0.         0.         0.\n",
      " 0.         0.         0.         0.         0.         0.\n",
      " 0.         0.         0.         0.         0.         0.01176471\n",
      " 0.01568627 0.00784314 0.         0.         0.         0.\n",
      " 0.         0.         0.00392157 0.49411765 0.99607843 0.99607843\n",
      " 0.24313725 0.         0.         0.         0.         0.\n",
      " 0.         0.         0.         0.         0.         0.\n",
      " 0.         0.         0.         0.         0.         0.\n",
      " 0.         0.         0.         0.         0.07843137 0.20392157\n",
      " 0.67058824 0.96078431 0.99607843 0.93333333 0.12941176 0.\n",
      " 0.         0.         0.         0.         0.         0.\n",
      " 0.         0.         0.         0.         0.         0.\n",
      " 0.         0.         0.         0.         0.         0.12941176\n",
      " 0.         0.6627451  0.9372549  0.99607843 0.99607843 0.99607843\n",
      " 0.99607843 0.60392157 0.         0.         0.         0.\n",
      " 0.         0.         0.         0.         0.         0.\n",
      " 0.         0.         0.         0.         0.         0.04705882\n",
      " 0.20784314 0.4745098  0.58431373 0.76078431 0.96078431 0.99215686\n",
      " 0.98823529 0.70196078 0.88235294 0.63137255 0.03529412 0.00392157\n",
      " 0.         0.         0.         0.         0.         0.\n",
      " 0.         0.         0.         0.         0.         0.\n",
      " 0.         0.         0.         0.54901961 0.99607843 0.99607843\n",
      " 0.99607843 0.99607843 0.99607843 0.99607843 0.81568627 0.0745098\n",
      " 0.07843137 0.         0.         0.         0.         0.\n",
      " 0.         0.         0.         0.         0.         0.\n",
      " 0.         0.         0.         0.         0.         0.\n",
      " 0.         0.69411765 0.99607843 0.99607843 0.99607843 0.99607843\n",
      " 0.99607843 0.99607843 0.99607843 0.45882353 0.         0.\n",
      " 0.         0.         0.         0.         0.         0.\n",
      " 0.         0.         0.         0.         0.         0.\n",
      " 0.         0.         0.         0.         0.         0.33333333\n",
      " 0.80392157 0.68235294 0.43137255 0.43137255 0.43137255 0.81176471\n",
      " 0.99607843 0.87058824 0.05490196 0.         0.         0.\n",
      " 0.         0.         0.         0.         0.         0.\n",
      " 0.         0.         0.         0.         0.         0.\n",
      " 0.         0.         0.         0.         0.         0.\n",
      " 0.         0.         0.         0.03529412 0.80784314 0.99607843\n",
      " 0.4        0.         0.         0.         0.         0.\n",
      " 0.         0.         0.         0.         0.         0.\n",
      " 0.         0.         0.         0.         0.         0.\n",
      " 0.         0.         0.         0.         0.         0.\n",
      " 0.         0.         0.30196078 0.99607843 0.47058824 0.\n",
      " 0.         0.         0.         0.         0.         0.\n",
      " 0.         0.         0.         0.         0.         0.\n",
      " 0.         0.         0.         0.         0.         0.\n",
      " 0.         0.         0.         0.         0.         0.\n",
      " 0.03921569 0.99607843 0.47058824 0.         0.         0.\n",
      " 0.         0.         0.         0.         0.         0.\n",
      " 0.         0.         0.         0.         0.         0.\n",
      " 0.         0.         0.         0.         0.         0.\n",
      " 0.         0.         0.         0.         0.21176471 0.99607843\n",
      " 0.47058824 0.         0.         0.         0.         0.\n",
      " 0.         0.         0.         0.         0.         0.\n",
      " 0.         0.         0.24705882 0.0745098  0.         0.\n",
      " 0.         0.         0.         0.         0.         0.\n",
      " 0.         0.05098039 0.84705882 0.99607843 0.47058824 0.\n",
      " 0.         0.         0.         0.         0.         0.\n",
      " 0.         0.         0.         0.         0.         0.22352941\n",
      " 0.98431373 0.79215686 0.1254902  0.         0.         0.\n",
      " 0.         0.         0.         0.         0.         0.56862745\n",
      " 0.99607843 0.95294118 0.11372549 0.         0.         0.\n",
      " 0.         0.         0.         0.         0.         0.\n",
      " 0.         0.         0.         0.24313725 0.99215686 0.99607843\n",
      " 0.94509804 0.41960784 0.01960784 0.01568627 0.         0.00784314\n",
      " 0.01960784 0.20784314 0.77254902 0.97647059 0.99215686 0.41568627\n",
      " 0.         0.         0.         0.         0.         0.\n",
      " 0.         0.         0.         0.         0.         0.\n",
      " 0.         0.         0.52156863 0.99607843 0.99607843 0.99607843\n",
      " 0.99607843 0.92156863 0.63921569 0.75294118 0.99607843 0.99607843\n",
      " 0.99607843 0.99607843 0.4745098  0.         0.         0.\n",
      " 0.         0.         0.         0.         0.         0.\n",
      " 0.         0.         0.         0.         0.         0.\n",
      " 0.01568627 0.24705882 0.71372549 0.97647059 0.99607843 0.99607843\n",
      " 0.99607843 0.99607843 0.99607843 0.96470588 0.49019608 0.28235294\n",
      " 0.02352941 0.         0.         0.         0.         0.\n",
      " 0.         0.         0.         0.         0.         0.\n",
      " 0.         0.         0.         0.         0.         0.\n",
      " 0.         0.20784314 0.78431373 0.99607843 0.99607843 0.99607843\n",
      " 0.78039216 0.29803922 0.         0.         0.         0.\n",
      " 0.         0.         0.         0.         0.         0.\n",
      " 0.         0.         0.         0.         0.         0.\n",
      " 0.         0.         0.         0.         0.         0.\n",
      " 0.         0.         0.         0.         0.         0.\n",
      " 0.         0.         0.         0.         0.         0.\n",
      " 0.         0.         0.         0.         0.         0.\n",
      " 0.         0.         0.         0.         0.         0.\n",
      " 0.         0.         0.         0.         0.         0.\n",
      " 0.         0.         0.         0.         0.         0.\n",
      " 0.         0.         0.         0.         0.         0.\n",
      " 0.         0.         0.         0.         0.         0.\n",
      " 0.         0.         0.         0.         0.         0.\n",
      " 0.         0.         0.         0.         0.         0.\n",
      " 0.         0.         0.         0.         0.         0.\n",
      " 0.         0.         0.         0.         0.         0.\n",
      " 0.         0.         0.         0.        ]\n"
     ]
    }
   ],
   "source": [
    "#a<=X<=b\n",
    "#0<=X-a<=b-a\n",
    "#0<=(X-a)/(b-a)<=1\n",
    "#scaling해야함. 딥러닝에서는 이거 안해도 잘 나오긴 함..\n",
    "X_train = (X_train-0)/255 # normalize\n",
    "X_test = (X_test-0)/255 # normalize\n",
    "print(X_train[0])\n",
    "print(X_train[0])"
   ]
  },
  {
   "cell_type": "code",
   "execution_count": 26,
   "metadata": {},
   "outputs": [
    {
     "data": {
      "text/plain": [
       "<matplotlib.image.AxesImage at 0x1cc2fff4e48>"
      ]
     },
     "execution_count": 26,
     "metadata": {},
     "output_type": "execute_result"
    },
    {
     "data": {
      "image/png": "[encoded data removed]",
      "text/plain": [
       "<Figure size 432x288 with 1 Axes>"
      ]
     },
     "metadata": {
      "needs_background": "light"
     },
     "output_type": "display_data"
    }
   ],
   "source": [
    "%matplotlib inline\n",
    "import matplotlib.pyplot as plt\n",
    "import numpy as np\n",
    "plt.imshow(np.reshape(X_train[0], (28,28)), cmap=plt.cm.Blues) # 컬러 이미지면 (28,28,3)"
   ]
  },
  {
   "cell_type": "code",
   "execution_count": 27,
   "metadata": {},
   "outputs": [
    {
     "data": {
      "text/plain": [
       "<matplotlib.image.AxesImage at 0x1cc2f8c3f60>"
      ]
     },
     "execution_count": 27,
     "metadata": {},
     "output_type": "execute_result"
    },
    {
     "data": {
      "image/png": "[encoded data removed]",
      "text/plain": [
       "<Figure size 432x288 with 1 Axes>"
      ]
     },
     "metadata": {
      "needs_background": "light"
     },
     "output_type": "display_data"
    }
   ],
   "source": [
    "plt.imshow(np.reshape(X_train[0], (28,28)), cmap=plt.cm.gray_r)"
   ]
  },
  {
   "cell_type": "code",
   "execution_count": 28,
   "metadata": {},
   "outputs": [],
   "source": [
    "# 신경망 입출력 디자인\n",
    "import tensorflow as tf\n",
    "X = tf.placeholder(tf.float32, [None, 784]) # constanct는 변하지않는 상수 # placeholder는 임시적으로 저장해놓을 수 있는 통 (데이터가 들락날락할 수 있는)\n",
    "X_img = tf.reshape(X, [-1, 28, 28, 1])\n",
    "y = tf.placeholder(tf.float32, [None, 10])"
   ]
  },
  {
   "cell_type": "code",
   "execution_count": 29,
   "metadata": {},
   "outputs": [
    {
     "name": "stdout",
     "output_type": "stream",
     "text": [
      "WARNING:tensorflow:From C:\\ProgramData\\Anaconda3\\lib\\site-packages\\tensorflow\\python\\framework\\op_def_library.py:263: colocate_with (from tensorflow.python.framework.ops) is deprecated and will be removed in a future version.\n",
      "Instructions for updating:\n",
      "Colocations handled automatically by placer.\n"
     ]
    }
   ],
   "source": [
    "# (28, 28, 1)\n",
    "W1 = tf.Variable(tf.random_normal([3,3,1,16], stddev=0.01)) # (3,3)채널 16 필터개수\n",
    "L1 = tf.nn.conv2d(X_img, W1, strides=[1,1,1,1], padding='SAME') \n",
    "# (28, 28, 16)\n",
    "L1 = tf.nn.relu(L1)\n",
    "L1 = tf.nn.max_pool(L1, ksize=[1,2,2,1], strides=[1,2,2,1], padding='SAME') # ksize 이미지 크기 stride \n",
    "# (14, 14, 16)\n",
    "W2 = tf.Variable(tf.random_normal([3,3,16,32], stddev=0.01))\n",
    "L2 = tf.nn.conv2d(L1, W2, strides=[1,1,1,1], padding='SAME')\n",
    "L2 = tf.nn.relu(L2)\n",
    "L2 = tf.nn.max_pool(L2, ksize=[1,2,2,1], strides=[1,2,2,1], padding='SAME')\n",
    "# (7, 7, 32)"
   ]
  },
  {
   "cell_type": "code",
   "execution_count": 35,
   "metadata": {},
   "outputs": [],
   "source": [
    "L2_flat=tf.reshape(L2, [-1, 7 * 7 * 32]) #Flatten\n",
    "W3 =tf.Variable(tf.random_normal([7 * 7 * 32, 10], stddev =0.01))\n",
    "b =tf.Variable(tf.random_normal([10]))\n",
    "logits =tf.matmul (L2_flat, W3) + b"
   ]
  },
  {
   "cell_type": "code",
   "execution_count": 37,
   "metadata": {},
   "outputs": [
    {
     "name": "stdout",
     "output_type": "stream",
     "text": [
      "WARNING:tensorflow:From <ipython-input-37-89f52302af20>:5: softmax_cross_entropy_with_logits (from tensorflow.python.ops.nn_ops) is deprecated and will be removed in a future version.\n",
      "Instructions for updating:\n",
      "\n",
      "Future major versions of TensorFlow will allow gradients to flow\n",
      "into the labels input on backprop by default.\n",
      "\n",
      "See `tf.nn.softmax_cross_entropy_with_logits_v2`.\n",
      "\n"
     ]
    }
   ],
   "source": [
    "# 아키텍처를 설계해보세요 - con pool 의 디자인을 바꾸는것. 호출 개수를 바꾸는 것\n",
    "# 하이퍼파타미터를 설계해보세요 - 필터 개수, 사이즈 이런걸 바꾸는 것.\n",
    "#구분할 것\n",
    "#서로다른 cnn 5개 만들어보세요\n",
    "\n",
    "learning_rate = 0.001\n",
    "loss = tf.reduce_mean(tf.nn.softmax_cross_entropy_with_logits(logits=logits, labels=y))\n",
    "optimizer = tf.train.AdamOptimizer(learning_rate=learning_rate).minimize(loss)"
   ]
  },
  {
   "cell_type": "code",
   "execution_count": 39,
   "metadata": {},
   "outputs": [],
   "source": [
    "sess = tf.Session()\n",
    "sess.run(tf.global_variables_initializer())"
   ]
  },
  {
   "cell_type": "code",
   "execution_count": 40,
   "metadata": {},
   "outputs": [],
   "source": [
    "training_epochs=10\n",
    "batch_size=100"
   ]
  },
  {
   "cell_type": "code",
   "execution_count": 42,
   "metadata": {},
   "outputs": [
    {
     "name": "stdout",
     "output_type": "stream",
     "text": [
      "Epoch: 0001 loss= 0.722796172\n",
      "Epoch: 0002 loss= 0.267389250\n",
      "Epoch: 0003 loss= 0.162899581\n",
      "Epoch: 0004 loss= 0.115962917\n",
      "Epoch: 0005 loss= 0.092872243\n",
      "Epoch: 0006 loss= 0.078940497\n",
      "Epoch: 0007 loss= 0.068956407\n",
      "Epoch: 0008 loss= 0.061201615\n",
      "Epoch: 0009 loss= 0.054840349\n",
      "Epoch: 0010 loss= 0.049408719\n"
     ]
    }
   ],
   "source": [
    "for epoch in range(training_epochs): # 눈높이를 몇번 되감느냐\n",
    "    avg_loss = 0\n",
    "    total_batch = int(X_train.shape[0]/batch_size)\n",
    "    for idx in range(total_batch):\n",
    "        num = (idx*batch_size)%(X_train.shape[0])\n",
    "        batch_xs = X_train[num:(num+batch_size)]\n",
    "        batch_ys = y_train[num:(num+batch_size)]\n",
    "        feed_dict = {X:batch_xs, y:batch_ys}\n",
    "        c, _ = sess.run([loss, optimizer], feed_dict=feed_dict)\n",
    "        avg_loss+=c/total_batch\n",
    "    print(\"Epoch:\", \"%04d\"%(epoch+1), \"loss=\", \"{:.9f}\".format(avg_loss))"
   ]
  },
  {
   "cell_type": "code",
   "execution_count": 44,
   "metadata": {},
   "outputs": [
    {
     "name": "stdout",
     "output_type": "stream",
     "text": [
      "Accuracy: 0.9773333\n"
     ]
    }
   ],
   "source": [
    "correct_prediction = tf.equal(tf.argmax(logits, 1), tf.argmax(y_test, 1))\n",
    "accuracy = tf.reduce_mean(tf.cast(correct_prediction, tf.float32))\n",
    "print(\"Accuracy:\", sess.run(accuracy, feed_dict={X:X_test, y:y_test}))"
   ]
  },
  {
   "cell_type": "code",
   "execution_count": 46,
   "metadata": {},
   "outputs": [],
   "source": [
    "from sklearn.metrics import confusion_matrix\n",
    "import itertools\n"
   ]
  },
  {
   "cell_type": "code",
   "execution_count": null,
   "metadata": {},
   "outputs": [],
   "source": [
    "# 예쁜 confusion_matrix\n",
    "def plot_confusion_matrix(pred, label, class_info):\n",
    "    cnf_matrix = confusion_matrix(label, pred)\n",
    "    plt.figure()\n",
    "    plt.imshow(chf_matrix, interpolation='nearest', cmap=plt.cm.Blues)\n",
    "    tick_marks = np.arange(len(class_info))\n",
    "    plt.xticks(tick_marks, class_info, rotation=45)\n",
    "    plt.yticks(tick_marks, class_info)\n",
    "    thresh = cnf_matrix.max()/2.\n",
    "    for i, j in itertools.product(range(cnf_matrix.shape[0]),\n",
    "                                 range(cnf_matrix.shape[1])):\n",
    "        plt.text(j, i, cnf_matrix[i,j], horizontalalignment=\"center\",\n",
    "                )\n",
    "    \n",
    "\n",
    "\n",
    "\n",
    "> def\n",
    "plot_confusion_matrix pred , label, class_info\n",
    ">\n",
    "cnf_matrix = confusion_matrix (label, pred\n",
    ">\n",
    "plt.figure\n",
    ">\n",
    "plt.imshow cnf_matrix , interpolation='nearest', cmap plt.cm.Blues\n",
    ">\n",
    "tick_marks = np.arange len class_info\n",
    ">\n",
    "plt.xticks tick_marks , class_info , rotation=\n",
    ">\n",
    "plt.yticks tick_marks , class_info\n",
    "> thresh =\n",
    "cnf_matrix.max () /\n",
    "> for\n",
    "i , j in itertools.product ( cnf_matrix.shape [0]),\n",
    "range( cnf_matrix.shape [\n",
    ">\n",
    "plt.text (j, i , cnf_matrix i , j], horizontalalignment =\"center\",\n",
    "> color=\"white\" if\n",
    "cnf_matrix i , j] > thresh else \"\n",
    ">\n",
    "plt.tight_layout\n",
    ">\n",
    "plt.ylabel ('True\n",
    ">\n",
    "plt.xlabel ('Predicted\n",
    ">\n",
    "plt.show"
   ]
  },
  {
   "cell_type": "code",
   "execution_count": null,
   "metadata": {},
   "outputs": [],
   "source": []
  },
  {
   "cell_type": "code",
   "execution_count": 48,
   "metadata": {},
   "outputs": [],
   "source": [
    "from sklearn.metrics import confusion_matrix\n",
    "prediction = tf.argmax(logits, 1) #argument중에서 max인 값을 받아준다\n",
    "pred = sess.run(prediction, feed_dict={X:X_test})"
   ]
  },
  {
   "cell_type": "code",
   "execution_count": 49,
   "metadata": {},
   "outputs": [
    {
     "name": "stdout",
     "output_type": "stream",
     "text": [
      "[3 3 4 ... 2 0 8]\n"
     ]
    }
   ],
   "source": [
    "print(pred)"
   ]
  },
  {
   "cell_type": "code",
   "execution_count": 50,
   "metadata": {},
   "outputs": [],
   "source": [
    "label = np.argmax(y_test, axis=1)"
   ]
  },
  {
   "cell_type": "code",
   "execution_count": 51,
   "metadata": {},
   "outputs": [
    {
     "name": "stdout",
     "output_type": "stream",
     "text": [
      "[[1722    0    6    0    0    0    6    0    4    1]\n",
      " [   0 1959    9    6    2    0    6    4   14    0]\n",
      " [   2    4 1792   16    0    0    0    4    8    3]\n",
      " [   1    0    5 1832    0    5    0    1    5    1]\n",
      " [   0    3    6    4 1693    0    6    2    5   22]\n",
      " [   3    0    0   27    0 1581    6    1   15    9]\n",
      " [   4    2    2    1    1    2 1708    0    4    0]\n",
      " [   2    6   15   42    3    1    0 1808    4   28]\n",
      " [   6    2    2    8    2    4    3    1 1765   11]\n",
      " [   1    2    0    8    5    1    1    3    9 1732]]\n"
     ]
    }
   ],
   "source": [
    "print(confusion_matrix(label, pred))"
   ]
  },
  {
   "cell_type": "code",
   "execution_count": null,
   "metadata": {},
   "outputs": [],
   "source": []
  }
 ],
 "metadata": {
  "kernelspec": {
   "display_name": "Python 3",
   "language": "python",
   "name": "python3"
  },
  "language_info": {
   "codemirror_mode": {
    "name": "ipython",
    "version": 3
   },
   "file_extension": ".py",
   "mimetype": "text/x-python",
   "name": "python",
   "nbconvert_exporter": "python",
   "pygments_lexer": "ipython3",
   "version": "3.7.3"
  }
 },
 "nbformat": 4,
 "nbformat_minor": 2
}
