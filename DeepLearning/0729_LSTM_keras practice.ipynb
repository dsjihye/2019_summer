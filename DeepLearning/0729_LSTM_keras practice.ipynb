{
 "cells": [
  {
   "cell_type": "code",
   "execution_count": 1,
   "metadata": {},
   "outputs": [
    {
     "data": {
      "text/html": [
       "<style>.container { width:100% !important; }</style>"
      ],
      "text/plain": [
       "<IPython.core.display.HTML object>"
      ]
     },
     "metadata": {},
     "output_type": "display_data"
    }
   ],
   "source": [
    "# For wide monitor\n",
    "from IPython.core.display import display, HTML\n",
    "display(HTML(\"<style>.container { width:100% !important; }</style>\"))"
   ]
  },
  {
   "cell_type": "code",
   "execution_count": 2,
   "metadata": {},
   "outputs": [],
   "source": [
    "import pandas as pd\n",
    "data = pd.read_csv('./IMDB Dataset.csv', engine='python')"
   ]
  },
  {
   "cell_type": "code",
   "execution_count": 3,
   "metadata": {},
   "outputs": [
    {
     "name": "stdout",
     "output_type": "stream",
     "text": [
      "(50000, 2)\n"
     ]
    }
   ],
   "source": [
    "data = data[['review', 'sentiment']]\n",
    "print(data.shape)"
   ]
  },
  {
   "cell_type": "code",
   "execution_count": 5,
   "metadata": {},
   "outputs": [],
   "source": [
    "import re\n",
    "data['review'] = data['review'].apply((lambda x: re.sub(r'[^A-Za-z0-9\\s]', '', x)))"
   ]
  },
  {
   "cell_type": "code",
   "execution_count": 6,
   "metadata": {},
   "outputs": [
    {
     "data": {
      "text/plain": [
       "0        One of the other reviewers has mentioned that ...\n",
       "1        A wonderful little production br br The filmin...\n",
       "2        I thought this was a wonderful way to spend ti...\n",
       "3        Basically theres a family where a little boy J...\n",
       "4        Petter Matteis Love in the Time of Money is a ...\n",
       "5        Probably my alltime favorite movie a story of ...\n",
       "6        I sure would like to see a resurrection of a u...\n",
       "7        This show was an amazing fresh  innovative ide...\n",
       "8        Encouraged by the positive comments about this...\n",
       "9        If you like original gut wrenching laughter yo...\n",
       "10       Phil the Alien is one of those quirky films wh...\n",
       "11       I saw this movie when I was about 12 when it c...\n",
       "12       So im not a big fan of Bolls work but then aga...\n",
       "13       The cast played Shakespearebr br Shakespeare l...\n",
       "14       This a fantastic movie of three prisoners who ...\n",
       "15       Kind of drawn in by the erotic scenes only to ...\n",
       "16       Some films just simply should not be remade Th...\n",
       "17       This movie made it into one of my top 10 most ...\n",
       "18       I remember this filmit was the first film i ha...\n",
       "19       An awful film It must have been up against som...\n",
       "20       After the success of Die Hard and its sequels ...\n",
       "21       I had the terrible misfortune of having to vie...\n",
       "22       What an absolutely stunning movie if you have ...\n",
       "23       First of all lets get a few things straight he...\n",
       "24       This was the worst movie I saw at WorldFest an...\n",
       "25       The Karen Carpenter Story shows a little more ...\n",
       "26       The Cell is an exotic masterpiece a dizzying t...\n",
       "27       This film tried to be too many things all at o...\n",
       "28       This movie was so frustrating Everything seeme...\n",
       "29       War movie is a Hollywood genre that has been d...\n",
       "                               ...                        \n",
       "49970    This movie is a total dog I found myself strai...\n",
       "49971    With several name actors Lance Henrikson David...\n",
       "49972    The future of fantasy never looked so dark Chr...\n",
       "49973    The title leads viewers to believe that this i...\n",
       "49974    For the most part Michael is a disaster  ten m...\n",
       "49975    90 minutes of MindyMindy is a tease to boyfrie...\n",
       "49976    I saw the movie in the theater at its release ...\n",
       "49977    Dog Bite Dog isnt going to be for everyone but...\n",
       "49978    Halloween is one of those movies that gets you...\n",
       "49979    I saw this with high expectations Come on it i...\n",
       "49980    A stunning film of high qualitybr br Apparentl...\n",
       "49981    And I repeat please do not see this movie This...\n",
       "49982    To be hones I used to like this show and watch...\n",
       "49983    I loved it having been a fan of the original s...\n",
       "49984    Hello it is I Derrick Cannon and I welcome you...\n",
       "49985    Imaginary Heroes is clearly the best film of t...\n",
       "49986    This movie is a disgrace to the Major League F...\n",
       "49987    A remake of Alejandro Amenabars Abre los Ojos ...\n",
       "49988    When I first tuned in on this morning news I t...\n",
       "49989    I got this one a few weeks ago and love it Its...\n",
       "49990    Lame lame lame A 90minute cringefest thats 89 ...\n",
       "49991    Les Visiteurs the first movie about the mediev...\n",
       "49992    John Garfield plays a Marine who is blinded by...\n",
       "49993    Robert Colomb has two fulltime jobs Hes known ...\n",
       "49994    This is your typical junk comedybr br There ar...\n",
       "49995    I thought this movie did a down right good job...\n",
       "49996    Bad plot bad dialogue bad acting idiotic direc...\n",
       "49997    I am a Catholic taught in parochial elementary...\n",
       "49998    Im going to have to disagree with the previous...\n",
       "49999    No one expects the Star Trek movies to be high...\n",
       "Name: review, Length: 50000, dtype: object"
      ]
     },
     "execution_count": 6,
     "metadata": {},
     "output_type": "execute_result"
    }
   ],
   "source": [
    "data.review"
   ]
  },
  {
   "cell_type": "code",
   "execution_count": 7,
   "metadata": {},
   "outputs": [
    {
     "name": "stderr",
     "output_type": "stream",
     "text": [
      "Using TensorFlow backend.\n"
     ]
    }
   ],
   "source": [
    "from keras.preprocessing.text import Tokenizer\n",
    "max_features = 2000\n",
    "tokenizer = Tokenizer(num_words=max_features, split=' ', lower=True, oov_token=True)\n",
    "tokenizer.fit_on_texts(data.review.values)"
   ]
  },
  {
   "cell_type": "code",
   "execution_count": 17,
   "metadata": {},
   "outputs": [
    {
     "data": {
      "text/html": [
       "<div>\n",
       "<style scoped>\n",
       "    .dataframe tbody tr th:only-of-type {\n",
       "        vertical-align: middle;\n",
       "    }\n",
       "\n",
       "    .dataframe tbody tr th {\n",
       "        vertical-align: top;\n",
       "    }\n",
       "\n",
       "    .dataframe thead th {\n",
       "        text-align: right;\n",
       "    }\n",
       "</style>\n",
       "<table border=\"1\" class=\"dataframe\">\n",
       "  <thead>\n",
       "    <tr style=\"text-align: right;\">\n",
       "      <th></th>\n",
       "      <th>review</th>\n",
       "      <th>sentiment</th>\n",
       "    </tr>\n",
       "  </thead>\n",
       "  <tbody>\n",
       "    <tr>\n",
       "      <th>0</th>\n",
       "      <td>One of the other reviewers has mentioned that ...</td>\n",
       "      <td>positive</td>\n",
       "    </tr>\n",
       "    <tr>\n",
       "      <th>1</th>\n",
       "      <td>A wonderful little production br br The filmin...</td>\n",
       "      <td>positive</td>\n",
       "    </tr>\n",
       "    <tr>\n",
       "      <th>2</th>\n",
       "      <td>I thought this was a wonderful way to spend ti...</td>\n",
       "      <td>positive</td>\n",
       "    </tr>\n",
       "    <tr>\n",
       "      <th>3</th>\n",
       "      <td>Basically theres a family where a little boy J...</td>\n",
       "      <td>negative</td>\n",
       "    </tr>\n",
       "    <tr>\n",
       "      <th>4</th>\n",
       "      <td>Petter Matteis Love in the Time of Money is a ...</td>\n",
       "      <td>positive</td>\n",
       "    </tr>\n",
       "  </tbody>\n",
       "</table>\n",
       "</div>"
      ],
      "text/plain": [
       "                                              review sentiment\n",
       "0  One of the other reviewers has mentioned that ...  positive\n",
       "1  A wonderful little production br br The filmin...  positive\n",
       "2  I thought this was a wonderful way to spend ti...  positive\n",
       "3  Basically theres a family where a little boy J...  negative\n",
       "4  Petter Matteis Love in the Time of Money is a ...  positive"
      ]
     },
     "execution_count": 17,
     "metadata": {},
     "output_type": "execute_result"
    }
   ],
   "source": [
    "data.head()"
   ]
  },
  {
   "cell_type": "code",
   "execution_count": 8,
   "metadata": {},
   "outputs": [
    {
     "name": "stdout",
     "output_type": "stream",
     "text": [
      "Data Shape:  (50000, 40)\n",
      "Label Shape:  (50000, 2)\n"
     ]
    }
   ],
   "source": [
    "from keras.preprocessing.sequence import pad_sequences\n",
    "# pad_sequences: 길이가 같지 않고 적거나 많을 때 일정한 길이로 맞춰 줄 때 사용\n",
    "# 문장의 길이를 maxlen 인자로 맞춰줌. 예를 들어, 200으로 지정했다면 200보다 짧은 문장은 0으로 채워서 200 단어로 맞춰주고 200보다 긴 문장은 200단어까지만 잘라냄\n",
    "# (num_samples, num_timesteps)으로 2차원의 numpy 배열로 만들어줌. maxlen을 200으로 지정했다면, num_timestamps도 200이 됨.\n",
    "max_sentence_len = 40\n",
    "X = tokenizer.texts_to_sequences(data.review.values)\n",
    "X = pad_sequences(X, maxlen = max_sentence_len)\n",
    "Y = pd.get_dummies(data.sentiment).values\n",
    "print(\"Data Shape: \", X.shape)\n",
    "print(\"Label Shape: \", Y.shape)"
   ]
  },
  {
   "cell_type": "code",
   "execution_count": 19,
   "metadata": {},
   "outputs": [
    {
     "data": {
      "text/plain": [
       "40"
      ]
     },
     "execution_count": 19,
     "metadata": {},
     "output_type": "execute_result"
    }
   ],
   "source": [
    "X.shape[1]"
   ]
  },
  {
   "cell_type": "code",
   "execution_count": 9,
   "metadata": {},
   "outputs": [
    {
     "name": "stdout",
     "output_type": "stream",
     "text": [
      "(25000, 2) (25000, 40)\n",
      "(25000, 2) (25000, 40)\n"
     ]
    }
   ],
   "source": [
    "from sklearn.model_selection import train_test_split\n",
    "X_train, X_test, Y_train, Y_test = train_test_split(X, Y, test_size=0.5, random_state=1)\n",
    "print(Y_train.shape, X_train.shape)\n",
    "print(Y_test.shape, X_test.shape)"
   ]
  },
  {
   "cell_type": "code",
   "execution_count": 11,
   "metadata": {},
   "outputs": [
    {
     "name": "stdout",
     "output_type": "stream",
     "text": [
      "WARNING:tensorflow:From C:\\Users\\ehdry\\.conda\\envs\\tensorflow\\lib\\site-packages\\tensorflow\\python\\framework\\op_def_library.py:263: colocate_with (from tensorflow.python.framework.ops) is deprecated and will be removed in a future version.\n",
      "Instructions for updating:\n",
      "Colocations handled automatically by placer.\n",
      "WARNING:tensorflow:From C:\\Users\\ehdry\\.conda\\envs\\tensorflow\\lib\\site-packages\\keras\\backend\\tensorflow_backend.py:3445: calling dropout (from tensorflow.python.ops.nn_ops) with keep_prob is deprecated and will be removed in a future version.\n",
      "Instructions for updating:\n",
      "Please use `rate` instead of `keep_prob`. Rate should be set to `rate = 1 - keep_prob`.\n",
      "_________________________________________________________________\n",
      "Layer (type)                 Output Shape              Param #   \n",
      "=================================================================\n",
      "embedding_1 (Embedding)      (None, 40, 256)           512000    \n",
      "_________________________________________________________________\n",
      "lstm_1 (LSTM)                (None, 128)               197120    \n",
      "_________________________________________________________________\n",
      "dense_1 (Dense)              (None, 2)                 258       \n",
      "=================================================================\n",
      "Total params: 709,378\n",
      "Trainable params: 709,378\n",
      "Non-trainable params: 0\n",
      "_________________________________________________________________\n"
     ]
    }
   ],
   "source": [
    "# https://tykimos.github.io/2017/08/17/Text_Input_Binary_Classification_Model_Recipe/\n",
    "# 순환 신경망 모델\n",
    "# 임베딩 레이어 다음에 LSTM레이어가 오는 경우에는 임베딩 레이어에 input_length 인자를 따로 설정할 필요는 없음. \n",
    "# 입력 문장의 길이에 따라 input_length가 자동으로 정해지고, 이것이 LSTM 레이어에는 timesteps으로 입력되기 때문.\n",
    "\n",
    "from keras.models import Sequential\n",
    "from keras.layers import LSTM, Embedding, Dense\n",
    "embed_dim = 256\n",
    "\n",
    "# 이 네트워크는 하나의 LSTM 층과 그 뒤에 Dense 분류기가 뒤따릅니다. 분류기는 가능한 모든 글자에 대한 소프트맥스 출력을 만듭니다.\n",
    "model = Sequential()\n",
    "# keras.layers.Embedding(input_dim, output_dim, embeddings_initializer='uniform', embeddings_regularizer=None, activity_regularizer=None, embeddings_constraint=None, mask_zero=False, input_length=None)\n",
    "# embedding: 단어를 의미론적 기하공간에 매핑할 수 있도록 벡터화시킨다.\n",
    "# embedding layer 첫번째 인자(input_dim): 단어 사전의 크기를 말하며 총 2,000개의 단어 종류가 있다는 의미임\n",
    "# 두번째 인자(output_dim): 단어를 인코딩한 후 나오는 벡터 크기. 이 값이 256이라면 단어를 256차원의 의미론적 기하공간에 나타낸다는 것. \n",
    "# 단순하게 빈도수만으로 단어를 표시한다면, 10과 11은 빈도수는 비슷하지만 단어로 볼 때는 전혀 다른 의미를 가지고 있음\n",
    "# 하지만 의미론적으로 잘 설계된 공간에 위치시켜 벡터로 수치화 시킨다고 볼 수 있음\n",
    "# input_length: 단어의 수 즉 문장의 길이를 나타냄. 임베딩 레이어의 출력 크기는 샘플 수 *output_dim*input_length가 됨\n",
    "# 임베딩 레이어 다음에 Flatten 레이어가 온다면 반드시 input_length를 지정해야함. 플래튼 레이어인 경우 입력 크기를 알아야 이를 1차원으로 만들어서 dense레이어에 전달할 수 있기 때문.\n",
    "model.add(Embedding(max_features, embed_dim, input_length=X.shape[1]))\n",
    "\n",
    "model.add(LSTM(128, activation='relu', dropout=0.5))\n",
    "# dense: 은닉층\n",
    "model.add(Dense(2, activation='softmax'))\n",
    "model.summary()"
   ]
  },
  {
   "cell_type": "code",
   "execution_count": 13,
   "metadata": {},
   "outputs": [
    {
     "name": "stdout",
     "output_type": "stream",
     "text": [
      "Train on 25000 samples, validate on 25000 samples\n",
      "Epoch 1/100\n",
      " - 36s - loss: 0.2015 - acc: 0.9208 - val_loss: 1.0673 - val_acc: 0.7550\n",
      "Epoch 2/100\n",
      " - 26s - loss: 0.1052 - acc: 0.9568 - val_loss: 1.3389 - val_acc: 0.7512\n",
      "Epoch 3/100\n",
      " - 27s - loss: 0.0885 - acc: 0.9633 - val_loss: 1.4993 - val_acc: 0.7500\n",
      "Epoch 4/100\n",
      " - 26s - loss: 0.0806 - acc: 0.9651 - val_loss: 1.6044 - val_acc: 0.7510\n",
      "Epoch 5/100\n",
      " - 25s - loss: 0.0800 - acc: 0.9660 - val_loss: 1.5690 - val_acc: 0.7465\n",
      "Epoch 6/100\n",
      " - 25s - loss: 0.0844 - acc: 0.9649 - val_loss: 1.6636 - val_acc: 0.7482\n",
      "Epoch 7/100\n",
      " - 26s - loss: 0.0774 - acc: 0.9678 - val_loss: 1.6066 - val_acc: 0.7433\n",
      "Epoch 8/100\n",
      " - 25s - loss: 0.0722 - acc: 0.9702 - val_loss: 1.6779 - val_acc: 0.7463\n",
      "Epoch 9/100\n",
      " - 24s - loss: 0.0691 - acc: 0.9718 - val_loss: 1.7068 - val_acc: 0.7476\n",
      "Epoch 10/100\n",
      " - 26s - loss: 0.0701 - acc: 0.9711 - val_loss: 1.7767 - val_acc: 0.7460\n",
      "Epoch 11/100\n",
      " - 25s - loss: 0.0707 - acc: 0.9712 - val_loss: 1.6967 - val_acc: 0.7452\n",
      "Epoch 12/100\n",
      " - 27s - loss: 0.0657 - acc: 0.9738 - val_loss: 1.7164 - val_acc: 0.7462\n",
      "Epoch 13/100\n",
      " - 26s - loss: 0.0626 - acc: 0.9763 - val_loss: 1.7672 - val_acc: 0.7424\n",
      "Epoch 14/100\n",
      " - 26s - loss: 0.0604 - acc: 0.9760 - val_loss: 1.8770 - val_acc: 0.7466\n",
      "Epoch 15/100\n",
      " - 25s - loss: 0.0596 - acc: 0.9765 - val_loss: 1.8407 - val_acc: 0.7477\n",
      "Epoch 16/100\n",
      " - 26s - loss: 0.0610 - acc: 0.9762 - val_loss: 1.7883 - val_acc: 0.7470\n",
      "Epoch 17/100\n",
      " - 25s - loss: 0.0557 - acc: 0.9786 - val_loss: 1.8734 - val_acc: 0.7464\n",
      "Epoch 18/100\n",
      " - 25s - loss: 0.0581 - acc: 0.9776 - val_loss: 1.8255 - val_acc: 0.7403\n",
      "Epoch 19/100\n",
      " - 25s - loss: 0.0538 - acc: 0.9790 - val_loss: 1.7617 - val_acc: 0.7424\n",
      "Epoch 20/100\n",
      " - 24s - loss: 0.0513 - acc: 0.9808 - val_loss: 1.7684 - val_acc: 0.7455\n",
      "Epoch 21/100\n",
      " - 24s - loss: 0.0484 - acc: 0.9829 - val_loss: 1.8712 - val_acc: 0.7450\n",
      "Epoch 22/100\n",
      " - 26s - loss: 0.0493 - acc: 0.9830 - val_loss: 1.8033 - val_acc: 0.7469\n",
      "Epoch 23/100\n",
      " - 26s - loss: 0.0507 - acc: 0.9818 - val_loss: 1.8315 - val_acc: 0.7437\n",
      "Epoch 24/100\n",
      " - 25s - loss: 0.0463 - acc: 0.9834 - val_loss: 1.8938 - val_acc: 0.7438\n",
      "Epoch 25/100\n",
      " - 25s - loss: 0.0461 - acc: 0.9837 - val_loss: 1.8522 - val_acc: 0.7411\n",
      "Epoch 26/100\n",
      " - 25s - loss: 0.0530 - acc: 0.9811 - val_loss: 1.8061 - val_acc: 0.7446\n",
      "Epoch 27/100\n",
      " - 26s - loss: 0.0533 - acc: 0.9809 - val_loss: 1.8190 - val_acc: 0.7412\n",
      "Epoch 28/100\n",
      " - 29s - loss: 0.0445 - acc: 0.9843 - val_loss: 1.8559 - val_acc: 0.7442\n",
      "Epoch 29/100\n",
      " - 27s - loss: 0.0416 - acc: 0.9843 - val_loss: 1.8976 - val_acc: 0.7477\n",
      "Epoch 30/100\n",
      " - 29s - loss: 0.0400 - acc: 0.9856 - val_loss: 1.9904 - val_acc: 0.7468\n",
      "Epoch 31/100\n",
      " - 32s - loss: 0.0408 - acc: 0.9856 - val_loss: 1.9523 - val_acc: 0.7458\n",
      "Epoch 32/100\n",
      " - 29s - loss: 0.0356 - acc: 0.9881 - val_loss: 1.9345 - val_acc: 0.7423\n",
      "Epoch 33/100\n",
      " - 26s - loss: 0.0385 - acc: 0.9871 - val_loss: 1.9965 - val_acc: 0.7432\n",
      "Epoch 34/100\n",
      " - 25s - loss: 0.0419 - acc: 0.9861 - val_loss: 1.9225 - val_acc: 0.7417\n",
      "Epoch 35/100\n",
      " - 25s - loss: 0.0394 - acc: 0.9867 - val_loss: 1.9900 - val_acc: 0.7496\n",
      "Epoch 36/100\n",
      " - 25s - loss: 0.0320 - acc: 0.9897 - val_loss: 1.9788 - val_acc: 0.7416\n",
      "Epoch 37/100\n",
      " - 25s - loss: 0.0319 - acc: 0.9890 - val_loss: 2.0154 - val_acc: 0.7419\n",
      "Epoch 38/100\n",
      " - 25s - loss: 0.0285 - acc: 0.9902 - val_loss: 2.1079 - val_acc: 0.7439\n",
      "Epoch 39/100\n",
      " - 26s - loss: 0.0257 - acc: 0.9911 - val_loss: 2.0090 - val_acc: 0.7413\n",
      "Epoch 40/100\n",
      " - 26s - loss: 0.0268 - acc: 0.9910 - val_loss: 2.1084 - val_acc: 0.7459\n",
      "Epoch 41/100\n",
      " - 25s - loss: 0.0238 - acc: 0.9921 - val_loss: 2.1636 - val_acc: 0.7411\n",
      "Epoch 42/100\n",
      " - 25s - loss: 0.0288 - acc: 0.9903 - val_loss: 2.0979 - val_acc: 0.7426\n",
      "Epoch 43/100\n",
      " - 24s - loss: 0.0285 - acc: 0.9903 - val_loss: 2.0524 - val_acc: 0.7471\n",
      "Epoch 44/100\n",
      " - 25s - loss: 0.0291 - acc: 0.9904 - val_loss: 2.0487 - val_acc: 0.7465\n",
      "Epoch 45/100\n",
      " - 24s - loss: 0.0272 - acc: 0.9914 - val_loss: 2.1478 - val_acc: 0.7375\n",
      "Epoch 46/100\n",
      " - 25s - loss: 0.0317 - acc: 0.9892 - val_loss: 2.1158 - val_acc: 0.7444\n",
      "Epoch 47/100\n",
      " - 25s - loss: 0.0261 - acc: 0.9910 - val_loss: 2.1216 - val_acc: 0.7410\n",
      "Epoch 48/100\n",
      " - 24s - loss: 0.0251 - acc: 0.9925 - val_loss: 2.0379 - val_acc: 0.7470\n",
      "Epoch 49/100\n",
      " - 25s - loss: 0.0238 - acc: 0.9929 - val_loss: 2.1543 - val_acc: 0.7431\n",
      "Epoch 50/100\n",
      " - 23s - loss: 0.0206 - acc: 0.9936 - val_loss: 2.1582 - val_acc: 0.7431\n",
      "Epoch 51/100\n",
      " - 26s - loss: 0.0226 - acc: 0.9920 - val_loss: 2.1863 - val_acc: 0.7458\n",
      "Epoch 52/100\n",
      " - 27s - loss: 0.0211 - acc: 0.9937 - val_loss: 2.1606 - val_acc: 0.7422\n",
      "Epoch 53/100\n",
      " - 23s - loss: 0.0175 - acc: 0.9943 - val_loss: 2.1847 - val_acc: 0.7403\n",
      "Epoch 54/100\n",
      " - 24s - loss: 0.0189 - acc: 0.9936 - val_loss: 2.1825 - val_acc: 0.7498\n",
      "Epoch 55/100\n",
      " - 24s - loss: 0.0202 - acc: 0.9933 - val_loss: 2.2477 - val_acc: 0.7396\n",
      "Epoch 56/100\n",
      " - 23s - loss: 0.0258 - acc: 0.9926 - val_loss: 2.2267 - val_acc: 0.7398\n",
      "Epoch 57/100\n",
      " - 24s - loss: 0.0195 - acc: 0.9942 - val_loss: 2.2319 - val_acc: 0.7443\n",
      "Epoch 58/100\n",
      " - 23s - loss: 0.0277 - acc: 0.9909 - val_loss: 2.2064 - val_acc: 0.7428\n",
      "Epoch 59/100\n",
      " - 24s - loss: 0.0399 - acc: 0.9875 - val_loss: 2.0500 - val_acc: 0.7414\n",
      "Epoch 60/100\n",
      " - 23s - loss: 0.0252 - acc: 0.9922 - val_loss: 2.1031 - val_acc: 0.7452\n",
      "Epoch 61/100\n",
      " - 24s - loss: 0.0194 - acc: 0.9942 - val_loss: 2.1570 - val_acc: 0.7472\n",
      "Epoch 62/100\n",
      " - 24s - loss: 0.0203 - acc: 0.9934 - val_loss: 2.1058 - val_acc: 0.7456\n",
      "Epoch 63/100\n",
      " - 23s - loss: 0.0179 - acc: 0.9948 - val_loss: 2.1876 - val_acc: 0.7413\n",
      "Epoch 64/100\n",
      " - 25s - loss: 0.0226 - acc: 0.9928 - val_loss: 2.1745 - val_acc: 0.7439\n",
      "Epoch 65/100\n",
      " - 26s - loss: 0.0156 - acc: 0.9948 - val_loss: 2.1790 - val_acc: 0.7412\n",
      "Epoch 66/100\n",
      " - 23s - loss: 0.0154 - acc: 0.9955 - val_loss: 2.1529 - val_acc: 0.7429\n",
      "Epoch 67/100\n",
      " - 24s - loss: 0.0139 - acc: 0.9959 - val_loss: 2.1516 - val_acc: 0.7472\n",
      "Epoch 68/100\n",
      " - 23s - loss: 0.0143 - acc: 0.9957 - val_loss: 2.2681 - val_acc: 0.7461\n",
      "Epoch 69/100\n",
      " - 24s - loss: 0.0105 - acc: 0.9971 - val_loss: 2.2337 - val_acc: 0.7413\n",
      "Epoch 70/100\n",
      " - 23s - loss: 0.0120 - acc: 0.9964 - val_loss: 2.3496 - val_acc: 0.7433\n",
      "Epoch 71/100\n",
      " - 24s - loss: 0.0139 - acc: 0.9960 - val_loss: 2.2157 - val_acc: 0.7434\n",
      "Epoch 72/100\n",
      " - 24s - loss: 0.0120 - acc: 0.9963 - val_loss: 2.2711 - val_acc: 0.7478\n",
      "Epoch 73/100\n",
      " - 23s - loss: 0.0144 - acc: 0.9960 - val_loss: 2.1797 - val_acc: 0.7437\n",
      "Epoch 74/100\n",
      " - 24s - loss: 0.0167 - acc: 0.9946 - val_loss: 2.3496 - val_acc: 0.7441\n",
      "Epoch 75/100\n",
      " - 23s - loss: 0.0148 - acc: 0.9954 - val_loss: 2.3251 - val_acc: 0.7432\n",
      "Epoch 76/100\n",
      " - 24s - loss: 0.0111 - acc: 0.9964 - val_loss: 2.3500 - val_acc: 0.7418\n",
      "Epoch 77/100\n",
      " - 25s - loss: 0.0133 - acc: 0.9958 - val_loss: 2.2088 - val_acc: 0.7459\n",
      "Epoch 78/100\n",
      " - 26s - loss: 0.0147 - acc: 0.9956 - val_loss: 2.2684 - val_acc: 0.7472\n",
      "Epoch 79/100\n",
      " - 24s - loss: 0.0143 - acc: 0.9964 - val_loss: 2.1976 - val_acc: 0.7474\n",
      "Epoch 80/100\n",
      " - 23s - loss: 0.0154 - acc: 0.9950 - val_loss: 2.2150 - val_acc: 0.7435\n",
      "Epoch 81/100\n",
      " - 24s - loss: 0.0182 - acc: 0.9949 - val_loss: 2.3261 - val_acc: 0.7432\n",
      "Epoch 82/100\n",
      " - 24s - loss: 0.0213 - acc: 0.9936 - val_loss: 2.1780 - val_acc: 0.7511\n",
      "Epoch 83/100\n",
      " - 23s - loss: 0.0165 - acc: 0.9950 - val_loss: 2.2112 - val_acc: 0.7456\n",
      "Epoch 84/100\n",
      " - 23s - loss: 0.0127 - acc: 0.9958 - val_loss: 2.2889 - val_acc: 0.7423\n",
      "Epoch 85/100\n",
      " - 23s - loss: 0.0121 - acc: 0.9962 - val_loss: 2.2757 - val_acc: 0.7431\n",
      "Epoch 86/100\n",
      " - 24s - loss: 0.0109 - acc: 0.9963 - val_loss: 2.2801 - val_acc: 0.7430\n",
      "Epoch 87/100\n",
      " - 24s - loss: 0.0098 - acc: 0.9972 - val_loss: 2.2687 - val_acc: 0.7411\n",
      "Epoch 88/100\n",
      " - 23s - loss: 0.0103 - acc: 0.9969 - val_loss: 2.3169 - val_acc: 0.7442\n",
      "Epoch 89/100\n",
      " - 23s - loss: 0.0081 - acc: 0.9974 - val_loss: 2.3126 - val_acc: 0.7441\n",
      "Epoch 90/100\n",
      " - 25s - loss: 0.0100 - acc: 0.9971 - val_loss: 2.2127 - val_acc: 0.7480\n",
      "Epoch 91/100\n",
      " - 26s - loss: 0.0091 - acc: 0.9970 - val_loss: 2.3344 - val_acc: 0.7466\n",
      "Epoch 92/100\n",
      " - 24s - loss: 0.0125 - acc: 0.9965 - val_loss: 2.2220 - val_acc: 0.7411\n",
      "Epoch 93/100\n",
      " - 23s - loss: 0.0136 - acc: 0.9952 - val_loss: 2.2618 - val_acc: 0.7448\n",
      "Epoch 94/100\n",
      " - 23s - loss: 0.0132 - acc: 0.9962 - val_loss: 2.2785 - val_acc: 0.7432\n",
      "Epoch 95/100\n",
      " - 24s - loss: 0.0115 - acc: 0.9967 - val_loss: 2.2961 - val_acc: 0.7476\n"
     ]
    },
    {
     "name": "stdout",
     "output_type": "stream",
     "text": [
      "Epoch 96/100\n",
      " - 23s - loss: 0.0100 - acc: 0.9971 - val_loss: 2.2902 - val_acc: 0.7457\n",
      "Epoch 97/100\n",
      " - 24s - loss: 0.0096 - acc: 0.9977 - val_loss: 2.2963 - val_acc: 0.7461\n",
      "Epoch 98/100\n",
      " - 23s - loss: 0.0106 - acc: 0.9964 - val_loss: 2.3471 - val_acc: 0.7417\n",
      "Epoch 99/100\n",
      " - 23s - loss: 0.0141 - acc: 0.9959 - val_loss: 2.3244 - val_acc: 0.7494\n",
      "Epoch 100/100\n",
      " - 1260s - loss: 0.0147 - acc: 0.9953 - val_loss: 2.2731 - val_acc: 0.7454\n"
     ]
    }
   ],
   "source": [
    "model.compile(loss='categorical_crossentropy', optimizer='adam', metrics=['acc'])\n",
    "# optimizer: 훈련 과정을 설정. \n",
    "# loss: 최적화 과정에서 최소화될 손실 함수를 설정\n",
    "# metrics: 훈련을 모니터링하기 위해 사용됨.\n",
    "\n",
    "history = model.fit(X_train, Y_train, validation_data=(X_test, Y_test),\n",
    "                   epochs=100, batch_size=1000, shuffle=True, verbose=2)"
   ]
  },
  {
   "cell_type": "code",
   "execution_count": 14,
   "metadata": {},
   "outputs": [
    {
     "data": {
      "image/png": "[encoded data removed]",
      "text/plain": [
       "<Figure size 432x288 with 1 Axes>"
      ]
     },
     "metadata": {
      "needs_background": "light"
     },
     "output_type": "display_data"
    },
    {
     "data": {
      "image/png": "[encoded data removed]",
      "text/plain": [
       "<Figure size 432x288 with 1 Axes>"
      ]
     },
     "metadata": {
      "needs_background": "light"
     },
     "output_type": "display_data"
    }
   ],
   "source": [
    "%matplotlib inline\n",
    "import matplotlib.pyplot as plt\n",
    "plt.plot(history.history['loss'])\n",
    "plt.plot(history.history['val_loss'])\n",
    "plt.show()\n",
    "plt.plot(history.history['acc'])\n",
    "plt.plot(history.history['val_acc'])\n",
    "plt.show()"
   ]
  },
  {
   "cell_type": "code",
   "execution_count": 15,
   "metadata": {},
   "outputs": [
    {
     "name": "stdout",
     "output_type": "stream",
     "text": [
      "Positive\n"
     ]
    }
   ],
   "source": [
    "import numpy as np\n",
    "sentence = 'I love bvanilla super'\n",
    "sentence = tokenizer.texts_to_sequences([sentence])\n",
    "sentence= pad_sequences(sentence, maxlen=max_sentence_len, dtype='int32', value=0)\n",
    "sentiment =model.predict(sentence)[0]\n",
    "if(np.argmax(sentiment)==0):\n",
    "    print(\"Negative\")\n",
    "else:\n",
    "    print(\"Positive\")"
   ]
  },
  {
   "cell_type": "code",
   "execution_count": null,
   "metadata": {},
   "outputs": [],
   "source": []
  }
 ],
 "metadata": {
  "kernelspec": {
   "display_name": "Python 3",
   "language": "python",
   "name": "python3"
  },
  "language_info": {
   "codemirror_mode": {
    "name": "ipython",
    "version": 3
   },
   "file_extension": ".py",
   "mimetype": "text/x-python",
   "name": "python",
   "nbconvert_exporter": "python",
   "pygments_lexer": "ipython3",
   "version": "3.7.3"
  }
 },
 "nbformat": 4,
 "nbformat_minor": 2
}
