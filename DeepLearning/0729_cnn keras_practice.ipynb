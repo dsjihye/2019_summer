{
 "cells": [
  {
   "cell_type": "code",
   "execution_count": 1,
   "metadata": {},
   "outputs": [
    {
     "name": "stderr",
     "output_type": "stream",
     "text": [
      "Using TensorFlow backend.\n"
     ]
    }
   ],
   "source": [
    "# Import Libs\n",
    "%matplotlib inline\n",
    "import numpy as np\n",
    "import pandas as pd\n",
    "import matplotlib.pyplot as plt\n",
    "import tensorflow as tf\n",
    "from keras.utils import np_utils\n",
    "from keras.models import Model\n",
    "from keras.layers import Input, Reshape, Flatten, Dense, Conv2D, MaxPool2D, Dropout, BatchNormalization, UpSampling2D\n",
    "from sklearn.model_selection import train_test_split\n",
    "from sklearn.metrics import confusion_matrix"
   ]
  },
  {
   "cell_type": "code",
   "execution_count": 2,
   "metadata": {},
   "outputs": [
    {
     "data": {
      "text/html": [
       "<style>.container { width:100% !important; }</style>"
      ],
      "text/plain": [
       "<IPython.core.display.HTML object>"
      ]
     },
     "metadata": {},
     "output_type": "display_data"
    }
   ],
   "source": [
    "# For wide monitor\n",
    "from IPython.core.display import display, HTML\n",
    "display(HTML(\"<style>.container { width:100% !important; }</style>\"))"
   ]
  },
  {
   "cell_type": "code",
   "execution_count": 3,
   "metadata": {},
   "outputs": [
    {
     "name": "stdout",
     "output_type": "stream",
     "text": [
      "(59999, 785)\n"
     ]
    }
   ],
   "source": [
    "# Load Dataset\n",
    "mnist_csv = pd.read_csv(\"./mnist_train.csv\", header=None, skiprows=1).values\n",
    "print(mnist_csv.shape)"
   ]
  },
  {
   "cell_type": "code",
   "execution_count": 5,
   "metadata": {},
   "outputs": [
    {
     "name": "stdout",
     "output_type": "stream",
     "text": [
      "(41999, 785)\n",
      "(18000, 785)\n"
     ]
    }
   ],
   "source": [
    "# Split\n",
    "train, test = train_test_split(mnist_csv, test_size=0.3, random_state=1)\n",
    "print(train.shape)\n",
    "print(test.shape)"
   ]
  },
  {
   "cell_type": "code",
   "execution_count": 7,
   "metadata": {},
   "outputs": [
    {
     "name": "stdout",
     "output_type": "stream",
     "text": [
      "(41999, 10) (41999, 784)\n",
      "(41999, 10) (18000, 784)\n"
     ]
    }
   ],
   "source": [
    "# X, Y def.\n",
    "Y_train, X_train = np_utils.to_categorical(train[:,0]), train[:, 1:]\n",
    "Y_test, X_test = np_utils.to_categorical(test[:,0]), test[:, 1:]\n",
    "print(Y_train.shape, X_train.shape)\n",
    "print(Y_train.shape, X_test.shape)"
   ]
  },
  {
   "cell_type": "code",
   "execution_count": 8,
   "metadata": {},
   "outputs": [],
   "source": [
    "# Normalization\n",
    "X_train = (X_train)/255.\n",
    "X_test = (X_test)/255."
   ]
  },
  {
   "cell_type": "code",
   "execution_count": 9,
   "metadata": {},
   "outputs": [
    {
     "data": {
      "text/plain": [
       "<matplotlib.image.AxesImage at 0x21fa63d7e10>"
      ]
     },
     "execution_count": 9,
     "metadata": {},
     "output_type": "execute_result"
    },
    {
     "data": {
      "image/png": "[encoded data removed]",
      "text/plain": [
       "<Figure size 432x288 with 1 Axes>"
      ]
     },
     "metadata": {
      "needs_background": "light"
     },
     "output_type": "display_data"
    }
   ],
   "source": [
    "plt.imshow(np.reshape(X_train[0], (28,28)), cmap=plt.cm.gray_r)"
   ]
  },
  {
   "cell_type": "code",
   "execution_count": 11,
   "metadata": {},
   "outputs": [
    {
     "name": "stdout",
     "output_type": "stream",
     "text": [
      "WARNING:tensorflow:From C:\\Users\\ehdry\\.conda\\envs\\tensorflow\\lib\\site-packages\\keras\\backend\\tensorflow_backend.py:3445: calling dropout (from tensorflow.python.ops.nn_ops) with keep_prob is deprecated and will be removed in a future version.\n",
      "Instructions for updating:\n",
      "Please use `rate` instead of `keep_prob`. Rate should be set to `rate = 1 - keep_prob`.\n"
     ]
    }
   ],
   "source": [
    "# Define Model\n",
    "cnn_input = Input((784,)) # input으로 첫번째 차원이 784인 2D텐서만 입력으로 받는 층을 생성\n",
    "H = Reshape((28, 28, 1))(cnn_input)\n",
    "# CPCP\n",
    "H = Conv2D(filters=32, kernel_size=(2, 2), padding='same', activation='tanh')(H)\n",
    "H = MaxPool2D((2, 2))(H)\n",
    "H = Conv2D(filters=32, kernel_size=(2, 2), padding='same', activation='tanh')(H)\n",
    "H = MaxPool2D((2, 2))(H)\n",
    "H = BatchNormalization()(H)\n",
    "H = Dropout(0.5)(H)\n",
    "# dropout: 여러 개의 모델을 만드는 대신에 모델 결합에 의한 투표효과와 비슷한 효과를 내기 위해 학습 사이클이 진행되는 동안 무작위로 일부 뉴런을 생략한다.\n",
    "\n",
    "# MLP\n",
    "H = Flatten()(H)\n",
    "# 일차원으로 바꿔주는 flatten layer\n",
    "# cnn에서 컨볼루션 레이어나 맥스풀링 레이어를 반복적으로 거치면 주요 특징만 추출되고, 추출된 주요 특징은 전결합층에 전달되어 학습됨.\n",
    "# 컨볼루션 레이어나 맥스풀링 레이어는 주로 2차원 자료를 다루지만 전결합층에 전달하기 위해선 1차원 자료로 바꿔줘야 함. \n",
    "H = Dense(512, activation='tanh')(H)\n",
    "H = BatchNormalization()(H)\n",
    "H = Dense(64, activation='tanh')(H)\n",
    "H = BatchNormalization()(H)\n",
    "cnn_output = Dense(10, activation='softmax')(H)\n",
    "# Compile CNN\n",
    "cnn_model = Model(cnn_input, cnn_output)\n",
    "cnn_model.compile(loss='categorical_crossentropy', optimizer='adam', metrics=['acc'])"
   ]
  },
  {
   "cell_type": "code",
   "execution_count": 12,
   "metadata": {},
   "outputs": [
    {
     "name": "stdout",
     "output_type": "stream",
     "text": [
      "_________________________________________________________________\n",
      "Layer (type)                 Output Shape              Param #   \n",
      "=================================================================\n",
      "input_2 (InputLayer)         (None, 784)               0         \n",
      "_________________________________________________________________\n",
      "reshape_2 (Reshape)          (None, 28, 28, 1)         0         \n",
      "_________________________________________________________________\n",
      "conv2d_3 (Conv2D)            (None, 28, 28, 32)        160       \n",
      "_________________________________________________________________\n",
      "max_pooling2d_3 (MaxPooling2 (None, 14, 14, 32)        0         \n",
      "_________________________________________________________________\n",
      "conv2d_4 (Conv2D)            (None, 14, 14, 32)        4128      \n",
      "_________________________________________________________________\n",
      "max_pooling2d_4 (MaxPooling2 (None, 7, 7, 32)          0         \n",
      "_________________________________________________________________\n",
      "batch_normalization_1 (Batch (None, 7, 7, 32)          128       \n",
      "_________________________________________________________________\n",
      "dropout_1 (Dropout)          (None, 7, 7, 32)          0         \n",
      "_________________________________________________________________\n",
      "flatten_1 (Flatten)          (None, 1568)              0         \n",
      "_________________________________________________________________\n",
      "dense_1 (Dense)              (None, 512)               803328    \n",
      "_________________________________________________________________\n",
      "batch_normalization_2 (Batch (None, 512)               2048      \n",
      "_________________________________________________________________\n",
      "dense_2 (Dense)              (None, 64)                32832     \n",
      "_________________________________________________________________\n",
      "batch_normalization_3 (Batch (None, 64)                256       \n",
      "_________________________________________________________________\n",
      "dense_3 (Dense)              (None, 10)                650       \n",
      "=================================================================\n",
      "Total params: 843,530\n",
      "Trainable params: 842,314\n",
      "Non-trainable params: 1,216\n",
      "_________________________________________________________________\n"
     ]
    }
   ],
   "source": [
    "# Model Summary\n",
    "cnn_model.summary()"
   ]
  },
  {
   "cell_type": "code",
   "execution_count": 13,
   "metadata": {},
   "outputs": [
    {
     "name": "stdout",
     "output_type": "stream",
     "text": [
      "WARNING:tensorflow:From C:\\Users\\ehdry\\.conda\\envs\\tensorflow\\lib\\site-packages\\tensorflow\\python\\ops\\math_ops.py:3066: to_int32 (from tensorflow.python.ops.math_ops) is deprecated and will be removed in a future version.\n",
      "Instructions for updating:\n",
      "Use tf.cast instead.\n",
      "Train on 41999 samples, validate on 18000 samples\n",
      "Epoch 1/10\n",
      " - 41s - loss: 0.3477 - acc: 0.8928 - val_loss: 0.1758 - val_acc: 0.9467\n",
      "Epoch 2/10\n",
      " - 39s - loss: 0.1325 - acc: 0.9606 - val_loss: 0.1064 - val_acc: 0.9683\n",
      "Epoch 3/10\n",
      " - 40s - loss: 0.0938 - acc: 0.9714 - val_loss: 0.0791 - val_acc: 0.9759\n",
      "Epoch 4/10\n",
      " - 43s - loss: 0.0752 - acc: 0.9769 - val_loss: 0.0579 - val_acc: 0.9823\n",
      "Epoch 5/10\n",
      " - 42s - loss: 0.0681 - acc: 0.9789 - val_loss: 0.0605 - val_acc: 0.9822\n",
      "Epoch 6/10\n",
      " - 41s - loss: 0.0549 - acc: 0.9831 - val_loss: 0.0516 - val_acc: 0.9840\n",
      "Epoch 7/10\n",
      " - 41s - loss: 0.0535 - acc: 0.9830 - val_loss: 0.0465 - val_acc: 0.9862\n",
      "Epoch 8/10\n",
      " - 41s - loss: 0.0410 - acc: 0.9870 - val_loss: 0.0482 - val_acc: 0.9862\n",
      "Epoch 9/10\n",
      " - 42s - loss: 0.0405 - acc: 0.9872 - val_loss: 0.0443 - val_acc: 0.9866\n",
      "Epoch 10/10\n",
      " - 41s - loss: 0.0368 - acc: 0.9882 - val_loss: 0.0517 - val_acc: 0.9848\n"
     ]
    }
   ],
   "source": [
    "# Train CNN\n",
    "history = cnn_model.fit(X_train, Y_train, validation_data=(X_test, Y_test),\n",
    "                       epochs=10, batch_size=512, shuffle=True, verbose=2)"
   ]
  },
  {
   "cell_type": "code",
   "execution_count": 15,
   "metadata": {},
   "outputs": [
    {
     "data": {
      "image/png": "[encoded data removed]",
      "text/plain": [
       "<Figure size 432x288 with 1 Axes>"
      ]
     },
     "metadata": {
      "needs_background": "light"
     },
     "output_type": "display_data"
    },
    {
     "data": {
      "image/png": "[encoded data removed]",
      "text/plain": [
       "<Figure size 432x288 with 1 Axes>"
      ]
     },
     "metadata": {
      "needs_background": "light"
     },
     "output_type": "display_data"
    }
   ],
   "source": [
    "# Plot Loss Curve\n",
    "plt.plot(history.history['loss'])\n",
    "plt.plot(history.history['val_loss'])\n",
    "plt.show()\n",
    "\n",
    "plt.plot(history.history['acc'])\n",
    "plt.plot(history.history['val_acc'])\n",
    "plt.show()"
   ]
  },
  {
   "cell_type": "code",
   "execution_count": 16,
   "metadata": {},
   "outputs": [
    {
     "name": "stdout",
     "output_type": "stream",
     "text": [
      "[[1728    0    2    1    0    0    3    0    5    0]\n",
      " [   1 1976    5    4    2    0    1    1    5    5]\n",
      " [   0    0 1801   12    0    0    0    4   12    0]\n",
      " [   0    0    2 1843    0    1    0    1    2    1]\n",
      " [   0    1    2    0 1706    0    3    2    3   24]\n",
      " [   3    0    1   15    1 1586    9    0   17   10]\n",
      " [   4    1    1    1    1    0 1709    0    7    0]\n",
      " [   2    4   11    9    5    0    0 1855    3   20]\n",
      " [   1    1    0    5    3    0    4    1 1783    6]\n",
      " [   0    0    0    7    4    1    0    4    7 1739]]\n"
     ]
    }
   ],
   "source": [
    "Y_test_hat = cnn_model.predict(X_test)\n",
    "print(confusion_matrix(np.argmax(Y_test, axis=1), np.argmax(Y_test_hat, axis=1)))"
   ]
  },
  {
   "cell_type": "code",
   "execution_count": 17,
   "metadata": {},
   "outputs": [
    {
     "name": "stdout",
     "output_type": "stream",
     "text": [
      "(41999, 28, 28, 1) (18000, 28, 28, 1)\n"
     ]
    }
   ],
   "source": [
    "# X_train_2d, X_test_2d\n",
    "X_train_2d, X_test_2d = np.zeros((X_train.shape[0], 28, 28, 1)), np.zeros((X_test.shape[0], 28, 28, 1))\n",
    "for r in range(X_train.shape[0]):\n",
    "    X_train_2d[r] = np.reshape(X_train[r], (28, 28, 1))\n",
    "for r in range(X_test.shape[0]):\n",
    "    X_test_2d[r] = np.reshape(X_test[r], (28, 28, 1))\n",
    "print(X_train_2d.shape, X_test_2d.shape)"
   ]
  },
  {
   "cell_type": "code",
   "execution_count": 33,
   "metadata": {},
   "outputs": [
    {
     "name": "stdout",
     "output_type": "stream",
     "text": [
      "_________________________________________________________________\n",
      "Layer (type)                 Output Shape              Param #   \n",
      "=================================================================\n",
      "input_5 (InputLayer)         (None, 28, 28, 1)         0         \n",
      "_________________________________________________________________\n",
      "conv2d_17 (Conv2D)           (None, 28, 28, 16)        80        \n",
      "_________________________________________________________________\n",
      "max_pooling2d_13 (MaxPooling (None, 14, 14, 16)        0         \n",
      "_________________________________________________________________\n",
      "conv2d_18 (Conv2D)           (None, 14, 14, 16)        1040      \n",
      "_________________________________________________________________\n",
      "max_pooling2d_14 (MaxPooling (None, 7, 7, 16)          0         \n",
      "_________________________________________________________________\n",
      "conv2d_19 (Conv2D)           (None, 7, 7, 16)          1040      \n",
      "_________________________________________________________________\n",
      "up_sampling2d_4 (UpSampling2 (None, 14, 14, 16)        0         \n",
      "_________________________________________________________________\n",
      "conv2d_20 (Conv2D)           (None, 14, 14, 16)        1040      \n",
      "_________________________________________________________________\n",
      "up_sampling2d_5 (UpSampling2 (None, 28, 28, 16)        0         \n",
      "_________________________________________________________________\n",
      "conv2d_21 (Conv2D)           (None, 28, 28, 1)         65        \n",
      "=================================================================\n",
      "Total params: 3,265\n",
      "Trainable params: 3,265\n",
      "Non-trainable params: 0\n",
      "_________________________________________________________________\n"
     ]
    }
   ],
   "source": [
    "# Convolutional Autoencoder\n",
    "# Enoder\n",
    "CAE_input = Input((28, 28, 1))\n",
    "H = Conv2D(filters=16, kernel_size=(2, 2), padding='same', activation='tanh')(CAE_input)\n",
    "# Con2D레이어: 영상 인식에 주로 사용되며 필터가 탑재되어 있음\n",
    "# filters: 컨볼루션 필터의 수\n",
    "# kernel_size: 컨볼루션 커널의 (행, 열)\n",
    "# padding: 경게 처리 방법을 정의 - valid: 유효한 영역만 출력됨. 출력 이미지 사이즈는 입력 사이즈보다 작음, same: 출력 이미지 사이즈가 입력 이미지 사이즈와 동일\n",
    "# input_shape: 샘플 수를 제외한 입력 형태를 정의함. 모델에서 첫 레이어일때만 정의하면 됨. (행, 열, 채널수)로 정의함, 흑백 영상인 경우 채널이 1이고 컬러인경우 채널이 3으로 설정됨\n",
    "# activation: 활성화 함수 설정 - linear: 디폴트값, 입력뉴런과 가중치로 계산된 결과값이 그대로 출력으로 나옴. relu: 은닉충에 주로 사용됨 등등\n",
    "H = MaxPool2D((2, 2))(H)\n",
    "# 컨볼루션 레이어의 출력 이미지에서 주요값만 뽑아 크기가 작은 출력 영상을 만듦. 지역적인 사소한 변화가 영향을 미치지 않도록 함\n",
    "# 수직, 수평 축소 비율, (2,2)이면 출력 영상 크기는 입력 영상 크기의 반으로 줄어듦\n",
    "H = Conv2D(filters=16, kernel_size=(2, 2), padding='same', activation='tanh')(H)\n",
    "H = MaxPool2D((2, 2))(H)\n",
    "# Decoder\n",
    "H = Conv2D(filters=16, kernel_size=(2, 2), padding='same', activation='tanh')(H)\n",
    "H = UpSampling2D((2, 2))(H)\n",
    "H = Conv2D(filters=16, kernel_size=(2, 2), padding='same', activation='tanh')(H)\n",
    "H = UpSampling2D((2, 2))(H)\n",
    "CAE_output = Conv2D(filters=1, kernel_size=(2, 2), padding='same', activation='sigmoid')(H)\n",
    "# Compile Model\n",
    "CAE_model = Model(CAE_input, CAE_output)\n",
    "CAE_model.compile(loss='mse', optimizer='adam', metrics=['acc'])\n",
    "CAE_model.summary()"
   ]
  },
  {
   "cell_type": "code",
   "execution_count": null,
   "metadata": {},
   "outputs": [],
   "source": []
  },
  {
   "cell_type": "code",
   "execution_count": 19,
   "metadata": {},
   "outputs": [],
   "source": [
    "from keras.datasets import cifar10\n",
    "(x_train, y_train), (x_test, y_test) = cifar10.load_data()"
   ]
  },
  {
   "cell_type": "code",
   "execution_count": 20,
   "metadata": {},
   "outputs": [
    {
     "name": "stdout",
     "output_type": "stream",
     "text": [
      "(50000, 32, 32, 3) (50000, 1)\n",
      "(10000, 32, 32, 3) (10000, 1)\n"
     ]
    }
   ],
   "source": [
    "print(x_train.shape, y_train.shape)\n",
    "print(x_test.shape, y_test.shape)"
   ]
  },
  {
   "cell_type": "code",
   "execution_count": 21,
   "metadata": {},
   "outputs": [],
   "source": [
    "from keras.utils import np_utils\n",
    "x_train = x_train[0:5000,:,:,:]\n",
    "y_train_notOne = y_train[0:5000,:]\n",
    "x_test = x_test[0:1000,:,:,:]\n",
    "y_test_notOne = y_test[0:1000,:]"
   ]
  },
  {
   "cell_type": "code",
   "execution_count": 22,
   "metadata": {},
   "outputs": [],
   "source": [
    "y_train = np_utils.to_categorical(y_train_notOne)\n",
    "y_test = np_utils.to_categorical(y_test_notOne)"
   ]
  },
  {
   "cell_type": "code",
   "execution_count": 23,
   "metadata": {},
   "outputs": [
    {
     "name": "stdout",
     "output_type": "stream",
     "text": [
      "(5000, 32, 32, 3) (5000, 10)\n",
      "(1000, 32, 32, 3) (1000, 10)\n"
     ]
    }
   ],
   "source": [
    "print(x_train.shape, y_train.shape)\n",
    "print(x_test.shape, y_test.shape)"
   ]
  },
  {
   "cell_type": "code",
   "execution_count": 24,
   "metadata": {},
   "outputs": [],
   "source": [
    "from keras.layers.convolutional import Conv2D\n",
    "from keras.models import Sequential\n",
    "from keras.layers.core import Dense, Flatten, Dropout\n",
    "from keras.layers.pooling import MaxPooling2D"
   ]
  },
  {
   "cell_type": "code",
   "execution_count": 25,
   "metadata": {},
   "outputs": [],
   "source": [
    "model = Sequential()\n",
    "model.add(Conv2D(32,(3,3),padding='same', activation='relu', input_shape=(32,32,3)))\n",
    "model.add(MaxPooling2D((2,2)))\n",
    "model.add(Conv2D(32,(3,3),padding='same', activation='relu'))\n",
    "model.add(MaxPooling2D((2,2)))\n",
    "model.add(Conv2D(64, (3,3), padding='same', activation='relu'))\n",
    "model.add(MaxPooling2D((2,2)))\n",
    "model.add(Conv2D(64, (3,3), padding='same', activation='relu'))\n",
    "model.add(MaxPooling2D((2,2)))"
   ]
  },
  {
   "cell_type": "code",
   "execution_count": 26,
   "metadata": {},
   "outputs": [],
   "source": [
    "model.add(Flatten())\n",
    "model.add(Dense(128, activation='relu'))\n",
    "model.add(Dropout(0.25))\n",
    "model.add(Dense(10, activation='softmax'))"
   ]
  },
  {
   "cell_type": "code",
   "execution_count": 27,
   "metadata": {},
   "outputs": [
    {
     "name": "stdout",
     "output_type": "stream",
     "text": [
      "_________________________________________________________________\n",
      "Layer (type)                 Output Shape              Param #   \n",
      "=================================================================\n",
      "conv2d_5 (Conv2D)            (None, 32, 32, 32)        896       \n",
      "_________________________________________________________________\n",
      "max_pooling2d_5 (MaxPooling2 (None, 16, 16, 32)        0         \n",
      "_________________________________________________________________\n",
      "conv2d_6 (Conv2D)            (None, 16, 16, 32)        9248      \n",
      "_________________________________________________________________\n",
      "max_pooling2d_6 (MaxPooling2 (None, 8, 8, 32)          0         \n",
      "_________________________________________________________________\n",
      "conv2d_7 (Conv2D)            (None, 8, 8, 64)          18496     \n",
      "_________________________________________________________________\n",
      "max_pooling2d_7 (MaxPooling2 (None, 4, 4, 64)          0         \n",
      "_________________________________________________________________\n",
      "conv2d_8 (Conv2D)            (None, 4, 4, 64)          36928     \n",
      "_________________________________________________________________\n",
      "max_pooling2d_8 (MaxPooling2 (None, 2, 2, 64)          0         \n",
      "_________________________________________________________________\n",
      "flatten_2 (Flatten)          (None, 256)               0         \n",
      "_________________________________________________________________\n",
      "dense_4 (Dense)              (None, 128)               32896     \n",
      "_________________________________________________________________\n",
      "dropout_2 (Dropout)          (None, 128)               0         \n",
      "_________________________________________________________________\n",
      "dense_5 (Dense)              (None, 10)                1290      \n",
      "=================================================================\n",
      "Total params: 99,754\n",
      "Trainable params: 99,754\n",
      "Non-trainable params: 0\n",
      "_________________________________________________________________\n"
     ]
    }
   ],
   "source": [
    "model.compile(optimizer='rmsprop', loss='categorical_crossentropy', metrics=['accuracy'])\n",
    "model.summary()"
   ]
  },
  {
   "cell_type": "code",
   "execution_count": 28,
   "metadata": {},
   "outputs": [
    {
     "name": "stdout",
     "output_type": "stream",
     "text": [
      "Train on 5000 samples, validate on 1000 samples\n",
      "Epoch 1/100\n",
      " - 5s - loss: 14.3072 - acc: 0.0958 - val_loss: 10.9707 - val_acc: 0.0880\n",
      "Epoch 2/100\n",
      " - 4s - loss: 3.0120 - acc: 0.1412 - val_loss: 2.2456 - val_acc: 0.1640\n",
      "Epoch 3/100\n",
      " - 4s - loss: 2.2051 - acc: 0.1974 - val_loss: 2.1255 - val_acc: 0.2130\n",
      "Epoch 4/100\n",
      " - 4s - loss: 2.1017 - acc: 0.2328 - val_loss: 2.0271 - val_acc: 0.2260\n",
      "Epoch 5/100\n",
      " - 4s - loss: 2.0419 - acc: 0.2678 - val_loss: 1.9130 - val_acc: 0.3190\n",
      "Epoch 6/100\n",
      " - 4s - loss: 1.8965 - acc: 0.3232 - val_loss: 2.2566 - val_acc: 0.2060\n",
      "Epoch 7/100\n",
      " - 4s - loss: 1.8566 - acc: 0.3322 - val_loss: 1.8133 - val_acc: 0.3280\n",
      "Epoch 8/100\n",
      " - 5s - loss: 1.7496 - acc: 0.3704 - val_loss: 1.7352 - val_acc: 0.3720\n",
      "Epoch 9/100\n",
      " - 4s - loss: 1.6834 - acc: 0.4024 - val_loss: 2.0442 - val_acc: 0.2770\n",
      "Epoch 10/100\n",
      " - 5s - loss: 1.6715 - acc: 0.3982 - val_loss: 1.6755 - val_acc: 0.3730\n",
      "Epoch 11/100\n",
      " - 5s - loss: 1.5589 - acc: 0.4596 - val_loss: 1.7022 - val_acc: 0.4120\n",
      "Epoch 12/100\n",
      " - 5s - loss: 1.4992 - acc: 0.4638 - val_loss: 1.7683 - val_acc: 0.4020\n",
      "Epoch 13/100\n",
      " - 5s - loss: 1.4772 - acc: 0.4794 - val_loss: 1.6532 - val_acc: 0.4080\n",
      "Epoch 14/100\n",
      " - 5s - loss: 1.3642 - acc: 0.5196 - val_loss: 1.8179 - val_acc: 0.3710\n",
      "Epoch 15/100\n",
      " - 5s - loss: 1.3249 - acc: 0.5278 - val_loss: 1.6961 - val_acc: 0.3810\n",
      "Epoch 16/100\n",
      " - 5s - loss: 1.2818 - acc: 0.5458 - val_loss: 1.5830 - val_acc: 0.4620\n",
      "Epoch 17/100\n",
      " - 5s - loss: 1.1992 - acc: 0.5754 - val_loss: 1.6565 - val_acc: 0.4580\n",
      "Epoch 18/100\n",
      " - 5s - loss: 1.1650 - acc: 0.5876 - val_loss: 1.7052 - val_acc: 0.4420\n",
      "Epoch 19/100\n",
      " - 5s - loss: 1.1045 - acc: 0.6124 - val_loss: 1.7801 - val_acc: 0.4140\n",
      "Epoch 20/100\n",
      " - 5s - loss: 1.0428 - acc: 0.6312 - val_loss: 1.8335 - val_acc: 0.4130\n",
      "Epoch 21/100\n",
      " - 5s - loss: 0.9605 - acc: 0.6664 - val_loss: 1.9926 - val_acc: 0.4110\n",
      "Epoch 22/100\n",
      " - 5s - loss: 0.9579 - acc: 0.6684 - val_loss: 1.7412 - val_acc: 0.4350\n",
      "Epoch 23/100\n",
      " - 5s - loss: 0.8665 - acc: 0.6896 - val_loss: 1.7686 - val_acc: 0.4550\n",
      "Epoch 24/100\n",
      " - 5s - loss: 0.8424 - acc: 0.7066 - val_loss: 1.7875 - val_acc: 0.4570\n",
      "Epoch 25/100\n",
      " - 5s - loss: 0.8012 - acc: 0.7232 - val_loss: 1.8538 - val_acc: 0.4310\n",
      "Epoch 26/100\n",
      " - 5s - loss: 0.7329 - acc: 0.7412 - val_loss: 1.7284 - val_acc: 0.4440\n",
      "Epoch 27/100\n",
      " - 5s - loss: 0.6826 - acc: 0.7600 - val_loss: 1.9025 - val_acc: 0.4400\n",
      "Epoch 28/100\n",
      " - 5s - loss: 0.6678 - acc: 0.7700 - val_loss: 1.8836 - val_acc: 0.4530\n",
      "Epoch 29/100\n",
      " - 5s - loss: 0.6510 - acc: 0.7680 - val_loss: 1.7888 - val_acc: 0.4350\n",
      "Epoch 30/100\n",
      " - 5s - loss: 0.5686 - acc: 0.7998 - val_loss: 1.9456 - val_acc: 0.4580\n",
      "Epoch 31/100\n",
      " - 5s - loss: 0.5066 - acc: 0.8232 - val_loss: 1.9375 - val_acc: 0.4730\n",
      "Epoch 32/100\n",
      " - 5s - loss: 0.5625 - acc: 0.8080 - val_loss: 2.1471 - val_acc: 0.4520\n",
      "Epoch 33/100\n",
      " - 5s - loss: 0.4726 - acc: 0.8342 - val_loss: 2.0326 - val_acc: 0.4510\n",
      "Epoch 34/100\n",
      " - 5s - loss: 0.4480 - acc: 0.8446 - val_loss: 2.1981 - val_acc: 0.4580\n",
      "Epoch 35/100\n",
      " - 5s - loss: 0.4295 - acc: 0.8492 - val_loss: 2.4760 - val_acc: 0.4130\n",
      "Epoch 36/100\n",
      " - 5s - loss: 0.3783 - acc: 0.8684 - val_loss: 2.3126 - val_acc: 0.4380\n",
      "Epoch 37/100\n",
      " - 5s - loss: 0.4169 - acc: 0.8548 - val_loss: 2.1683 - val_acc: 0.4850\n",
      "Epoch 38/100\n",
      " - 5s - loss: 0.3910 - acc: 0.8650 - val_loss: 2.3453 - val_acc: 0.4270\n",
      "Epoch 39/100\n",
      " - 5s - loss: 0.3329 - acc: 0.8870 - val_loss: 2.3749 - val_acc: 0.4820\n",
      "Epoch 40/100\n",
      " - 5s - loss: 0.3784 - acc: 0.8764 - val_loss: 2.3425 - val_acc: 0.4700\n",
      "Epoch 41/100\n",
      " - 5s - loss: 0.2927 - acc: 0.9032 - val_loss: 2.3824 - val_acc: 0.4690\n",
      "Epoch 42/100\n",
      " - 5s - loss: 0.2939 - acc: 0.9062 - val_loss: 2.5941 - val_acc: 0.4700\n",
      "Epoch 43/100\n",
      " - 5s - loss: 0.3320 - acc: 0.8908 - val_loss: 2.4100 - val_acc: 0.4670\n",
      "Epoch 44/100\n",
      " - 5s - loss: 0.2290 - acc: 0.9216 - val_loss: 2.4900 - val_acc: 0.4720\n",
      "Epoch 45/100\n",
      " - 5s - loss: 0.1994 - acc: 0.9356 - val_loss: 2.7731 - val_acc: 0.4380\n",
      "Epoch 46/100\n",
      " - 5s - loss: 0.2669 - acc: 0.9100 - val_loss: 2.5009 - val_acc: 0.4820\n",
      "Epoch 47/100\n",
      " - 5s - loss: 0.2168 - acc: 0.9282 - val_loss: 2.6947 - val_acc: 0.4890\n",
      "Epoch 48/100\n",
      " - 5s - loss: 0.2019 - acc: 0.9320 - val_loss: 2.9295 - val_acc: 0.4600\n",
      "Epoch 49/100\n",
      " - 5s - loss: 0.2211 - acc: 0.9266 - val_loss: 2.8825 - val_acc: 0.4650\n",
      "Epoch 50/100\n",
      " - 5s - loss: 0.2639 - acc: 0.9240 - val_loss: 3.2089 - val_acc: 0.4570\n",
      "Epoch 51/100\n",
      " - 5s - loss: 0.2163 - acc: 0.9326 - val_loss: 2.8726 - val_acc: 0.4810\n",
      "Epoch 52/100\n",
      " - 5s - loss: 0.2362 - acc: 0.9342 - val_loss: 2.7184 - val_acc: 0.4590\n",
      "Epoch 53/100\n",
      " - 5s - loss: 0.1318 - acc: 0.9566 - val_loss: 3.0382 - val_acc: 0.4650\n",
      "Epoch 54/100\n",
      " - 5s - loss: 0.2017 - acc: 0.9366 - val_loss: 3.8982 - val_acc: 0.3600\n",
      "Epoch 55/100\n",
      " - 5s - loss: 0.1587 - acc: 0.9538 - val_loss: 3.2091 - val_acc: 0.4750\n",
      "Epoch 56/100\n",
      " - 5s - loss: 0.1897 - acc: 0.9362 - val_loss: 3.0556 - val_acc: 0.4520\n",
      "Epoch 57/100\n",
      " - 5s - loss: 0.2285 - acc: 0.9324 - val_loss: 2.8875 - val_acc: 0.4490\n",
      "Epoch 58/100\n",
      " - 5s - loss: 0.0842 - acc: 0.9750 - val_loss: 3.2575 - val_acc: 0.4540\n",
      "Epoch 59/100\n",
      " - 5s - loss: 0.2134 - acc: 0.9380 - val_loss: 3.2215 - val_acc: 0.4590\n",
      "Epoch 60/100\n",
      " - 5s - loss: 0.2464 - acc: 0.9338 - val_loss: 3.2749 - val_acc: 0.4520\n",
      "Epoch 61/100\n",
      " - 5s - loss: 0.0422 - acc: 0.9884 - val_loss: 3.4787 - val_acc: 0.4700\n",
      "Epoch 62/100\n",
      " - 5s - loss: 0.2613 - acc: 0.9350 - val_loss: 3.1376 - val_acc: 0.4780\n",
      "Epoch 63/100\n",
      " - 5s - loss: 0.1653 - acc: 0.9510 - val_loss: 3.1919 - val_acc: 0.4710\n",
      "Epoch 64/100\n",
      " - 5s - loss: 0.1358 - acc: 0.9560 - val_loss: 3.1597 - val_acc: 0.4900\n",
      "Epoch 65/100\n",
      " - 5s - loss: 0.1786 - acc: 0.9542 - val_loss: 3.1693 - val_acc: 0.4430\n",
      "Epoch 66/100\n",
      " - 5s - loss: 0.0747 - acc: 0.9736 - val_loss: 3.2568 - val_acc: 0.4770\n",
      "Epoch 67/100\n",
      " - 5s - loss: 0.1215 - acc: 0.9630 - val_loss: 3.5161 - val_acc: 0.4630\n",
      "Epoch 68/100\n",
      " - 5s - loss: 0.1531 - acc: 0.9500 - val_loss: 3.3463 - val_acc: 0.4680\n",
      "Epoch 69/100\n",
      " - 5s - loss: 0.1589 - acc: 0.9528 - val_loss: 3.9656 - val_acc: 0.4090\n",
      "Epoch 70/100\n",
      " - 5s - loss: 0.1014 - acc: 0.9684 - val_loss: 3.7681 - val_acc: 0.4590\n",
      "Epoch 71/100\n",
      " - 5s - loss: 0.2950 - acc: 0.9256 - val_loss: 3.0357 - val_acc: 0.4500\n",
      "Epoch 72/100\n",
      " - 5s - loss: 0.0432 - acc: 0.9874 - val_loss: 3.5214 - val_acc: 0.4690\n",
      "Epoch 73/100\n",
      " - 5s - loss: 0.1651 - acc: 0.9514 - val_loss: 3.4305 - val_acc: 0.4510\n",
      "Epoch 74/100\n",
      " - 5s - loss: 0.0694 - acc: 0.9814 - val_loss: 3.7402 - val_acc: 0.4490\n",
      "Epoch 75/100\n",
      " - 5s - loss: 0.2271 - acc: 0.9412 - val_loss: 3.5415 - val_acc: 0.4510\n",
      "Epoch 76/100\n",
      " - 5s - loss: 0.0490 - acc: 0.9870 - val_loss: 3.6893 - val_acc: 0.4690\n",
      "Epoch 77/100\n",
      " - 5s - loss: 0.1853 - acc: 0.9518 - val_loss: 3.4220 - val_acc: 0.4720\n",
      "Epoch 78/100\n",
      " - 5s - loss: 0.0799 - acc: 0.9778 - val_loss: 5.3825 - val_acc: 0.3600\n",
      "Epoch 79/100\n",
      " - 5s - loss: 0.1320 - acc: 0.9668 - val_loss: 3.7541 - val_acc: 0.4720\n",
      "Epoch 80/100\n",
      " - 5s - loss: 0.1266 - acc: 0.9604 - val_loss: 3.5777 - val_acc: 0.4770\n",
      "Epoch 81/100\n",
      " - 5s - loss: 0.0900 - acc: 0.9744 - val_loss: 4.1695 - val_acc: 0.4320\n",
      "Epoch 82/100\n",
      " - 5s - loss: 0.0908 - acc: 0.9706 - val_loss: 4.2329 - val_acc: 0.4030\n",
      "Epoch 83/100\n",
      " - 5s - loss: 0.0836 - acc: 0.9724 - val_loss: 4.0578 - val_acc: 0.4410\n",
      "Epoch 84/100\n",
      " - 5s - loss: 0.0933 - acc: 0.9708 - val_loss: 3.9182 - val_acc: 0.4700\n",
      "Epoch 85/100\n",
      " - 5s - loss: 0.1549 - acc: 0.9538 - val_loss: 3.7193 - val_acc: 0.4770\n",
      "Epoch 86/100\n",
      " - 5s - loss: 0.1031 - acc: 0.9686 - val_loss: 3.9260 - val_acc: 0.4450\n",
      "Epoch 87/100\n",
      " - 5s - loss: 0.1141 - acc: 0.9650 - val_loss: 3.5713 - val_acc: 0.4780\n",
      "Epoch 88/100\n",
      " - 5s - loss: 0.1290 - acc: 0.9664 - val_loss: 3.8153 - val_acc: 0.4300\n",
      "Epoch 89/100\n",
      " - 5s - loss: 0.0530 - acc: 0.9836 - val_loss: 4.1116 - val_acc: 0.4370\n",
      "Epoch 90/100\n",
      " - 5s - loss: 0.1835 - acc: 0.9496 - val_loss: 3.7889 - val_acc: 0.4510\n",
      "Epoch 91/100\n",
      " - 5s - loss: 0.0329 - acc: 0.9914 - val_loss: 4.3367 - val_acc: 0.4340\n",
      "Epoch 92/100\n",
      " - 5s - loss: 0.1413 - acc: 0.9582 - val_loss: 4.1938 - val_acc: 0.4610\n",
      "Epoch 93/100\n",
      " - 5s - loss: 0.0833 - acc: 0.9768 - val_loss: 4.3156 - val_acc: 0.4500\n",
      "Epoch 94/100\n",
      " - 5s - loss: 0.0873 - acc: 0.9736 - val_loss: 4.3625 - val_acc: 0.4360\n",
      "Epoch 95/100\n",
      " - 5s - loss: 0.1142 - acc: 0.9650 - val_loss: 4.5287 - val_acc: 0.4310\n",
      "Epoch 96/100\n",
      " - 5s - loss: 0.0765 - acc: 0.9784 - val_loss: 4.7007 - val_acc: 0.4160\n"
     ]
    },
    {
     "name": "stdout",
     "output_type": "stream",
     "text": [
      "Epoch 97/100\n",
      " - 5s - loss: 0.1245 - acc: 0.9672 - val_loss: 3.9917 - val_acc: 0.4680\n",
      "Epoch 98/100\n",
      " - 5s - loss: 0.1136 - acc: 0.9668 - val_loss: 4.0968 - val_acc: 0.4860\n",
      "Epoch 99/100\n",
      " - 5s - loss: 0.0762 - acc: 0.9780 - val_loss: 4.1273 - val_acc: 0.4540\n",
      "Epoch 100/100\n",
      " - 5s - loss: 0.0713 - acc: 0.9780 - val_loss: 4.2333 - val_acc: 0.4510\n"
     ]
    }
   ],
   "source": [
    "history = model.fit(x_train, y_train, batch_size=256, epochs=100, verbose=2, validation_data=[x_test, y_test])"
   ]
  },
  {
   "cell_type": "code",
   "execution_count": 29,
   "metadata": {},
   "outputs": [],
   "source": [
    "%matplotlib inline\n",
    "import matplotlib.pyplot as plt"
   ]
  },
  {
   "cell_type": "code",
   "execution_count": 30,
   "metadata": {},
   "outputs": [
    {
     "data": {
      "image/png": "[encoded data removed]",
      "text/plain": [
       "<Figure size 432x288 with 1 Axes>"
      ]
     },
     "metadata": {
      "needs_background": "light"
     },
     "output_type": "display_data"
    }
   ],
   "source": [
    "plt.plot(history.history['loss'])\n",
    "plt.plot(history.history['val_loss'])\n",
    "plt.title('model_loss')\n",
    "plt.ylabel('loss')\n",
    "plt.xlabel('epoch')\n",
    "plt.legend(['train', 'test'], loc='right')\n",
    "plt.show()"
   ]
  },
  {
   "cell_type": "code",
   "execution_count": null,
   "metadata": {},
   "outputs": [],
   "source": []
  }
 ],
 "metadata": {
  "kernelspec": {
   "display_name": "Python 3",
   "language": "python",
   "name": "python3"
  },
  "language_info": {
   "codemirror_mode": {
    "name": "ipython",
    "version": 3
   },
   "file_extension": ".py",
   "mimetype": "text/x-python",
   "name": "python",
   "nbconvert_exporter": "python",
   "pygments_lexer": "ipython3",
   "version": "3.7.3"
  }
 },
 "nbformat": 4,
 "nbformat_minor": 2
}
