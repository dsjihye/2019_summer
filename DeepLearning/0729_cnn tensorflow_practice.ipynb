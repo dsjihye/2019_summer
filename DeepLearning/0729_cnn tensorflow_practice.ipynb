{
 "cells": [
  {
   "cell_type": "code",
   "execution_count": 1,
   "metadata": {},
   "outputs": [
    {
     "name": "stderr",
     "output_type": "stream",
     "text": [
      "Using TensorFlow backend.\n"
     ]
    }
   ],
   "source": [
    "%matplotlib inline\n",
    "import numpy as np\n",
    "import pandas as pd\n",
    "import matplotlib.pyplot as plt\n",
    "import tensorflow as tf\n",
    "from keras.utils import np_utils\n",
    "from sklearn.model_selection import train_test_split"
   ]
  },
  {
   "cell_type": "code",
   "execution_count": 2,
   "metadata": {},
   "outputs": [
    {
     "data": {
      "text/html": [
       "<style>.container { width:100% !important; }</style>"
      ],
      "text/plain": [
       "<IPython.core.display.HTML object>"
      ]
     },
     "metadata": {},
     "output_type": "display_data"
    }
   ],
   "source": [
    "# For wide monitor\n",
    "from IPython.core.display import display, HTML\n",
    "display(HTML(\"<style>.container { width:100% !important; }</style>\"))"
   ]
  },
  {
   "cell_type": "code",
   "execution_count": 3,
   "metadata": {},
   "outputs": [
    {
     "name": "stdout",
     "output_type": "stream",
     "text": [
      "(59999, 785)\n"
     ]
    }
   ],
   "source": [
    "mnist_csv = pd.read_csv(\"./mnist_train.csv\", header=None, skiprows=1).values\n",
    "print(mnist_csv.shape)"
   ]
  },
  {
   "cell_type": "code",
   "execution_count": 4,
   "metadata": {},
   "outputs": [
    {
     "name": "stdout",
     "output_type": "stream",
     "text": [
      "(41999, 785)\n",
      "(18000, 785)\n"
     ]
    }
   ],
   "source": [
    "train, test = train_test_split(mnist_csv, test_size=0.3, random_state=1)\n",
    "print(train.shape)\n",
    "print(test.shape)"
   ]
  },
  {
   "cell_type": "code",
   "execution_count": 5,
   "metadata": {},
   "outputs": [
    {
     "name": "stdout",
     "output_type": "stream",
     "text": [
      "(41999, 10) (41999, 784)\n",
      "(18000, 10) (18000, 784)\n"
     ]
    }
   ],
   "source": [
    "Y_train, X_train = np_utils.to_categorical(train[:, 0]), train[:, 1:]\n",
    "Y_test, X_test = np_utils.to_categorical(test[:, 0]), test[:, 1:]\n",
    "print(Y_train.shape, X_train.shape)\n",
    "print(Y_test.shape, X_test.shape)"
   ]
  },
  {
   "cell_type": "code",
   "execution_count": 6,
   "metadata": {},
   "outputs": [],
   "source": [
    "X_train = (X_train)/255.\n",
    "X_test = (X_test)/255."
   ]
  },
  {
   "cell_type": "code",
   "execution_count": 7,
   "metadata": {},
   "outputs": [
    {
     "data": {
      "text/plain": [
       "<matplotlib.image.AxesImage at 0x27e51f33668>"
      ]
     },
     "execution_count": 7,
     "metadata": {},
     "output_type": "execute_result"
    },
    {
     "data": {
      "image/png": "[encoded data removed]",
      "text/plain": [
       "<Figure size 432x288 with 1 Axes>"
      ]
     },
     "metadata": {
      "needs_background": "light"
     },
     "output_type": "display_data"
    }
   ],
   "source": [
    "plt.imshow(np.reshape(X_train[0], (28, 28)), cmap=plt.cm.gray_r)"
   ]
  },
  {
   "cell_type": "code",
   "execution_count": 8,
   "metadata": {},
   "outputs": [],
   "source": [
    "X = tf.placeholder(tf.float32, [None, 784]) # Input, 784개의 값을 가지며 n개의 이미지이다.\n",
    "X_img = tf.reshape(X, [-1, 28, 28, 1]) # input을 이미지로 인식하기 위해 reshape을 해준다. 28*28의 이미지이며 단일색상, 개수는 n개이므로 -1\n",
    "Y = tf.placeholder(tf.float32, [None, 10]) # output"
   ]
  },
  {
   "cell_type": "code",
   "execution_count": 9,
   "metadata": {},
   "outputs": [
    {
     "name": "stdout",
     "output_type": "stream",
     "text": [
      "WARNING:tensorflow:From C:\\Users\\ehdry\\.conda\\envs\\tensorflow\\lib\\site-packages\\tensorflow\\python\\framework\\op_def_library.py:263: colocate_with (from tensorflow.python.framework.ops) is deprecated and will be removed in a future version.\n",
      "Instructions for updating:\n",
      "Colocations handled automatically by placer.\n"
     ]
    }
   ],
   "source": [
    "# (28, 28, 1)\n",
    "# Layer1\n",
    "# 3*3 크기의 필터, 색상은 단일, 총 16개의 필터\n",
    "W1 = tf.Variable(tf.random_normal([3,3,1,16], stddev=0.01))\n",
    "# conv2d를 통과해도 28*28 크기를 가짐, 대신 16개의 필터이므로 총 16개의 결과가 생김\n",
    "L1 = tf.nn.conv2d(X_img, W1, strides=[1,1,1,1], padding='SAME')\n",
    "# (28, 28, 16)\n",
    "L1 = tf.nn.relu(L1)\n",
    "# max pooling을 하고 나면 스트라이드 및 패딩 설정에 의해 14*14 크기의 결과가 나옴\n",
    "L1 = tf.nn.max_pool(L1, ksize=[1,2,2,1], strides=[1,2,2,1], padding='SAME')\n",
    "\n",
    "\n",
    "# -> 들어오는 input 데이터를 처리하고, 이를 이미지로 인식시킵니다.\n",
    "# 그리고 첫번째 레이어를 확인해보면, stride는 1, padding은 SAME으로 설정하여 convolution layer를 통과시키고, 이후\n",
    "# relu를 통과시킨 후에 max pooling을 합니다. 이렇게 첫번째 리에어를 통과하면 그 결과는 14*14의 형태를 가지게 된다.\n",
    "\n",
    "\n",
    "\n",
    "# (14, 14, 16)\n",
    "# Layer2\n",
    "# 이번에는 32개의 필터\n",
    "W2 = tf.Variable(tf.random_normal([3,3,16,32], stddev=0.01))\n",
    "# con2d layer를 통과시키면, [?, 14, 14, 64] 형태를 가짐\n",
    "L2 = tf.nn.conv2d(L1, W2, strides=[1, 1, 1, 1], padding='SAME')\n",
    "L2 = tf.nn.relu(L2)\n",
    "# max pooling에서 stride가 2 이므로 결과는 7*7의 형태를 가짐\n",
    "L2 = tf.nn.max_pool(L2, ksize=[1, 2, 2, 1], strides=[1,2,2,1], padding='SAME')"
   ]
  },
  {
   "cell_type": "code",
   "execution_count": 10,
   "metadata": {},
   "outputs": [],
   "source": [
    "# 이후 쭉 펼친다.\n",
    "L2_flat = tf.reshape(L2, [-1, 7*7*32])\n",
    "\n",
    "# fully_connected layer\n",
    "# 두번째 레이어를 통과한 결과 값을 fully-connected layer에 통과시킵니다.\n",
    "W3 = tf.Variable(tf.random_normal([7*7*32,10], stddev=0.01))\n",
    "b = tf.Variable(tf.random_normal([10]))\n",
    "logits = tf.matmul(L2_flat, W3)+b"
   ]
  },
  {
   "cell_type": "code",
   "execution_count": 11,
   "metadata": {},
   "outputs": [
    {
     "name": "stdout",
     "output_type": "stream",
     "text": [
      "WARNING:tensorflow:From <ipython-input-11-0eb74acd9c6f>:2: softmax_cross_entropy_with_logits (from tensorflow.python.ops.nn_ops) is deprecated and will be removed in a future version.\n",
      "Instructions for updating:\n",
      "\n",
      "Future major versions of TensorFlow will allow gradients to flow\n",
      "into the labels input on backprop by default.\n",
      "\n",
      "See `tf.nn.softmax_cross_entropy_with_logits_v2`.\n",
      "\n"
     ]
    }
   ],
   "source": [
    "learning_rate = 0.001\n",
    "loss = tf.reduce_mean(tf.nn.softmax_cross_entropy_with_logits(logits=logits, labels=Y))\n",
    "optimizer = tf.train.AdamOptimizer(learning_rate=learning_rate).minimize(loss)"
   ]
  },
  {
   "cell_type": "code",
   "execution_count": 12,
   "metadata": {},
   "outputs": [],
   "source": [
    "sess = tf.Session()\n",
    "sess.run(tf.global_variables_initializer())"
   ]
  },
  {
   "cell_type": "code",
   "execution_count": 13,
   "metadata": {},
   "outputs": [],
   "source": [
    "training_epochs = 10\n",
    "batch_size = 100"
   ]
  },
  {
   "cell_type": "code",
   "execution_count": 14,
   "metadata": {},
   "outputs": [
    {
     "name": "stdout",
     "output_type": "stream",
     "text": [
      "Epoch: 0001 loss= 0.657471460\n",
      "Epoch: 0002 loss= 0.231011783\n",
      "Epoch: 0003 loss= 0.139835918\n",
      "Epoch: 0004 loss= 0.105685470\n",
      "Epoch: 0005 loss= 0.087308100\n",
      "Epoch: 0006 loss= 0.075299464\n",
      "Epoch: 0007 loss= 0.066444935\n",
      "Epoch: 0008 loss= 0.059609668\n",
      "Epoch: 0009 loss= 0.053971065\n",
      "Epoch: 0010 loss= 0.049248373\n"
     ]
    }
   ],
   "source": [
    "# train & test \n",
    "\n",
    "for epoch in range(training_epochs):\n",
    "    avg_loss = 0\n",
    "    total_batch = int(X_train.shape[0]/batch_size)\n",
    "    for idx in range(total_batch):\n",
    "        num = (idx*batch_size)%(X_train.shape[0])\n",
    "        batch_xs = X_train[num:(num+batch_size)]\n",
    "        batch_ys = Y_train[num:(num+batch_size)]\n",
    "        feed_dict = {X: batch_xs, Y: batch_ys}\n",
    "        c, _ = sess.run([loss, optimizer], feed_dict=feed_dict)\n",
    "        avg_loss += c/total_batch\n",
    "    print(\"Epoch:\", \"%04d\"%(epoch+1), \"loss=\", \"{:.9f}\".format(avg_loss))"
   ]
  },
  {
   "cell_type": "code",
   "execution_count": 15,
   "metadata": {},
   "outputs": [
    {
     "name": "stdout",
     "output_type": "stream",
     "text": [
      "Accuracy: 0.97794443\n"
     ]
    }
   ],
   "source": [
    "correct_prediction = tf.equal(tf.argmax(logits, 1), tf.argmax(Y_test, 1))\n",
    "accuracy = tf.reduce_mean(tf.cast(correct_prediction, tf.float32))\n",
    "print(\"Accuracy:\", sess.run(accuracy, feed_dict={X: X_test, Y: Y_test}))"
   ]
  },
  {
   "cell_type": "code",
   "execution_count": 16,
   "metadata": {},
   "outputs": [],
   "source": [
    "from sklearn.metrics import confusion_matrix\n",
    "prediction = tf.argmax(logits, 1)\n",
    "pred = sess.run(prediction, feed_dict={X: X_test})"
   ]
  },
  {
   "cell_type": "code",
   "execution_count": 17,
   "metadata": {},
   "outputs": [],
   "source": [
    "label = np.argmax(Y_test, axis=1)"
   ]
  },
  {
   "cell_type": "code",
   "execution_count": 18,
   "metadata": {},
   "outputs": [
    {
     "name": "stdout",
     "output_type": "stream",
     "text": [
      "[[1720    0   11    1    0    1    3    0    2    1]\n",
      " [   0 1976    6    5    2    0    4    3    4    0]\n",
      " [   2    5 1798   14    0    1    0    4    4    1]\n",
      " [   1    0    8 1832    0    4    0    2    1    2]\n",
      " [   0    5    7    1 1693    0    5    2    6   22]\n",
      " [   5    0    0   21    1 1588    6    0   10   11]\n",
      " [   5    2    2    1    1    3 1707    0    3    0]\n",
      " [   2    5   17   28    4    3    0 1819    2   29]\n",
      " [   9    4    5   15    5   10    4    1 1733   18]\n",
      " [   1    3    2    4    7    1    1    3    3 1737]]\n"
     ]
    }
   ],
   "source": [
    "print(confusion_matrix(label, pred))"
   ]
  },
  {
   "cell_type": "code",
   "execution_count": null,
   "metadata": {},
   "outputs": [],
   "source": []
  }
 ],
 "metadata": {
  "kernelspec": {
   "display_name": "Python 3",
   "language": "python",
   "name": "python3"
  },
  "language_info": {
   "codemirror_mode": {
    "name": "ipython",
    "version": 3
   },
   "file_extension": ".py",
   "mimetype": "text/x-python",
   "name": "python",
   "nbconvert_exporter": "python",
   "pygments_lexer": "ipython3",
   "version": "3.7.3"
  }
 },
 "nbformat": 4,
 "nbformat_minor": 2
}
