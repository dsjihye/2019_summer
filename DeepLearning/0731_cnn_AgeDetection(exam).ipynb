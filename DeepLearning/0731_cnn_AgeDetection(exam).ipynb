{
 "cells": [
  {
   "cell_type": "code",
   "execution_count": 1,
   "metadata": {},
   "outputs": [
    {
     "name": "stderr",
     "output_type": "stream",
     "text": [
      "Using TensorFlow backend.\n"
     ]
    }
   ],
   "source": [
    "# Import Libs\n",
    "%matplotlib inline\n",
    "import numpy as np\n",
    "import pandas as pd\n",
    "import matplotlib.pyplot as plt\n",
    "import tensorflow as tf\n",
    "from keras.utils import np_utils\n",
    "from keras.models import Model\n",
    "from keras.layers import Input, Reshape, Flatten, Dense, Conv2D, MaxPool2D, Dropout, BatchNormalization, UpSampling2D\n",
    "from sklearn.model_selection import train_test_split\n",
    "from sklearn.metrics import confusion_matrix"
   ]
  },
  {
   "cell_type": "code",
   "execution_count": 2,
   "metadata": {},
   "outputs": [
    {
     "data": {
      "text/html": [
       "<style>.container { width:100% !important; }</style>"
      ],
      "text/plain": [
       "<IPython.core.display.HTML object>"
      ]
     },
     "metadata": {},
     "output_type": "display_data"
    }
   ],
   "source": [
    "# For wide monitor\n",
    "from IPython.core.display import display, HTML\n",
    "display(HTML(\"<style>.container { width:100% !important; }</style>\"))"
   ]
  },
  {
   "cell_type": "markdown",
   "metadata": {},
   "source": [
    "# 문제 1번, 딥러닝 모델 구조 설계"
   ]
  },
  {
   "cell_type": "code",
   "execution_count": 7,
   "metadata": {},
   "outputs": [
    {
     "name": "stdout",
     "output_type": "stream",
     "text": [
      "(3999, 12289)\n"
     ]
    }
   ],
   "source": [
    "data = pd.read_csv('test (1).csv', header=None, skiprows=1).values\n",
    "print(data.shape)"
   ]
  },
  {
   "cell_type": "code",
   "execution_count": 8,
   "metadata": {},
   "outputs": [
    {
     "name": "stdout",
     "output_type": "stream",
     "text": [
      "(2799, 12289)\n",
      "(1200, 12289)\n"
     ]
    }
   ],
   "source": [
    "# Split\n",
    "train, test = train_test_split(data, test_size=0.3, random_state=1)\n",
    "print(train.shape)\n",
    "print(test.shape)"
   ]
  },
  {
   "cell_type": "code",
   "execution_count": 25,
   "metadata": {},
   "outputs": [
    {
     "name": "stdout",
     "output_type": "stream",
     "text": [
      "(2799, 3) (2799, 12288)\n",
      "(1200, 3) (1200, 12288)\n"
     ]
    }
   ],
   "source": [
    "# X, Y Def.\n",
    "Y_train, X_train = np_utils.to_categorical(train[:, 0]), train[:, 1:]\n",
    "Y_test, X_test = np_utils.to_categorical(test[:, 0]), test[:, 1:]\n",
    "print(Y_train.shape, X_train.shape)\n",
    "print(Y_test.shape, X_test.shape)"
   ]
  },
  {
   "cell_type": "code",
   "execution_count": 29,
   "metadata": {},
   "outputs": [],
   "source": [
    "X_train = np.reshape(X_train, (-1,64, 64,3))\n",
    "X_test = np.reshape(X_test, (-1,64, 64,3))"
   ]
  },
  {
   "cell_type": "code",
   "execution_count": 28,
   "metadata": {},
   "outputs": [
    {
     "data": {
      "text/plain": [
       "(2799, 64, 64, 3)"
      ]
     },
     "execution_count": 28,
     "metadata": {},
     "output_type": "execute_result"
    }
   ],
   "source": [
    "X_train.shape"
   ]
  },
  {
   "cell_type": "code",
   "execution_count": 11,
   "metadata": {},
   "outputs": [],
   "source": [
    "# Normalzation\n",
    "X_train = (X_train)/255.\n",
    "X_test = (X_test)/255."
   ]
  },
  {
   "cell_type": "code",
   "execution_count": 20,
   "metadata": {},
   "outputs": [
    {
     "data": {
      "text/plain": [
       "<matplotlib.image.AxesImage at 0x2dc27e184a8>"
      ]
     },
     "execution_count": 20,
     "metadata": {},
     "output_type": "execute_result"
    },
    {
     "data": {
      "image/png": "[encoded data removed]",
      "text/plain": [
       "<Figure size 432x288 with 1 Axes>"
      ]
     },
     "metadata": {
      "needs_background": "light"
     },
     "output_type": "display_data"
    }
   ],
   "source": [
    "# Visualization\n",
    "plt.imshow(np.reshape(X_train[0], (64,64,3)), cmap=plt.cm.gray_r)"
   ]
  },
  {
   "cell_type": "code",
   "execution_count": 30,
   "metadata": {},
   "outputs": [],
   "source": [
    "from keras.layers.convolutional import Conv2D\n",
    "from keras.models import Sequential\n",
    "from keras.layers.core import Dense, Flatten, Dropout\n",
    "from keras.layers.pooling import MaxPooling2D"
   ]
  },
  {
   "cell_type": "code",
   "execution_count": 44,
   "metadata": {},
   "outputs": [],
   "source": [
    "model = Sequential()\n",
    "model.add(Conv2D(64,(3,3),padding='same', activation='relu', input_shape=(64,64,3)))\n",
    "model.add(MaxPooling2D((2,2)))\n",
    "model.add(Conv2D(64,(3,3),padding='same', activation='relu'))\n",
    "model.add(MaxPooling2D((2,2)))\n",
    "model.add(Conv2D(128, (3,3), padding='same', activation='relu'))\n",
    "model.add(MaxPooling2D((2,2)))\n",
    "model.add(Conv2D(128, (3,3), padding='same', activation='relu'))\n",
    "model.add(MaxPooling2D((2,2)))"
   ]
  },
  {
   "cell_type": "code",
   "execution_count": 45,
   "metadata": {},
   "outputs": [],
   "source": [
    "model.add(Flatten())\n",
    "model.add(Dense(256, activation='relu'))\n",
    "model.add(Dropout(0.25))\n",
    "model.add(Dense(3, activation='softmax'))"
   ]
  },
  {
   "cell_type": "code",
   "execution_count": 46,
   "metadata": {},
   "outputs": [
    {
     "name": "stdout",
     "output_type": "stream",
     "text": [
      "_________________________________________________________________\n",
      "Layer (type)                 Output Shape              Param #   \n",
      "=================================================================\n",
      "conv2d_13 (Conv2D)           (None, 64, 64, 64)        1792      \n",
      "_________________________________________________________________\n",
      "max_pooling2d_13 (MaxPooling (None, 32, 32, 64)        0         \n",
      "_________________________________________________________________\n",
      "conv2d_14 (Conv2D)           (None, 32, 32, 64)        36928     \n",
      "_________________________________________________________________\n",
      "max_pooling2d_14 (MaxPooling (None, 16, 16, 64)        0         \n",
      "_________________________________________________________________\n",
      "conv2d_15 (Conv2D)           (None, 16, 16, 128)       73856     \n",
      "_________________________________________________________________\n",
      "max_pooling2d_15 (MaxPooling (None, 8, 8, 128)         0         \n",
      "_________________________________________________________________\n",
      "conv2d_16 (Conv2D)           (None, 8, 8, 128)         147584    \n",
      "_________________________________________________________________\n",
      "max_pooling2d_16 (MaxPooling (None, 4, 4, 128)         0         \n",
      "_________________________________________________________________\n",
      "flatten_7 (Flatten)          (None, 2048)              0         \n",
      "_________________________________________________________________\n",
      "dense_7 (Dense)              (None, 256)               524544    \n",
      "_________________________________________________________________\n",
      "dropout_4 (Dropout)          (None, 256)               0         \n",
      "_________________________________________________________________\n",
      "dense_8 (Dense)              (None, 3)                 771       \n",
      "=================================================================\n",
      "Total params: 785,475\n",
      "Trainable params: 785,475\n",
      "Non-trainable params: 0\n",
      "_________________________________________________________________\n"
     ]
    }
   ],
   "source": [
    "model.compile(optimizer='rmsprop', loss='categorical_crossentropy', metrics=['accuracy'])\n",
    "model.summary()"
   ]
  },
  {
   "cell_type": "code",
   "execution_count": 48,
   "metadata": {},
   "outputs": [
    {
     "name": "stdout",
     "output_type": "stream",
     "text": [
      "Train on 2799 samples, validate on 1200 samples\n",
      "Epoch 1/20\n",
      " - 23s - loss: 0.4893 - acc: 0.7967 - val_loss: 0.7459 - val_acc: 0.6658\n",
      "Epoch 2/20\n",
      " - 22s - loss: 0.4804 - acc: 0.8024 - val_loss: 0.6039 - val_acc: 0.7592\n",
      "Epoch 3/20\n",
      " - 23s - loss: 0.4500 - acc: 0.8235 - val_loss: 0.7193 - val_acc: 0.7392\n",
      "Epoch 4/20\n",
      " - 23s - loss: 0.4218 - acc: 0.8342 - val_loss: 0.6789 - val_acc: 0.7375\n",
      "Epoch 5/20\n",
      " - 22s - loss: 0.3741 - acc: 0.8549 - val_loss: 0.6293 - val_acc: 0.7583\n",
      "Epoch 6/20\n",
      " - 21s - loss: 0.3628 - acc: 0.8503 - val_loss: 1.0428 - val_acc: 0.6675\n",
      "Epoch 7/20\n",
      " - 22s - loss: 0.3486 - acc: 0.8689 - val_loss: 0.7664 - val_acc: 0.7258\n",
      "Epoch 8/20\n",
      " - 22s - loss: 0.2766 - acc: 0.8942 - val_loss: 0.8681 - val_acc: 0.7400\n",
      "Epoch 9/20\n",
      " - 21s - loss: 0.3118 - acc: 0.8814 - val_loss: 0.6183 - val_acc: 0.7850\n",
      "Epoch 10/20\n",
      " - 22s - loss: 0.2170 - acc: 0.9246 - val_loss: 1.1387 - val_acc: 0.7300\n",
      "Epoch 11/20\n",
      " - 21s - loss: 0.2392 - acc: 0.9132 - val_loss: 0.8002 - val_acc: 0.7833\n",
      "Epoch 12/20\n",
      " - 21s - loss: 0.2386 - acc: 0.9046 - val_loss: 0.7379 - val_acc: 0.7717\n",
      "Epoch 13/20\n",
      " - 22s - loss: 0.1263 - acc: 0.9571 - val_loss: 0.7863 - val_acc: 0.7925\n",
      "Epoch 14/20\n",
      " - 21s - loss: 0.2579 - acc: 0.8953 - val_loss: 0.7113 - val_acc: 0.8025\n",
      "Epoch 15/20\n",
      " - 22s - loss: 0.0746 - acc: 0.9782 - val_loss: 1.4280 - val_acc: 0.6983\n",
      "Epoch 16/20\n",
      " - 22s - loss: 0.2540 - acc: 0.9010 - val_loss: 0.7348 - val_acc: 0.8133\n",
      "Epoch 17/20\n",
      " - 24s - loss: 0.0679 - acc: 0.9800 - val_loss: 1.1525 - val_acc: 0.6975\n",
      "Epoch 18/20\n",
      " - 22s - loss: 0.2510 - acc: 0.9121 - val_loss: 0.8372 - val_acc: 0.8108\n",
      "Epoch 19/20\n",
      " - 23s - loss: 0.0869 - acc: 0.9714 - val_loss: 2.1927 - val_acc: 0.5825\n",
      "Epoch 20/20\n",
      " - 24s - loss: 0.2748 - acc: 0.9218 - val_loss: 0.7951 - val_acc: 0.8133\n"
     ]
    }
   ],
   "source": [
    "history = model.fit(X_train, Y_train, batch_size=256, epochs=20, verbose=2, validation_data=[X_test, Y_test])"
   ]
  },
  {
   "cell_type": "code",
   "execution_count": 49,
   "metadata": {},
   "outputs": [],
   "source": [
    "%matplotlib inline\n",
    "import matplotlib.pyplot as plt"
   ]
  },
  {
   "cell_type": "code",
   "execution_count": 50,
   "metadata": {},
   "outputs": [
    {
     "data": {
      "image/png": "[encoded data removed]",
      "text/plain": [
       "<Figure size 432x288 with 1 Axes>"
      ]
     },
     "metadata": {
      "needs_background": "light"
     },
     "output_type": "display_data"
    }
   ],
   "source": [
    "plt.plot(history.history['loss'])\n",
    "plt.plot(history.history['val_loss'])\n",
    "plt.title('model_loss')\n",
    "plt.ylabel('loss')\n",
    "plt.xlabel('epoch')\n",
    "plt.legend(['train', 'test'], loc='right')\n",
    "plt.show()"
   ]
  },
  {
   "cell_type": "markdown",
   "metadata": {},
   "source": [
    "# 문제 2,3번. "
   ]
  },
  {
   "cell_type": "markdown",
   "metadata": {},
   "source": [
    "### 하이퍼파라미터 찾기"
   ]
  },
  {
   "cell_type": "code",
   "execution_count": 52,
   "metadata": {},
   "outputs": [
    {
     "name": "stdout",
     "output_type": "stream",
     "text": [
      "_________________________________________________________________\n",
      "Layer (type)                 Output Shape              Param #   \n",
      "=================================================================\n",
      "conv2d_21 (Conv2D)           (None, 64, 64, 64)        1792      \n",
      "_________________________________________________________________\n",
      "max_pooling2d_21 (MaxPooling (None, 32, 32, 64)        0         \n",
      "_________________________________________________________________\n",
      "conv2d_22 (Conv2D)           (None, 32, 32, 64)        36928     \n",
      "_________________________________________________________________\n",
      "max_pooling2d_22 (MaxPooling (None, 16, 16, 64)        0         \n",
      "_________________________________________________________________\n",
      "conv2d_23 (Conv2D)           (None, 16, 16, 128)       73856     \n",
      "_________________________________________________________________\n",
      "max_pooling2d_23 (MaxPooling (None, 8, 8, 128)         0         \n",
      "_________________________________________________________________\n",
      "conv2d_24 (Conv2D)           (None, 8, 8, 128)         147584    \n",
      "_________________________________________________________________\n",
      "max_pooling2d_24 (MaxPooling (None, 4, 4, 128)         0         \n",
      "_________________________________________________________________\n",
      "flatten_9 (Flatten)          (None, 2048)              0         \n",
      "_________________________________________________________________\n",
      "dense_11 (Dense)             (None, 256)               524544    \n",
      "_________________________________________________________________\n",
      "dropout_6 (Dropout)          (None, 256)               0         \n",
      "_________________________________________________________________\n",
      "dense_12 (Dense)             (None, 3)                 771       \n",
      "=================================================================\n",
      "Total params: 785,475\n",
      "Trainable params: 785,475\n",
      "Non-trainable params: 0\n",
      "_________________________________________________________________\n"
     ]
    }
   ],
   "source": [
    "# 하이퍼파라미터 제시\n",
    "model = Sequential()\n",
    "model.add(Conv2D(64,(3,3),padding='same', activation='relu', input_shape=(64,64,3)))\n",
    "model.add(MaxPooling2D((2,2)))\n",
    "model.add(Conv2D(64,(3,3),padding='same', activation='relu'))\n",
    "model.add(MaxPooling2D((2,2)))\n",
    "model.add(Conv2D(128, (3,3), padding='same', activation='relu'))\n",
    "model.add(MaxPooling2D((2,2)))\n",
    "model.add(Conv2D(128, (3,3), padding='same', activation='relu'))\n",
    "model.add(MaxPooling2D((2,2)))\n",
    "model.add(Flatten())\n",
    "model.add(Dense(256, activation='relu'))\n",
    "model.add(Dropout(0.25))\n",
    "model.add(Dense(3, activation='softmax'))\n",
    "model.compile(optimizer='adam', loss='categorical_crossentropy', metrics=['accuracy'])\n",
    "model.summary()"
   ]
  },
  {
   "cell_type": "code",
   "execution_count": 54,
   "metadata": {},
   "outputs": [
    {
     "name": "stdout",
     "output_type": "stream",
     "text": [
      "Train on 2799 samples, validate on 1200 samples\n",
      "Epoch 1/10\n",
      " - 21s - loss: 0.9536 - acc: 0.5091 - val_loss: 0.9412 - val_acc: 0.5133\n",
      "Epoch 2/10\n",
      " - 21s - loss: 0.9400 - acc: 0.5145 - val_loss: 0.9317 - val_acc: 0.5483\n",
      "Epoch 3/10\n",
      " - 22s - loss: 0.9241 - acc: 0.5370 - val_loss: 0.9204 - val_acc: 0.5450\n",
      "Epoch 4/10\n",
      " - 21s - loss: 0.9038 - acc: 0.5627 - val_loss: 0.8977 - val_acc: 0.6058\n",
      "Epoch 5/10\n",
      " - 22s - loss: 0.8573 - acc: 0.6195 - val_loss: 0.8594 - val_acc: 0.6075\n",
      "Epoch 6/10\n",
      " - 22s - loss: 0.8166 - acc: 0.6452 - val_loss: 0.8025 - val_acc: 0.6350\n",
      "Epoch 7/10\n",
      " - 23s - loss: 0.7969 - acc: 0.6434 - val_loss: 0.7724 - val_acc: 0.6625\n",
      "Epoch 8/10\n",
      " - 23s - loss: 0.7585 - acc: 0.6745 - val_loss: 0.7349 - val_acc: 0.6817\n",
      "Epoch 9/10\n",
      " - 24s - loss: 0.7512 - acc: 0.6788 - val_loss: 0.7645 - val_acc: 0.6683\n",
      "Epoch 10/10\n",
      " - 24s - loss: 0.7181 - acc: 0.6927 - val_loss: 0.7261 - val_acc: 0.6733\n"
     ]
    }
   ],
   "source": [
    "history = model.fit(X_train, Y_train, batch_size=256, epochs=10, verbose=2, validation_data=[X_test, Y_test])"
   ]
  },
  {
   "cell_type": "code",
   "execution_count": 55,
   "metadata": {},
   "outputs": [
    {
     "data": {
      "image/png": "[encoded data removed]",
      "text/plain": [
       "<Figure size 432x288 with 1 Axes>"
      ]
     },
     "metadata": {
      "needs_background": "light"
     },
     "output_type": "display_data"
    }
   ],
   "source": [
    "plt.plot(history.history['loss'])\n",
    "plt.plot(history.history['val_loss'])\n",
    "plt.title('model_loss')\n",
    "plt.ylabel('loss')\n",
    "plt.xlabel('epoch')\n",
    "plt.legend(['train', 'test'], loc='right')\n",
    "plt.show()"
   ]
  },
  {
   "cell_type": "code",
   "execution_count": 57,
   "metadata": {},
   "outputs": [
    {
     "name": "stdout",
     "output_type": "stream",
     "text": [
      "[[309 142   0]\n",
      " [117 499   0]\n",
      " [ 35  98   0]]\n"
     ]
    }
   ],
   "source": [
    "Y_test_hat = model.predict(X_test)\n",
    "print(confusion_matrix(np.argmax(Y_test, axis=1), np.argmax(Y_test_hat, axis=1)))"
   ]
  },
  {
   "cell_type": "markdown",
   "metadata": {},
   "source": [
    "### 각기 다른 모델 5개 제시 및 confusion matrix, 분석"
   ]
  },
  {
   "cell_type": "code",
   "execution_count": 166,
   "metadata": {},
   "outputs": [],
   "source": [
    "# 1. \n",
    "# con pool 개수 3개\n",
    "model1 = Sequential()\n",
    "model1.add(Conv2D(64,(3,3),padding='same', activation='relu', input_shape=(64,64,3)))\n",
    "model1.add(MaxPooling2D((2,2)))\n",
    "model1.add(Conv2D(64,(3,3),padding='same', activation='relu'))\n",
    "model1.add(MaxPooling2D((2,2)))\n",
    "model1.add(Conv2D(128, (3,3), padding='same', activation='relu'))\n",
    "model1.add(MaxPooling2D((2,2)))"
   ]
  },
  {
   "cell_type": "code",
   "execution_count": 167,
   "metadata": {},
   "outputs": [
    {
     "name": "stdout",
     "output_type": "stream",
     "text": [
      "_________________________________________________________________\n",
      "Layer (type)                 Output Shape              Param #   \n",
      "=================================================================\n",
      "conv2d_124 (Conv2D)          (None, 64, 64, 64)        1792      \n",
      "_________________________________________________________________\n",
      "max_pooling2d_60 (MaxPooling (None, 32, 32, 64)        0         \n",
      "_________________________________________________________________\n",
      "conv2d_125 (Conv2D)          (None, 32, 32, 64)        36928     \n",
      "_________________________________________________________________\n",
      "max_pooling2d_61 (MaxPooling (None, 16, 16, 64)        0         \n",
      "_________________________________________________________________\n",
      "conv2d_126 (Conv2D)          (None, 16, 16, 128)       73856     \n",
      "_________________________________________________________________\n",
      "max_pooling2d_62 (MaxPooling (None, 8, 8, 128)         0         \n",
      "_________________________________________________________________\n",
      "flatten_31 (Flatten)         (None, 8192)              0         \n",
      "_________________________________________________________________\n",
      "dense_48 (Dense)             (None, 128)               1048704   \n",
      "_________________________________________________________________\n",
      "dropout_38 (Dropout)         (None, 128)               0         \n",
      "_________________________________________________________________\n",
      "dense_49 (Dense)             (None, 3)                 387       \n",
      "=================================================================\n",
      "Total params: 1,161,667\n",
      "Trainable params: 1,161,667\n",
      "Non-trainable params: 0\n",
      "_________________________________________________________________\n"
     ]
    }
   ],
   "source": [
    "model1.add(Flatten())\n",
    "model1.add(Dense(128, activation='relu'))\n",
    "model1.add(Dropout(0.25))\n",
    "model1.add(Dense(3, activation='softmax'))\n",
    "model1.compile(optimizer='rmsprop', loss='categorical_crossentropy', metrics=['accuracy'])\n",
    "model1.summary()"
   ]
  },
  {
   "cell_type": "code",
   "execution_count": 77,
   "metadata": {},
   "outputs": [
    {
     "name": "stdout",
     "output_type": "stream",
     "text": [
      "Train on 2799 samples, validate on 1200 samples\n",
      "Epoch 1/10\n",
      " - 20s - loss: 1.1905 - acc: 0.4666 - val_loss: 0.9899 - val_acc: 0.3758\n",
      "Epoch 2/10\n",
      " - 22s - loss: 0.9629 - acc: 0.4723 - val_loss: 0.9388 - val_acc: 0.5133\n",
      "Epoch 3/10\n",
      " - 20s - loss: 0.9562 - acc: 0.5098 - val_loss: 0.9326 - val_acc: 0.5692\n",
      "Epoch 4/10\n",
      " - 20s - loss: 0.9415 - acc: 0.5202 - val_loss: 0.9093 - val_acc: 0.5667\n",
      "Epoch 5/10\n",
      " - 20s - loss: 0.9144 - acc: 0.5448 - val_loss: 0.8886 - val_acc: 0.5992\n",
      "Epoch 6/10\n",
      " - 19s - loss: 0.8850 - acc: 0.5713 - val_loss: 0.8594 - val_acc: 0.6017\n",
      "Epoch 7/10\n",
      " - 18s - loss: 0.8519 - acc: 0.6149 - val_loss: 0.8268 - val_acc: 0.6200\n",
      "Epoch 8/10\n",
      " - 18s - loss: 0.8266 - acc: 0.6302 - val_loss: 0.8034 - val_acc: 0.6325\n",
      "Epoch 9/10\n",
      " - 19s - loss: 0.7854 - acc: 0.6563 - val_loss: 0.8087 - val_acc: 0.6675\n",
      "Epoch 10/10\n",
      " - 19s - loss: 0.7751 - acc: 0.6613 - val_loss: 0.7555 - val_acc: 0.6592\n"
     ]
    }
   ],
   "source": [
    "history = model1.fit(X_train, Y_train, batch_size=256, epochs=10, verbose=2, validation_data=[X_test, Y_test])"
   ]
  },
  {
   "cell_type": "code",
   "execution_count": 78,
   "metadata": {},
   "outputs": [
    {
     "data": {
      "image/png": "[encoded data removed]",
      "text/plain": [
       "<Figure size 432x288 with 1 Axes>"
      ]
     },
     "metadata": {
      "needs_background": "light"
     },
     "output_type": "display_data"
    }
   ],
   "source": [
    "plt.plot(history.history['loss'])\n",
    "plt.plot(history.history['val_loss'])\n",
    "plt.title('model_loss')\n",
    "plt.ylabel('loss')\n",
    "plt.xlabel('epoch')\n",
    "plt.legend(['train', 'test'], loc='right')\n",
    "plt.show()"
   ]
  },
  {
   "cell_type": "code",
   "execution_count": 80,
   "metadata": {},
   "outputs": [
    {
     "name": "stdout",
     "output_type": "stream",
     "text": [
      "[[364  87   0]\n",
      " [189 427   0]\n",
      " [ 67  66   0]]\n"
     ]
    }
   ],
   "source": [
    "Y_test_hat = model.predict(X_test)\n",
    "print(confusion_matrix(np.argmax(Y_test, axis=1), np.argmax(Y_test_hat, axis=1)))"
   ]
  },
  {
   "cell_type": "code",
   "execution_count": null,
   "metadata": {},
   "outputs": [],
   "source": []
  },
  {
   "cell_type": "code",
   "execution_count": null,
   "metadata": {},
   "outputs": [],
   "source": []
  },
  {
   "cell_type": "code",
   "execution_count": null,
   "metadata": {},
   "outputs": [],
   "source": []
  },
  {
   "cell_type": "code",
   "execution_count": 168,
   "metadata": {},
   "outputs": [
    {
     "name": "stdout",
     "output_type": "stream",
     "text": [
      "_________________________________________________________________\n",
      "Layer (type)                 Output Shape              Param #   \n",
      "=================================================================\n",
      "conv2d_127 (Conv2D)          (None, 64, 64, 64)        1792      \n",
      "_________________________________________________________________\n",
      "max_pooling2d_63 (MaxPooling (None, 32, 32, 64)        0         \n",
      "_________________________________________________________________\n",
      "conv2d_128 (Conv2D)          (None, 32, 32, 64)        36928     \n",
      "_________________________________________________________________\n",
      "max_pooling2d_64 (MaxPooling (None, 16, 16, 64)        0         \n",
      "_________________________________________________________________\n",
      "conv2d_129 (Conv2D)          (None, 16, 16, 128)       73856     \n",
      "_________________________________________________________________\n",
      "max_pooling2d_65 (MaxPooling (None, 8, 8, 128)         0         \n",
      "_________________________________________________________________\n",
      "conv2d_130 (Conv2D)          (None, 8, 8, 128)         147584    \n",
      "_________________________________________________________________\n",
      "max_pooling2d_66 (MaxPooling (None, 4, 4, 128)         0         \n",
      "_________________________________________________________________\n",
      "flatten_32 (Flatten)         (None, 2048)              0         \n",
      "_________________________________________________________________\n",
      "dense_50 (Dense)             (None, 256)               524544    \n",
      "_________________________________________________________________\n",
      "dropout_39 (Dropout)         (None, 256)               0         \n",
      "_________________________________________________________________\n",
      "dense_51 (Dense)             (None, 3)                 771       \n",
      "=================================================================\n",
      "Total params: 785,475\n",
      "Trainable params: 785,475\n",
      "Non-trainable params: 0\n",
      "_________________________________________________________________\n"
     ]
    }
   ],
   "source": [
    "# 2.\n",
    "# con pool 개수 4개\n",
    "model2 = Sequential()\n",
    "model2.add(Conv2D(64,(3,3),padding='same', activation='relu', input_shape=(64,64,3)))\n",
    "model2.add(MaxPooling2D((2,2)))\n",
    "model2.add(Conv2D(64,(3,3),padding='same', activation='relu'))\n",
    "model2.add(MaxPooling2D((2,2)))\n",
    "model2.add(Conv2D(128, (3,3), padding='same', activation='relu'))\n",
    "model2.add(MaxPooling2D((2,2)))\n",
    "model2.add(Conv2D(128, (3,3), padding='same', activation='relu'))\n",
    "model2.add(MaxPooling2D((2,2)))\n",
    "model2.add(Flatten())\n",
    "model2.add(Dense(256, activation='relu'))\n",
    "model2.add(Dropout(0.25))\n",
    "model2.add(Dense(3, activation='softmax'))\n",
    "model2.compile(optimizer='rmsprop', loss='categorical_crossentropy', metrics=['accuracy'])\n",
    "model2.summary()"
   ]
  },
  {
   "cell_type": "code",
   "execution_count": 64,
   "metadata": {},
   "outputs": [
    {
     "name": "stdout",
     "output_type": "stream",
     "text": [
      "Train on 2799 samples, validate on 1200 samples\n",
      "Epoch 1/10\n",
      " - 22s - loss: 1.0315 - acc: 0.4319 - val_loss: 0.9812 - val_acc: 0.5133\n",
      "Epoch 2/10\n",
      " - 21s - loss: 0.9664 - acc: 0.4923 - val_loss: 0.9520 - val_acc: 0.5133\n",
      "Epoch 3/10\n",
      " - 21s - loss: 0.9530 - acc: 0.5134 - val_loss: 0.9508 - val_acc: 0.5133\n",
      "Epoch 4/10\n",
      " - 23s - loss: 0.9451 - acc: 0.5173 - val_loss: 0.9543 - val_acc: 0.5142\n",
      "Epoch 5/10\n",
      " - 23s - loss: 0.9447 - acc: 0.5263 - val_loss: 0.9165 - val_acc: 0.5525\n",
      "Epoch 6/10\n",
      " - 21s - loss: 0.9015 - acc: 0.5566 - val_loss: 0.8987 - val_acc: 0.5800\n",
      "Epoch 7/10\n",
      " - 21s - loss: 0.8849 - acc: 0.5931 - val_loss: 0.9265 - val_acc: 0.5392\n",
      "Epoch 8/10\n",
      " - 21s - loss: 0.8466 - acc: 0.6099 - val_loss: 0.8011 - val_acc: 0.6317\n",
      "Epoch 9/10\n",
      " - 22s - loss: 0.8097 - acc: 0.6502 - val_loss: 0.9165 - val_acc: 0.5567\n",
      "Epoch 10/10\n",
      " - 22s - loss: 0.7897 - acc: 0.6563 - val_loss: 0.7392 - val_acc: 0.6683\n"
     ]
    }
   ],
   "source": [
    "history = model2.fit(X_train, Y_train, batch_size=256, epochs=10, verbose=2, validation_data=[X_test, Y_test])"
   ]
  },
  {
   "cell_type": "code",
   "execution_count": 66,
   "metadata": {},
   "outputs": [
    {
     "data": {
      "image/png": "[encoded data removed]",
      "text/plain": [
       "<Figure size 432x288 with 1 Axes>"
      ]
     },
     "metadata": {
      "needs_background": "light"
     },
     "output_type": "display_data"
    }
   ],
   "source": [
    "plt.plot(history.history['loss'])\n",
    "plt.plot(history.history['val_loss'])\n",
    "plt.title('model_loss')\n",
    "plt.ylabel('loss')\n",
    "plt.xlabel('epoch')\n",
    "plt.legend(['train', 'test'], loc='right')\n",
    "plt.show()"
   ]
  },
  {
   "cell_type": "code",
   "execution_count": 67,
   "metadata": {},
   "outputs": [
    {
     "name": "stdout",
     "output_type": "stream",
     "text": [
      "[[350 101   0]\n",
      " [164 452   0]\n",
      " [ 44  89   0]]\n"
     ]
    }
   ],
   "source": [
    "Y_test_hat = model.predict(X_test)\n",
    "print(confusion_matrix(np.argmax(Y_test, axis=1), np.argmax(Y_test_hat, axis=1)))"
   ]
  },
  {
   "cell_type": "code",
   "execution_count": 169,
   "metadata": {},
   "outputs": [
    {
     "name": "stdout",
     "output_type": "stream",
     "text": [
      "_________________________________________________________________\n",
      "Layer (type)                 Output Shape              Param #   \n",
      "=================================================================\n",
      "conv2d_131 (Conv2D)          (None, 64, 64, 64)        1792      \n",
      "_________________________________________________________________\n",
      "max_pooling2d_67 (MaxPooling (None, 32, 32, 64)        0         \n",
      "_________________________________________________________________\n",
      "conv2d_132 (Conv2D)          (None, 32, 32, 64)        36928     \n",
      "_________________________________________________________________\n",
      "max_pooling2d_68 (MaxPooling (None, 16, 16, 64)        0         \n",
      "_________________________________________________________________\n",
      "flatten_33 (Flatten)         (None, 16384)             0         \n",
      "_________________________________________________________________\n",
      "dense_52 (Dense)             (None, 64)                1048640   \n",
      "_________________________________________________________________\n",
      "dropout_40 (Dropout)         (None, 64)                0         \n",
      "_________________________________________________________________\n",
      "dense_53 (Dense)             (None, 3)                 195       \n",
      "=================================================================\n",
      "Total params: 1,087,555\n",
      "Trainable params: 1,087,555\n",
      "Non-trainable params: 0\n",
      "_________________________________________________________________\n"
     ]
    }
   ],
   "source": [
    "# 3.\n",
    "# con pool 개수 2개\n",
    "model3 = Sequential()\n",
    "model3.add(Conv2D(64,(3,3),padding='same', activation='relu', input_shape=(64,64,3)))\n",
    "model3.add(MaxPooling2D((2,2)))\n",
    "model3.add(Conv2D(64,(3,3),padding='same', activation='relu'))\n",
    "model3.add(MaxPooling2D((2,2)))\n",
    "model3.add(Flatten())\n",
    "model3.add(Dense(64, activation='relu'))\n",
    "model3.add(Dropout(0.25))\n",
    "model3.add(Dense(3, activation='softmax'))\n",
    "model3.compile(optimizer='adam', loss='categorical_crossentropy', metrics=['accuracy'])\n",
    "model3.summary()"
   ]
  },
  {
   "cell_type": "code",
   "execution_count": 82,
   "metadata": {},
   "outputs": [
    {
     "name": "stdout",
     "output_type": "stream",
     "text": [
      "Train on 2799 samples, validate on 1200 samples\n",
      "Epoch 1/10\n",
      " - 16s - loss: 1.2053 - acc: 0.4712 - val_loss: 1.0227 - val_acc: 0.5133\n",
      "Epoch 2/10\n",
      " - 16s - loss: 0.9804 - acc: 0.4987 - val_loss: 0.9422 - val_acc: 0.5142\n",
      "Epoch 3/10\n",
      " - 17s - loss: 0.9452 - acc: 0.5177 - val_loss: 0.9236 - val_acc: 0.5642\n",
      "Epoch 4/10\n",
      " - 15s - loss: 0.9256 - acc: 0.5627 - val_loss: 0.9071 - val_acc: 0.5558\n",
      "Epoch 5/10\n",
      " - 15s - loss: 0.8994 - acc: 0.5777 - val_loss: 0.8725 - val_acc: 0.5942\n",
      "Epoch 6/10\n",
      " - 15s - loss: 0.8527 - acc: 0.6120 - val_loss: 0.8236 - val_acc: 0.6058\n",
      "Epoch 7/10\n",
      " - 15s - loss: 0.8088 - acc: 0.6392 - val_loss: 0.7977 - val_acc: 0.6342\n",
      "Epoch 8/10\n",
      " - 16s - loss: 0.7759 - acc: 0.6517 - val_loss: 0.8163 - val_acc: 0.6350\n",
      "Epoch 9/10\n",
      " - 16s - loss: 0.7583 - acc: 0.6592 - val_loss: 0.7513 - val_acc: 0.6650\n",
      "Epoch 10/10\n",
      " - 16s - loss: 0.7140 - acc: 0.6842 - val_loss: 0.7310 - val_acc: 0.6708\n"
     ]
    }
   ],
   "source": [
    "history = model3.fit(X_train, Y_train, batch_size=256, epochs=10, verbose=2, validation_data=[X_test, Y_test])"
   ]
  },
  {
   "cell_type": "code",
   "execution_count": 83,
   "metadata": {},
   "outputs": [
    {
     "data": {
      "image/png": "[encoded data removed]",
      "text/plain": [
       "<Figure size 432x288 with 1 Axes>"
      ]
     },
     "metadata": {
      "needs_background": "light"
     },
     "output_type": "display_data"
    }
   ],
   "source": [
    "plt.plot(history.history['loss'])\n",
    "plt.plot(history.history['val_loss'])\n",
    "plt.title('model_loss')\n",
    "plt.ylabel('loss')\n",
    "plt.xlabel('epoch')\n",
    "plt.legend(['train', 'test'], loc='right')\n",
    "plt.show()"
   ]
  },
  {
   "cell_type": "code",
   "execution_count": 84,
   "metadata": {},
   "outputs": [
    {
     "name": "stdout",
     "output_type": "stream",
     "text": [
      "[[327 124   0]\n",
      " [138 478   0]\n",
      " [ 37  96   0]]\n"
     ]
    }
   ],
   "source": [
    "Y_test_hat = model.predict(X_test)\n",
    "print(confusion_matrix(np.argmax(Y_test, axis=1), np.argmax(Y_test_hat, axis=1)))"
   ]
  },
  {
   "cell_type": "code",
   "execution_count": null,
   "metadata": {},
   "outputs": [],
   "source": []
  },
  {
   "cell_type": "code",
   "execution_count": 170,
   "metadata": {},
   "outputs": [
    {
     "name": "stdout",
     "output_type": "stream",
     "text": [
      "_________________________________________________________________\n",
      "Layer (type)                 Output Shape              Param #   \n",
      "=================================================================\n",
      "conv2d_133 (Conv2D)          (None, 64, 64, 64)        1792      \n",
      "_________________________________________________________________\n",
      "max_pooling2d_69 (MaxPooling (None, 32, 32, 64)        0         \n",
      "_________________________________________________________________\n",
      "conv2d_134 (Conv2D)          (None, 32, 32, 64)        36928     \n",
      "_________________________________________________________________\n",
      "max_pooling2d_70 (MaxPooling (None, 16, 16, 64)        0         \n",
      "_________________________________________________________________\n",
      "conv2d_135 (Conv2D)          (None, 16, 16, 128)       73856     \n",
      "_________________________________________________________________\n",
      "max_pooling2d_71 (MaxPooling (None, 8, 8, 128)         0         \n",
      "_________________________________________________________________\n",
      "flatten_34 (Flatten)         (None, 8192)              0         \n",
      "_________________________________________________________________\n",
      "dense_54 (Dense)             (None, 128)               1048704   \n",
      "_________________________________________________________________\n",
      "dropout_41 (Dropout)         (None, 128)               0         \n",
      "_________________________________________________________________\n",
      "dense_55 (Dense)             (None, 3)                 387       \n",
      "=================================================================\n",
      "Total params: 1,161,667\n",
      "Trainable params: 1,161,667\n",
      "Non-trainable params: 0\n",
      "_________________________________________________________________\n"
     ]
    }
   ],
   "source": [
    "# 4. \n",
    "# con pool 개수 \n",
    "\n",
    "model4 = Sequential()\n",
    "model4.add(Conv2D(64, (3, 3),padding='same', activation='relu', input_shape=(64,64,3)))\n",
    "model4.add(MaxPooling2D(pool_size=(2, 2)))\n",
    "model4.add(Conv2D(64,(3,3),padding='same', activation='relu'))\n",
    "model4.add(MaxPooling2D(pool_size=(2, 2)))\n",
    "\n",
    "model4.add(Conv2D(128, (3, 3),padding='same', activation='relu', input_shape=(64,64,3)))\n",
    "model4.add(MaxPooling2D(pool_size=(2, 2)))\n",
    "model4.add(Flatten())  # this converts our 3D feature maps to 1D feature vectors\n",
    "model4.add(Dense(128, activation='relu'))\n",
    "model4.add(Dropout(0.5))\n",
    "model4.add(Dense(3, activation='sigmoid'))\n",
    "\n",
    "model4.compile(loss='binary_crossentropy',\n",
    "              optimizer='rmsprop',\n",
    "              metrics=['accuracy'])\n",
    "\n",
    "\n",
    "model4.summary()\n"
   ]
  },
  {
   "cell_type": "code",
   "execution_count": 217,
   "metadata": {},
   "outputs": [
    {
     "name": "stdout",
     "output_type": "stream",
     "text": [
      "Train on 2799 samples, validate on 1200 samples\n",
      "Epoch 1/10\n",
      " - 34s - loss: 0.5947 - acc: 0.6700 - val_loss: 0.5566 - val_acc: 0.7025\n",
      "Epoch 2/10\n",
      " - 33s - loss: 0.5298 - acc: 0.7388 - val_loss: 0.4988 - val_acc: 0.7575\n",
      "Epoch 3/10\n",
      " - 34s - loss: 0.4943 - acc: 0.7705 - val_loss: 0.4731 - val_acc: 0.7836\n",
      "Epoch 4/10\n",
      " - 34s - loss: 0.4666 - acc: 0.7861 - val_loss: 0.4668 - val_acc: 0.7681\n",
      "Epoch 5/10\n",
      " - 34s - loss: 0.4366 - acc: 0.8016 - val_loss: 0.4386 - val_acc: 0.8033\n",
      "Epoch 6/10\n",
      " - 34s - loss: 0.4147 - acc: 0.8133 - val_loss: 0.4395 - val_acc: 0.7936\n",
      "Epoch 7/10\n",
      " - 34s - loss: 0.3774 - acc: 0.8359 - val_loss: 0.4023 - val_acc: 0.8228\n",
      "Epoch 8/10\n",
      " - 35s - loss: 0.3471 - acc: 0.8470 - val_loss: 0.4550 - val_acc: 0.8094\n",
      "Epoch 9/10\n",
      " - 69105s - loss: 0.3216 - acc: 0.8614 - val_loss: 0.4384 - val_acc: 0.8283\n",
      "Epoch 10/10\n",
      " - 36s - loss: 0.2882 - acc: 0.8820 - val_loss: 0.4018 - val_acc: 0.8447\n"
     ]
    }
   ],
   "source": [
    "history = model4.fit(X_train, Y_train, batch_size=16, epochs=10, verbose=2, validation_data=[X_test, Y_test])"
   ]
  },
  {
   "cell_type": "code",
   "execution_count": 73,
   "metadata": {},
   "outputs": [
    {
     "data": {
      "image/png": "[encoded data removed]",
      "text/plain": [
       "<Figure size 432x288 with 1 Axes>"
      ]
     },
     "metadata": {
      "needs_background": "light"
     },
     "output_type": "display_data"
    }
   ],
   "source": [
    "plt.plot(history.history['loss'])\n",
    "plt.plot(history.history['val_loss'])\n",
    "plt.title('model_loss')\n",
    "plt.ylabel('loss')\n",
    "plt.xlabel('epoch')\n",
    "plt.legend(['train', 'test'], loc='right')\n",
    "plt.show()"
   ]
  },
  {
   "cell_type": "code",
   "execution_count": 74,
   "metadata": {},
   "outputs": [
    {
     "name": "stdout",
     "output_type": "stream",
     "text": [
      "[[248 197   6]\n",
      " [ 27 580   9]\n",
      " [  9  86  38]]\n"
     ]
    }
   ],
   "source": [
    "Y_test_hat = model.predict(X_test)\n",
    "print(confusion_matrix(np.argmax(Y_test, axis=1), np.argmax(Y_test_hat, axis=1)))"
   ]
  },
  {
   "cell_type": "code",
   "execution_count": null,
   "metadata": {},
   "outputs": [],
   "source": []
  },
  {
   "cell_type": "code",
   "execution_count": 172,
   "metadata": {},
   "outputs": [
    {
     "name": "stdout",
     "output_type": "stream",
     "text": [
      "_________________________________________________________________\n",
      "Layer (type)                 Output Shape              Param #   \n",
      "=================================================================\n",
      "conv2d_140 (Conv2D)          (None, 64, 64, 64)        1792      \n",
      "_________________________________________________________________\n",
      "max_pooling2d_76 (MaxPooling (None, 32, 32, 64)        0         \n",
      "_________________________________________________________________\n",
      "conv2d_141 (Conv2D)          (None, 32, 32, 64)        36928     \n",
      "_________________________________________________________________\n",
      "max_pooling2d_77 (MaxPooling (None, 16, 16, 64)        0         \n",
      "_________________________________________________________________\n",
      "conv2d_142 (Conv2D)          (None, 16, 16, 64)        36928     \n",
      "_________________________________________________________________\n",
      "max_pooling2d_78 (MaxPooling (None, 8, 8, 64)          0         \n",
      "_________________________________________________________________\n",
      "conv2d_143 (Conv2D)          (None, 8, 8, 128)         73856     \n",
      "_________________________________________________________________\n",
      "max_pooling2d_79 (MaxPooling (None, 4, 4, 128)         0         \n",
      "_________________________________________________________________\n",
      "flatten_36 (Flatten)         (None, 2048)              0         \n",
      "_________________________________________________________________\n",
      "dense_58 (Dense)             (None, 128)               262272    \n",
      "_________________________________________________________________\n",
      "dropout_43 (Dropout)         (None, 128)               0         \n",
      "_________________________________________________________________\n",
      "dense_59 (Dense)             (None, 3)                 387       \n",
      "=================================================================\n",
      "Total params: 412,163\n",
      "Trainable params: 412,163\n",
      "Non-trainable params: 0\n",
      "_________________________________________________________________\n"
     ]
    }
   ],
   "source": [
    "# 5. \n",
    "# 가장 성능이 좋았던 4번에서 layer추가\n",
    "model5 = Sequential()\n",
    "model5.add(Conv2D(64, (3, 3),padding='same', activation='relu', input_shape=(64,64,3)))\n",
    "model5.add(MaxPooling2D(pool_size=(2, 2)))\n",
    "model5.add(Conv2D(64,(3,3),padding='same', activation='relu'))\n",
    "model5.add(MaxPooling2D(pool_size=(2, 2)))\n",
    "model5.add(Conv2D(64,(3,3),padding='same', activation='relu'))\n",
    "model5.add(MaxPooling2D(pool_size=(2, 2)))\n",
    "model5.add(Conv2D(128, (3, 3),padding='same', activation='relu', input_shape=(64,64,3)))\n",
    "model5.add(MaxPooling2D(pool_size=(2, 2)))\n",
    "model5.add(Flatten())  # this converts our 3D feature maps to 1D feature vectors\n",
    "model5.add(Dense(128, activation='relu'))\n",
    "model5.add(Dropout(0.5))\n",
    "model5.add(Dense(3, activation='sigmoid'))\n",
    "\n",
    "model5.compile(loss='binary_crossentropy',\n",
    "              optimizer='rmsprop',\n",
    "              metrics=['accuracy'])\n",
    "\n",
    "\n",
    "model5.summary()"
   ]
  },
  {
   "cell_type": "code",
   "execution_count": 218,
   "metadata": {},
   "outputs": [
    {
     "name": "stdout",
     "output_type": "stream",
     "text": [
      "Train on 2799 samples, validate on 1200 samples\n",
      "Epoch 1/20\n",
      " - 49s - loss: 0.5873 - acc: 0.6642 - val_loss: 0.5893 - val_acc: 0.6756\n",
      "Epoch 2/20\n",
      " - 36s - loss: 0.5717 - acc: 0.6742 - val_loss: 0.5513 - val_acc: 0.7058\n",
      "Epoch 3/20\n",
      " - 35s - loss: 0.5316 - acc: 0.7303 - val_loss: 0.5032 - val_acc: 0.7633\n",
      "Epoch 4/20\n",
      " - 36s - loss: 0.4910 - acc: 0.7681 - val_loss: 0.4799 - val_acc: 0.7672\n",
      "Epoch 5/20\n",
      " - 29s - loss: 0.4681 - acc: 0.7836 - val_loss: 0.4630 - val_acc: 0.7925\n",
      "Epoch 6/20\n",
      " - 30s - loss: 0.4482 - acc: 0.7956 - val_loss: 0.4413 - val_acc: 0.8011\n",
      "Epoch 7/20\n",
      " - 31s - loss: 0.4193 - acc: 0.8093 - val_loss: 0.4096 - val_acc: 0.8103\n",
      "Epoch 8/20\n",
      " - 33s - loss: 0.3974 - acc: 0.8283 - val_loss: 0.4055 - val_acc: 0.8089\n",
      "Epoch 9/20\n",
      " - 32s - loss: 0.3687 - acc: 0.8408 - val_loss: 0.4158 - val_acc: 0.8167\n",
      "Epoch 10/20\n",
      " - 34s - loss: 0.3292 - acc: 0.8545 - val_loss: 0.4969 - val_acc: 0.8078\n",
      "Epoch 11/20\n",
      " - 32s - loss: 0.3002 - acc: 0.8736 - val_loss: 0.3816 - val_acc: 0.8394\n",
      "Epoch 12/20\n",
      " - 31s - loss: 0.2610 - acc: 0.8922 - val_loss: 0.4079 - val_acc: 0.8461\n",
      "Epoch 13/20\n",
      " - 30s - loss: 0.2294 - acc: 0.9121 - val_loss: 0.3697 - val_acc: 0.8617\n",
      "Epoch 14/20\n",
      " - 40s - loss: 0.2030 - acc: 0.9193 - val_loss: 0.4626 - val_acc: 0.8461\n",
      "Epoch 15/20\n",
      " - 37s - loss: 0.1779 - acc: 0.9337 - val_loss: 0.4167 - val_acc: 0.8714\n",
      "Epoch 16/20\n",
      " - 32s - loss: 0.1565 - acc: 0.9432 - val_loss: 0.4209 - val_acc: 0.8600\n",
      "Epoch 17/20\n",
      " - 32s - loss: 0.1372 - acc: 0.9459 - val_loss: 0.5192 - val_acc: 0.8739\n",
      "Epoch 18/20\n",
      " - 32s - loss: 0.1147 - acc: 0.9556 - val_loss: 0.5132 - val_acc: 0.8728\n",
      "Epoch 19/20\n",
      " - 33s - loss: 0.1081 - acc: 0.9602 - val_loss: 0.4541 - val_acc: 0.8700\n",
      "Epoch 20/20\n",
      " - 33s - loss: 0.0879 - acc: 0.9686 - val_loss: 0.6248 - val_acc: 0.8736\n"
     ]
    }
   ],
   "source": [
    "history = model5.fit(X_train, Y_train, batch_size=16, epochs=20, verbose=2, validation_data=[X_test, Y_test])"
   ]
  },
  {
   "cell_type": "code",
   "execution_count": 87,
   "metadata": {},
   "outputs": [
    {
     "data": {
      "image/png": "[encoded data removed]",
      "text/plain": [
       "<Figure size 432x288 with 1 Axes>"
      ]
     },
     "metadata": {
      "needs_background": "light"
     },
     "output_type": "display_data"
    }
   ],
   "source": [
    "plt.plot(history.history['loss'])\n",
    "plt.plot(history.history['val_loss'])\n",
    "plt.title('model_loss')\n",
    "plt.ylabel('loss')\n",
    "plt.xlabel('epoch')\n",
    "plt.legend(['train', 'test'], loc='right')\n",
    "plt.show()"
   ]
  },
  {
   "cell_type": "code",
   "execution_count": 88,
   "metadata": {},
   "outputs": [
    {
     "name": "stdout",
     "output_type": "stream",
     "text": [
      "[[331 118   2]\n",
      " [ 58 538  20]\n",
      " [ 15  48  70]]\n"
     ]
    }
   ],
   "source": [
    "Y_test_hat = model.predict(X_test)\n",
    "print(confusion_matrix(np.argmax(Y_test, axis=1), np.argmax(Y_test_hat, axis=1)))"
   ]
  },
  {
   "cell_type": "code",
   "execution_count": null,
   "metadata": {},
   "outputs": [],
   "source": []
  },
  {
   "cell_type": "code",
   "execution_count": null,
   "metadata": {},
   "outputs": [],
   "source": []
  },
  {
   "cell_type": "markdown",
   "metadata": {},
   "source": [
    "# 문제 4번. 앙상블 방법"
   ]
  },
  {
   "cell_type": "code",
   "execution_count": 141,
   "metadata": {},
   "outputs": [],
   "source": [
    "import matplotlib.pyplot as plt\n",
    "\n",
    "from keras.models import Sequential\n",
    "from keras.layers import Activation, Dense\n",
    "from keras import optimizers\n",
    "from sklearn.model_selection import train_test_split\n",
    "from keras.datasets import mnist\n",
    "from keras.models import Sequential\n",
    "from keras.utils.np_utils import to_categorical"
   ]
  },
  {
   "cell_type": "code",
   "execution_count": 219,
   "metadata": {},
   "outputs": [],
   "source": [
    "import scipy\n",
    "\n",
    "train_labels = []\n",
    "models = [model4,model5]\n",
    "for m in models:\n",
    "    predicts = np.argmax(m.predict(X_train), axis=1)\n",
    "    train_labels.append(predicts)\n",
    "        \n",
    "train_labels = np.array(train_labels)\n",
    "train_labels = np.transpose(train_labels, (1, 0))\n",
    "train_labels = scipy.stats.mode(train_labels, axis=1)[0]\n",
    "train_labels = np.squeeze(train_labels)\n",
    "\n",
    "test_labels = []\n",
    "models = [model4,model5]\n",
    "for m in models:\n",
    "    predicts = np.argmax(m.predict(X_test), axis=1)\n",
    "    test_labels.append(predicts)\n",
    "    \n",
    "    if m == model4: \n",
    "        test_labels.append(predicts)\n",
    "        \n",
    "test_labels = np.array(test_labels)\n",
    "test_labels = np.transpose(test_labels, (1, 0))\n",
    "test_labels = scipy.stats.mode(test_labels, axis=1)[0]\n",
    "test_labels = np.squeeze(test_labels)"
   ]
  },
  {
   "cell_type": "code",
   "execution_count": 220,
   "metadata": {},
   "outputs": [
    {
     "name": "stdout",
     "output_type": "stream",
     "text": [
      "train accuracy score:  0.9253304751697035\n",
      "test accuracy score:  0.7558333333333334\n"
     ]
    }
   ],
   "source": [
    "print('train accuracy score: ', accuracy_score(np.argmax(Y_train,1),train_labels))\n",
    "print('test accuracy score: ', accuracy_score(np.argmax(Y_test,1),test_labels))"
   ]
  },
  {
   "cell_type": "code",
   "execution_count": null,
   "metadata": {},
   "outputs": [],
   "source": []
  },
  {
   "cell_type": "code",
   "execution_count": null,
   "metadata": {},
   "outputs": [],
   "source": []
  },
  {
   "cell_type": "code",
   "execution_count": 142,
   "metadata": {},
   "outputs": [],
   "source": [
    "def mlp_model():\n",
    "    model = Sequential()\n",
    "    model.add(Dense(50, input_shape = (64,64,3)))\n",
    "    model.add(Activation('sigmoid'))    \n",
    "    model.add(Dense(50))\n",
    "    model.add(Activation('sigmoid'))  \n",
    "    model.add(Dense(50))\n",
    "    model.add(Activation('sigmoid'))    \n",
    "    model.add(Dense(50))\n",
    "    model.add(Activation('sigmoid'))    \n",
    "    model.add(Dense(10))\n",
    "    model.add(Activation('softmax'))\n",
    "    \n",
    "    adam = optimizers.Adam(lr = 0.001)                     # use Adam optimizer\n",
    "    model.compile(optimizer = adam, loss = 'categorical_crossentropy', metrics = ['accuracy'])\n",
    "    \n",
    "    return model"
   ]
  },
  {
   "cell_type": "code",
   "execution_count": 151,
   "metadata": {},
   "outputs": [],
   "source": [
    "import keras\n",
    "from keras.models import Sequential\n",
    "from keras.layers import Dense, Dropout, Flatten, Conv2D, MaxPooling2D,AveragePooling2D\n",
    "from keras.layers.normalization import BatchNormalization\n",
    "from keras.callbacks import LearningRateScheduler,ReduceLROnPlateau\n",
    "from keras.optimizers import Adam # I believe this is better optimizer for our case\n",
    "from keras.preprocessing.image import ImageDataGenerator # to augmenting our images for increasing accuracy\n",
    "from keras.utils.vis_utils import plot_model\n",
    "import scipy\n",
    "from sklearn.model_selection import train_test_split # to split our train data into train and validation sets\n",
    "import numpy as np # linear algebra\n",
    "import pandas as pd # data processing, CSV file I/O (e.g. pd.read_csv)\n",
    "np.random.seed(13) # My lucky number"
   ]
  },
  {
   "cell_type": "code",
   "execution_count": 155,
   "metadata": {},
   "outputs": [],
   "source": [
    "num_classes = 3 # We have 10 digits to identify\n",
    "batch_size = 128 # Handle 128 pictures at each round\n",
    "epochs = 10 \n",
    "img_rows, img_cols = 64, 64 # Image dimensions 28 pixels in height&width\n",
    "input_shape = (img_rows, img_cols,3) # We'll use this while building layers\n"
   ]
  },
  {
   "cell_type": "code",
   "execution_count": 157,
   "metadata": {},
   "outputs": [],
   "source": [
    "def model_cnn(input_shape=input_shape, num_classes=num_classes):   \n",
    "    model = Sequential()\n",
    "\n",
    "    # Add convolutional layer consisting of 32 filters and shape of 3x3 with ReLU activation\n",
    "    # We want to preserve more information for following layers so we use padding\n",
    "    # 'Same' padding tries to pad evenly left and right, \n",
    "    # but if the amount of columns to be added is odd, it will add the extra column to the right\n",
    "    model.add(Conv2D(64, kernel_size = (3,3), activation='relu', input_shape = input_shape))\n",
    "    model.add(BatchNormalization())\n",
    "    model.add(Conv2D(64, kernel_size = (3,3), activation='relu'))\n",
    "    model.add(BatchNormalization())\n",
    "\n",
    "    # Add convolutional layer consisting of 32 filters and shape of 5x5 with ReLU activation\n",
    "    # We give strides=2 for space between each sample on the pixel grid\n",
    "    model.add(Conv2D(64, kernel_size = (5,5), strides=2, padding='same', activation='relu'))\n",
    "    model.add(BatchNormalization())\n",
    "    # Dropping %40 of neurons\n",
    "    model.add(Dropout(0.4))\n",
    "    \n",
    "    model.add(Conv2D(128, kernel_size = (3,3), activation='relu'))\n",
    "    model.add(BatchNormalization())\n",
    "    model.add(Conv2D(128, kernel_size = (3,3), activation='relu'))\n",
    "    model.add(BatchNormalization())\n",
    "    model.add(Conv2D(128, kernel_size = (5,5), strides=2, padding='same', activation='relu'))\n",
    "    model.add(BatchNormalization())\n",
    "    model.add(Dropout(0.4))\n",
    "\n",
    "    model.add(Conv2D(256, kernel_size = 4, activation='relu'))\n",
    "    model.add(BatchNormalization())\n",
    "    # To be able to merge into fully connected layer we have to flatten\n",
    "    model.add(Flatten())\n",
    "    model.add(Dropout(0.4))\n",
    "    # Lets add softmax activated neurons as much as number of classes\n",
    "    model.add(Dense(num_classes, activation = \"softmax\"))\n",
    "    # Compile the model with loss and metrics\n",
    "    model.compile(optimizer =  Adam() , loss = \"categorical_crossentropy\", metrics=[\"accuracy\"])\n",
    "    \n",
    "    return model"
   ]
  },
  {
   "cell_type": "code",
   "execution_count": 158,
   "metadata": {},
   "outputs": [],
   "source": [
    "def LeNet5(input_shape=input_shape,num_classes=num_classes):\n",
    "    model = Sequential()\n",
    "    model.add(Conv2D(6, kernel_size=(5, 5), strides=(1, 1), activation='relu', input_shape=input_shape, padding=\"same\"))\n",
    "    model.add(AveragePooling2D(pool_size=(2, 2), strides=(1, 1), padding='valid'))\n",
    "    model.add(Conv2D(16, kernel_size=(5, 5), strides=(1, 1), activation='relu', padding='valid'))\n",
    "    model.add(AveragePooling2D(pool_size=(2, 2), strides=(2, 2), padding='valid'))\n",
    "    model.add(Conv2D(120, kernel_size=(5, 5), strides=(1, 1), activation='relu', padding='valid'))\n",
    "    model.add(Flatten())\n",
    "    model.add(Dense(84, activation='relu'))\n",
    "    model.add(Dense(num_classes, activation='softmax'))\n",
    "    model.compile(optimizer =  Adam() , loss = \"categorical_crossentropy\", metrics=[\"accuracy\"])\n",
    "    return model"
   ]
  },
  {
   "cell_type": "code",
   "execution_count": 161,
   "metadata": {},
   "outputs": [],
   "source": [
    "model = []\n",
    "model.append(model_cnn())\n",
    "model.append(LeNet5())"
   ]
  },
  {
   "cell_type": "code",
   "execution_count": 163,
   "metadata": {},
   "outputs": [],
   "source": [
    "datagen = ImageDataGenerator(rotation_range=10, zoom_range = 0.1, width_shift_range=0.1, height_shift_range=0.1)\n",
    "datagen.fit(X_train)"
   ]
  }
 ],
 "metadata": {
  "kernelspec": {
   "display_name": "Python 3",
   "language": "python",
   "name": "python3"
  },
  "language_info": {
   "codemirror_mode": {
    "name": "ipython",
    "version": 3
   },
   "file_extension": ".py",
   "mimetype": "text/x-python",
   "name": "python",
   "nbconvert_exporter": "python",
   "pygments_lexer": "ipython3",
   "version": "3.7.3"
  }
 },
 "nbformat": 4,
 "nbformat_minor": 2
}
