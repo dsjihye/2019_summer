{
 "cells": [
  {
   "cell_type": "code",
   "execution_count": 1,
   "metadata": {},
   "outputs": [
    {
     "data": {
      "text/html": [
       "<style>.container { width:100% !important; }</style>"
      ],
      "text/plain": [
       "<IPython.core.display.HTML object>"
      ]
     },
     "metadata": {},
     "output_type": "display_data"
    }
   ],
   "source": [
    "# For wide monitor\n",
    "from IPython.core.display import display, HTML\n",
    "display(HTML(\"<style>.container { width:100% !important; }</style>\"))"
   ]
  },
  {
   "cell_type": "code",
   "execution_count": 8,
   "metadata": {},
   "outputs": [],
   "source": [
    "# 살인, 살해 키워드 정보 따로 수집 -> 컬럼수 1로 표기\n",
    "import pandas as pd\n",
    "import numpy as np\n",
    "from selenium import webdriver\n",
    "from tqdm import tqdm_notebook, tqdm\n",
    "import time\n",
    "import re\n",
    "import pandas as pd\n",
    "import urllib.request\n",
    "from bs4 import BeautifulSoup\n",
    "from datetime import timedelta, date"
   ]
  },
  {
   "cell_type": "code",
   "execution_count": 9,
   "metadata": {},
   "outputs": [],
   "source": [
    "import requests\n",
    "import json"
   ]
  },
  {
   "cell_type": "code",
   "execution_count": 11,
   "metadata": {},
   "outputs": [],
   "source": [
    "# 댓글 정보 가져오기\n",
    "import requests\n",
    "import json\n",
    "from bs4 import BeautifulSoup\n",
    "\n",
    "\n",
    "def get_comments(news_url):\n",
    "    base_url = ''.join(['https://apis.naver.com/commentBox/cbox/web_naver_list_jsonp.json?ticket=news&',\n",
    "                    'templateId=view_politics&pool=cbox5&lang=ko&country=KR&objectId=news',\n",
    "                    '{}%2C{}&pageSize={}&page={}&sort={}&initialize=true&useAltSort=true&indexSize=10'])\n",
    "    \n",
    "    (oid, aid) = _parse_oid_aid(news_url)    \n",
    "    if oid == None or aid == None:\n",
    "        return []\n",
    "    \n",
    "    n_comments = _n_comments(base_url.format(oid, aid, 10, 1, 'favorite'), news_url)\n",
    "    max_page = round(n_comments/100 + 0.5)\n",
    "    if max_page <= 0:\n",
    "        return []\n",
    "    \n",
    "    comments = []\n",
    "    headers = {'Referer':news_url}\n",
    "    for page in range(1, max_page + 1):\n",
    "        url = base_url.format(oid, aid, 100, page, 'favorite')\n",
    "        response = _get_response(url, {'Referer':news_url})\n",
    "        for comment_json in response.get('result', {}).get('commentList', []):\n",
    "            try:\n",
    "                comments.append(_parse_comment(comment_json))\n",
    "            except:\n",
    "                continue\n",
    "    return comments\n",
    "    \n",
    "def _get_response(url, headers=None):\n",
    "    try:\n",
    "        if not headers:\n",
    "            r = requests.get(url)\n",
    "        else:\n",
    "            r = requests.get(url, headers=headers)\n",
    "        html = r.text\n",
    "        html = html[10:-2]\n",
    "        response = json.loads(html)\n",
    "        return response\n",
    "    except:\n",
    "        return {}\n",
    "\n",
    "def _parse_oid_aid(news_url):\n",
    "    parts = news_url.split('?')[-1].split('&')\n",
    "    (oid, aid) = (None, None)\n",
    "    for part in parts:\n",
    "        if 'oid=' in part:\n",
    "            oid = part[4:]\n",
    "        if 'aid=' in part:\n",
    "            aid = part[4:]\n",
    "    return oid, aid\n",
    "\n",
    "def _n_comments(url, news_url):\n",
    "    response = _get_response(url, {'Referer':news_url})\n",
    "    n_comments = response.get('result', {}).get('count', {}).get('comment', 0)\n",
    "    return n_comments\n",
    "\n",
    "def _parse_comment(comment_json):\n",
    "    antipathy_count = comment_json['antipathyCount']\n",
    "    sympathy_count = comment_json['sympathyCount']\n",
    "    comment_no = comment_json['commentNo']\n",
    "    contents = comment_json['contents'].replace('\\t', ' ').replace('\\r', ' ').replace('\\n', ' ')\n",
    "    reg_time = comment_json['regTime']\n",
    "    user_id_no = comment_json['userIdNo']\n",
    "    return (comment_no, user_id_no, contents, reg_time, sympathy_count, antipathy_count)"
   ]
  },
  {
   "cell_type": "code",
   "execution_count": 9,
   "metadata": {},
   "outputs": [
    {
     "name": "stderr",
     "output_type": "stream",
     "text": [
      "C:\\ProgramData\\Anaconda3\\lib\\site-packages\\ipykernel_launcher.py:9: DeprecationWarning: use options instead of chrome_options\n",
      "  if __name__ == '__main__':\n",
      "\n",
      "\n",
      "  0%|                                                                                           | 0/16 [00:00<?, ?it/s]\n",
      "\n",
      "  6%|█████                                                                           | 1/16 [09:02<2:15:37, 542.51s/it]\n",
      "\n",
      " 12%|██████████                                                                      | 2/16 [16:18<1:59:08, 510.62s/it]\n",
      "\n",
      " 19%|███████████████                                                                 | 3/16 [19:16<1:29:00, 410.84s/it]\n",
      "\n",
      " 25%|████████████████████                                                            | 4/16 [23:46<1:13:42, 368.55s/it]\n",
      "\n",
      " 31%|█████████████████████████▋                                                        | 5/16 [26:36<56:39, 309.02s/it]\n",
      "\n",
      " 38%|██████████████████████████████▊                                                   | 6/16 [30:48<48:39, 291.98s/it]\n",
      "\n",
      " 44%|███████████████████████████████████▉                                              | 7/16 [32:42<35:47, 238.58s/it]\n",
      "\n",
      " 50%|█████████████████████████████████████████                                         | 8/16 [35:43<29:28, 221.12s/it]\n",
      "\n",
      " 56%|██████████████████████████████████████████████▏                                   | 9/16 [37:51<22:33, 193.38s/it]\n",
      "\n",
      " 62%|██████████████████████████████████████████████████▋                              | 10/16 [41:10<19:30, 195.05s/it]\n",
      "\n",
      " 69%|███████████████████████████████████████████████████████▋                         | 11/16 [43:10<14:21, 172.33s/it]\n",
      "\n",
      " 75%|████████████████████████████████████████████████████████████▊                    | 12/16 [45:59<11:25, 171.27s/it]\n",
      "\n",
      " 81%|█████████████████████████████████████████████████████████████████▊               | 13/16 [46:49<06:45, 135.07s/it]\n",
      "\n",
      " 88%|██████████████████████████████████████████████████████████████████████▉          | 14/16 [47:58<03:50, 115.31s/it]\n",
      "\n",
      " 94%|████████████████████████████████████████████████████████████████████████████▉     | 15/16 [48:14<01:25, 85.43s/it]\n",
      "\n",
      "100%|██████████████████████████████████████████████████████████████████████████████████| 16/16 [49:25<00:00, 80.94s/it]\n",
      "\n"
     ]
    }
   ],
   "source": [
    "querys = ['조현병', '정신분열+\"정신분열\"','정신분열+\"정신분열\"+\"사건\"','조현병+\"사건\"','정신분열+\"정신분열\"+\"범행\"','조현병+\"범행\"', '정신분열+\"정신분열\"+\"범죄\"','조현병+\"범죄\"',\n",
    "         '정신분열+\"정신분열\"+\"살인\"','조현병+\"살인\"', '정신분열+\"정신분열\"+\"살해\"','조현병+\"살해\"', '정신분열+\"정신분열\"+\"폭행\"','조현병+\"폭행\"',\n",
    "         '정신분열+\"정신분열\"+\"방화\"','조현병+\"방화\"']\n",
    "\n",
    "options = webdriver.ChromeOptions()\n",
    "options.add_argument('headless')\n",
    "options.add_argument('window-size=1920x1080')\n",
    "options.add_argument(\"--disable-gpu\")\n",
    "driver = webdriver.Chrome(executable_path=r'C:\\chromedriver.exe', chrome_options=options)\n",
    "\n",
    "list_ = []\n",
    "index = 0\n",
    "for query in tqdm(querys):\n",
    "    if query in ['정신분열+\"정신분열\"+\"살인\"','조현병+\"살인\"', '정신분열+\"정신분열\"+\"살해\"','조현병+\"살해\"']:\n",
    "        murder = 1\n",
    "    else:\n",
    "        murder=0\n",
    "        \n",
    "    row = 0\n",
    "    data = pd.DataFrame(columns=['title', 'company', 'url', 'is_murder'])\n",
    "    \n",
    "    url = 'https://search.naver.com/search.naver?where=news&query='+ query +'&sm=tab_opt&sort=0&photo=0&field=0&reporter_article=&pd=3&ds=2010.01.01&de=2019.05.23&docid=&nso=so%3Ar%2Cp%3Afrom20100101to20190523%2Ca%3Aall&mynews=0&refresh_start=0&related=0'\n",
    "    driver.get(url)\n",
    "    driver.find_element_by_id('news_popup').find_element_by_tag_name('a').click()\n",
    "    \n",
    "    \n",
    "    id_dict = {'연합뉴스':'ca_1001','연합뉴스TV':'ca_1422','YTN':'ca_1052'}\n",
    "    driver.find_element_by_id(id_dict['연합뉴스']).click()\n",
    "    driver.find_element_by_id(id_dict['연합뉴스TV']).click()\n",
    "    driver.find_element_by_id(id_dict['YTN']).click()\n",
    "    \n",
    "\n",
    "    driver.find_element_by_class_name('view_btn').find_element_by_tag_name('button').click()\n",
    "    driver.find_element_by_class_name('sort').find_elements_by_tag_name('li')[1].click()\n",
    "    \n",
    "    while(True):\n",
    "        titles = driver.find_elements_by_class_name('_sp_each_title')\n",
    "        txt_inlines = driver.find_elements_by_class_name('txt_inline')\n",
    "\n",
    "        for i in range(len(titles)):\n",
    "            title = titles[i].get_attribute('title')\n",
    "            company = txt_inlines[i].text.split(' ')[0]\n",
    "\n",
    "            if txt_inlines[i].find_element_by_tag_name('a').text == '네이버뉴스':\n",
    "                link = txt_inlines[i].find_element_by_tag_name('a').get_attribute('href')\n",
    "            else:\n",
    "                link = titles[i].get_attribute('href')\n",
    "\n",
    "            list_.append({\n",
    "                'title': title,\n",
    "                'company': company,\n",
    "                'url': link,\n",
    "                'is_murder': murder\n",
    "            })\n",
    "\n",
    "            data.loc[row] = [title, company, link, murder]\n",
    "            row += 1\n",
    "        if driver.find_element_by_class_name('paging').find_elements_by_tag_name('a')[-1].text == '다음페이지':\n",
    "            driver.find_element_by_class_name('paging').find_elements_by_tag_name('a')[-1].click()\n",
    "        else:\n",
    "            break\n",
    "\n",
    "    data.to_csv('네이버뉴스_{}.csv'.format(index), index=False)\n",
    "    index += 1\n",
    "    \n",
    "driver.close()"
   ]
  },
  {
   "cell_type": "code",
   "execution_count": 10,
   "metadata": {},
   "outputs": [],
   "source": [
    "df_all = pd.read_csv('네이버뉴스_0.csv', encoding='UTF-8', engine='python')\n",
    "# 키워드 없이 전체 기사 \n",
    "temp = pd.read_csv('네이버뉴스_1.csv', encoding='UTF-8', engine='python')\n",
    "df_all = pd.concat([df_all, temp])\n",
    "df_all.to_csv('0622_전체_article.csv', index=False)"
   ]
  },
  {
   "cell_type": "code",
   "execution_count": 13,
   "metadata": {},
   "outputs": [],
   "source": [
    "temp_data_all = df_all.drop_duplicates(['url'])\n",
    "temp_data_all.reset_index(drop=True, inplace=True)\n",
    "temp_data_all.to_csv('0622_전체_article_중복제거.csv', index=False)\n",
    "\n",
    "df = pd.read_csv('네이버뉴스_2.csv', encoding='UTF-8', engine='python')\n",
    "for i in range(3, 16):\n",
    "    temp = pd.read_csv('네이버뉴스_{}.csv'.format(i), encoding='UTF-8', engine='python')\n",
    "    df = pd.concat([df, temp])\n",
    "\n",
    "df.to_csv('0622_article_total.csv', index=False)\n",
    "naver_news = pd.read_csv('0622_article_total.csv')\n",
    "temp_data = naver_news.drop_duplicates(['url'])\n",
    "temp_data.reset_index(drop=True, inplace=True)"
   ]
  },
  {
   "cell_type": "code",
   "execution_count": 3,
   "metadata": {},
   "outputs": [],
   "source": [
    "naver_news = pd.read_csv('0622_article_total.csv')\n",
    "temp_data = naver_news.drop_duplicates(['url'])\n",
    "temp_data.reset_index(drop=True, inplace=True)"
   ]
  },
  {
   "cell_type": "code",
   "execution_count": 51,
   "metadata": {},
   "outputs": [],
   "source": [
    "def load_news(url):\n",
    "    req = requests.get(url)\n",
    "    soup = BeautifulSoup(req.text, 'lxml')\n",
    "    \n",
    "    if soup.find('h3', {'id':'articleTitle'}):\n",
    "        title = soup.find('h3', {'id':'articleTitle'}).text\n",
    "        dates = []\n",
    "        for date in soup.find_all('span', {'class':'t11'}):\n",
    "            dates.append(date.text)\n",
    "        body = soup.find('div', {'id':'articleBodyContents'}).text.replace('\\n\\n\\n\\n\\n// flash 오류를 우회하기 위한 함수 추가\\nfunction _flash_removeCallback() {}\\n\\n', '')\n",
    "        \n",
    "        \n",
    "        return title, dates[0], body\n",
    "        \n",
    "    elif soup.find('h2', {'class':'end_tit'}):\n",
    "        title = soup.find('h2', {'class':'end_tit'}).text\n",
    "        dates = []\n",
    "        for date in soup.find('div', {'class':'article_info'}).text.split('\\n')[1:3]:\n",
    "            dates.append(re.sub('[(기사입력)(최종수정)]', '', date))\n",
    "        body = soup.find('div', {'id':'articeBody'}).text\n",
    "        \n",
    "        return title, dates[0], body\n",
    "    \n",
    "    else:\n",
    "        return '', '', ''"
   ]
  },
  {
   "cell_type": "code",
   "execution_count": 4,
   "metadata": {},
   "outputs": [
    {
     "data": {
      "text/html": [
       "<div>\n",
       "<style scoped>\n",
       "    .dataframe tbody tr th:only-of-type {\n",
       "        vertical-align: middle;\n",
       "    }\n",
       "\n",
       "    .dataframe tbody tr th {\n",
       "        vertical-align: top;\n",
       "    }\n",
       "\n",
       "    .dataframe thead th {\n",
       "        text-align: right;\n",
       "    }\n",
       "</style>\n",
       "<table border=\"1\" class=\"dataframe\">\n",
       "  <thead>\n",
       "    <tr style=\"text-align: right;\">\n",
       "      <th></th>\n",
       "      <th>title</th>\n",
       "      <th>company</th>\n",
       "      <th>url</th>\n",
       "      <th>is_murder</th>\n",
       "    </tr>\n",
       "  </thead>\n",
       "  <tbody>\n",
       "    <tr>\n",
       "      <th>1585</th>\n",
       "      <td>자신 원룸에 불 지른 30대 조현병 환자 영장</td>\n",
       "      <td>YTN</td>\n",
       "      <td>https://news.naver.com/main/read.nhn?mode=LSD&amp;...</td>\n",
       "      <td>0</td>\n",
       "    </tr>\n",
       "    <tr>\n",
       "      <th>1586</th>\n",
       "      <td>백남기 씨 빈소서 분신 시도...40대 남성 체포</td>\n",
       "      <td>YTN</td>\n",
       "      <td>https://news.naver.com/main/read.nhn?mode=LSD&amp;...</td>\n",
       "      <td>0</td>\n",
       "    </tr>\n",
       "    <tr>\n",
       "      <th>1587</th>\n",
       "      <td>백남기씨 빈소서 분신 시도한 40대 남성 체포</td>\n",
       "      <td>연합뉴스</td>\n",
       "      <td>https://news.naver.com/main/read.nhn?mode=LSD&amp;...</td>\n",
       "      <td>0</td>\n",
       "    </tr>\n",
       "    <tr>\n",
       "      <th>1588</th>\n",
       "      <td>中 톈안먼 사태 최장기수 석방…\"톈안먼 재평가 요원\"</td>\n",
       "      <td>연합뉴스</td>\n",
       "      <td>https://news.naver.com/main/read.nhn?mode=LSD&amp;...</td>\n",
       "      <td>0</td>\n",
       "    </tr>\n",
       "    <tr>\n",
       "      <th>1589</th>\n",
       "      <td>中 톈안먼 시위 참가 마지막 복역수 올해 석방된다</td>\n",
       "      <td>연합뉴스</td>\n",
       "      <td>https://news.naver.com/main/read.nhn?mode=LSD&amp;...</td>\n",
       "      <td>0</td>\n",
       "    </tr>\n",
       "  </tbody>\n",
       "</table>\n",
       "</div>"
      ],
      "text/plain": [
       "                              title company  \\\n",
       "1585      자신 원룸에 불 지른 30대 조현병 환자 영장     YTN   \n",
       "1586    백남기 씨 빈소서 분신 시도...40대 남성 체포     YTN   \n",
       "1587      백남기씨 빈소서 분신 시도한 40대 남성 체포    연합뉴스   \n",
       "1588  中 톈안먼 사태 최장기수 석방…\"톈안먼 재평가 요원\"    연합뉴스   \n",
       "1589    中 톈안먼 시위 참가 마지막 복역수 올해 석방된다    연합뉴스   \n",
       "\n",
       "                                                    url  is_murder  \n",
       "1585  https://news.naver.com/main/read.nhn?mode=LSD&...          0  \n",
       "1586  https://news.naver.com/main/read.nhn?mode=LSD&...          0  \n",
       "1587  https://news.naver.com/main/read.nhn?mode=LSD&...          0  \n",
       "1588  https://news.naver.com/main/read.nhn?mode=LSD&...          0  \n",
       "1589  https://news.naver.com/main/read.nhn?mode=LSD&...          0  "
      ]
     },
     "execution_count": 4,
     "metadata": {},
     "output_type": "execute_result"
    }
   ],
   "source": [
    "temp_data = naver_news.drop_duplicates(['url'])\n",
    "temp_data.reset_index(drop=True, inplace=True)\n",
    "temp_data.tail()"
   ]
  },
  {
   "cell_type": "code",
   "execution_count": 53,
   "metadata": {},
   "outputs": [
    {
     "name": "stderr",
     "output_type": "stream",
     "text": [
      "100%|██████████████████████████████████████████████████████████████████████████████| 1590/1590 [16:03<00:00,  1.19it/s]\n"
     ]
    }
   ],
   "source": [
    "import json\n",
    "news = []\n",
    "\n",
    "for i, link in enumerate(tqdm(temp_data['url'])):\n",
    "    title, date, content = load_news(link)\n",
    "    comment = get_comments(link)\n",
    "\n",
    "    news.append({'title':title, 'date':date, 'content':content, 'company':temp_data['company'].loc[i], 'url':link, 'is_murder':temp_data['is_murder'].loc[i], 'comment':comment, 'comment_num':len(comment)})"
   ]
  },
  {
   "cell_type": "code",
   "execution_count": 57,
   "metadata": {},
   "outputs": [
    {
     "data": {
      "text/plain": [
       "1589"
      ]
     },
     "execution_count": 57,
     "metadata": {},
     "output_type": "execute_result"
    }
   ],
   "source": [
    "len(news)"
   ]
  },
  {
   "cell_type": "code",
   "execution_count": 59,
   "metadata": {},
   "outputs": [],
   "source": [
    "for n in range(len(news)):\n",
    "    if news[n]['date']=='':\n",
    "        print(news[n])"
   ]
  },
  {
   "cell_type": "code",
   "execution_count": 60,
   "metadata": {},
   "outputs": [],
   "source": [
    "import json\n",
    "\n",
    "with open(r'C:\\Users\\ehdry\\Downloads\\네이버뉴스_조현병.txt','r') as f:\n",
    "    list_ = json.load(f)\n",
    "    list_.extend(news)"
   ]
  },
  {
   "cell_type": "code",
   "execution_count": 69,
   "metadata": {},
   "outputs": [],
   "source": [
    "#news = list_\n",
    "\n",
    "for n in range(len(news)):\n",
    "    if news[n]['date']=='':\n",
    "        del news[n]"
   ]
  },
  {
   "cell_type": "code",
   "execution_count": 70,
   "metadata": {},
   "outputs": [
    {
     "data": {
      "text/plain": [
       "3286"
      ]
     },
     "execution_count": 70,
     "metadata": {},
     "output_type": "execute_result"
    }
   ],
   "source": [
    "len(news)"
   ]
  },
  {
   "cell_type": "code",
   "execution_count": 75,
   "metadata": {},
   "outputs": [],
   "source": [
    "# json dump 저장\n",
    "import json\n",
    "\n",
    "with open(r'C:\\Users\\ehdry\\Downloads\\네이버뉴스_조현병_final_20190801.txt','w') as f:\n",
    "    json.dump(news, f, default=str)\n",
    "    #list_.extend(news)"
   ]
  },
  {
   "cell_type": "code",
   "execution_count": 76,
   "metadata": {},
   "outputs": [],
   "source": [
    "with open(r'C:\\Users\\ehdry\\Downloads\\네이버뉴스_조현병_final_20190801.txt','r') as f:\n",
    "    json_file = json.load(f)"
   ]
  },
  {
   "cell_type": "code",
   "execution_count": 80,
   "metadata": {},
   "outputs": [
    {
     "data": {
      "text/plain": [
       "dict_keys(['title', 'date', 'content', 'company', 'url', 'is_murder', 'comment', 'comment_num', 'year', 'month'])"
      ]
     },
     "execution_count": 80,
     "metadata": {},
     "output_type": "execute_result"
    }
   ],
   "source": [
    "json_file[0].keys()"
   ]
  },
  {
   "cell_type": "code",
   "execution_count": 81,
   "metadata": {},
   "outputs": [],
   "source": [
    "import csv\n",
    "\n",
    "with open('조현병_20190801.csv', 'w', encoding='utf-8', newline='') as f:\n",
    "    fieldnames = ['title', 'date', 'content', 'company', 'url', 'is_murder', 'comment', 'comment_num', 'year', 'month']\n",
    "    writer = csv.DictWriter(f, fieldnames=fieldnames)\n",
    "    writer.writeheader()\n",
    "    for i in json_file:\n",
    "        writer.writerow(i)"
   ]
  },
  {
   "cell_type": "code",
   "execution_count": 86,
   "metadata": {},
   "outputs": [
    {
     "ename": "OverflowError",
     "evalue": "Python int too large to convert to C long",
     "output_type": "error",
     "traceback": [
      "\u001b[1;31m---------------------------------------------------------------------------\u001b[0m",
      "\u001b[1;31mOverflowError\u001b[0m                             Traceback (most recent call last)",
      "\u001b[1;32m<ipython-input-86-7db7ce54180d>\u001b[0m in \u001b[0;36m<module>\u001b[1;34m\u001b[0m\n\u001b[0;32m      2\u001b[0m \u001b[1;32mimport\u001b[0m \u001b[0mcsv\u001b[0m\u001b[1;33m\u001b[0m\u001b[1;33m\u001b[0m\u001b[0m\n\u001b[0;32m      3\u001b[0m \u001b[1;33m\u001b[0m\u001b[0m\n\u001b[1;32m----> 4\u001b[1;33m \u001b[0mcsv\u001b[0m\u001b[1;33m.\u001b[0m\u001b[0mfield_size_limit\u001b[0m\u001b[1;33m(\u001b[0m\u001b[0msys\u001b[0m\u001b[1;33m.\u001b[0m\u001b[0mmaxsize\u001b[0m\u001b[1;33m)\u001b[0m\u001b[1;33m\u001b[0m\u001b[1;33m\u001b[0m\u001b[0m\n\u001b[0m",
      "\u001b[1;31mOverflowError\u001b[0m: Python int too large to convert to C long"
     ]
    }
   ],
   "source": [
    "import sys\n",
    "import csv\n",
    "\n",
    "csv.field_size_limit(sys.maxsize)"
   ]
  },
  {
   "cell_type": "code",
   "execution_count": 85,
   "metadata": {},
   "outputs": [
    {
     "ename": "ParserError",
     "evalue": "field larger than field limit (131072)",
     "output_type": "error",
     "traceback": [
      "\u001b[1;31m---------------------------------------------------------------------------\u001b[0m",
      "\u001b[1;31mError\u001b[0m                                     Traceback (most recent call last)",
      "\u001b[1;32mC:\\ProgramData\\Anaconda3\\lib\\site-packages\\pandas\\io\\parsers.py\u001b[0m in \u001b[0;36m_next_iter_line\u001b[1;34m(self, row_num)\u001b[0m\n\u001b[0;32m   2694\u001b[0m         \u001b[1;32mtry\u001b[0m\u001b[1;33m:\u001b[0m\u001b[1;33m\u001b[0m\u001b[1;33m\u001b[0m\u001b[0m\n\u001b[1;32m-> 2695\u001b[1;33m             \u001b[1;32mreturn\u001b[0m \u001b[0mnext\u001b[0m\u001b[1;33m(\u001b[0m\u001b[0mself\u001b[0m\u001b[1;33m.\u001b[0m\u001b[0mdata\u001b[0m\u001b[1;33m)\u001b[0m\u001b[1;33m\u001b[0m\u001b[1;33m\u001b[0m\u001b[0m\n\u001b[0m\u001b[0;32m   2696\u001b[0m         \u001b[1;32mexcept\u001b[0m \u001b[0mcsv\u001b[0m\u001b[1;33m.\u001b[0m\u001b[0mError\u001b[0m \u001b[1;32mas\u001b[0m \u001b[0me\u001b[0m\u001b[1;33m:\u001b[0m\u001b[1;33m\u001b[0m\u001b[1;33m\u001b[0m\u001b[0m\n",
      "\u001b[1;31mError\u001b[0m: field larger than field limit (131072)",
      "\nDuring handling of the above exception, another exception occurred:\n",
      "\u001b[1;31mParserError\u001b[0m                               Traceback (most recent call last)",
      "\u001b[1;32m<ipython-input-85-d9b3209859cf>\u001b[0m in \u001b[0;36m<module>\u001b[1;34m\u001b[0m\n\u001b[1;32m----> 1\u001b[1;33m \u001b[0mtemp\u001b[0m \u001b[1;33m=\u001b[0m \u001b[0mpd\u001b[0m\u001b[1;33m.\u001b[0m\u001b[0mread_csv\u001b[0m\u001b[1;33m(\u001b[0m\u001b[1;34m'조현병_20190801.csv'\u001b[0m\u001b[1;33m,\u001b[0m \u001b[0mengine\u001b[0m\u001b[1;33m=\u001b[0m\u001b[1;34m'python'\u001b[0m\u001b[1;33m,\u001b[0m \u001b[0mencoding\u001b[0m\u001b[1;33m=\u001b[0m\u001b[1;34m'UTF-8'\u001b[0m\u001b[1;33m)\u001b[0m\u001b[1;33m\u001b[0m\u001b[1;33m\u001b[0m\u001b[0m\n\u001b[0m\u001b[0;32m      2\u001b[0m \u001b[0mtemp\u001b[0m\u001b[1;33m.\u001b[0m\u001b[0mshape\u001b[0m\u001b[1;33m\u001b[0m\u001b[1;33m\u001b[0m\u001b[0m\n",
      "\u001b[1;32mC:\\ProgramData\\Anaconda3\\lib\\site-packages\\pandas\\io\\parsers.py\u001b[0m in \u001b[0;36mparser_f\u001b[1;34m(filepath_or_buffer, sep, delimiter, header, names, index_col, usecols, squeeze, prefix, mangle_dupe_cols, dtype, engine, converters, true_values, false_values, skipinitialspace, skiprows, nrows, na_values, keep_default_na, na_filter, verbose, skip_blank_lines, parse_dates, infer_datetime_format, keep_date_col, date_parser, dayfirst, iterator, chunksize, compression, thousands, decimal, lineterminator, quotechar, quoting, escapechar, comment, encoding, dialect, tupleize_cols, error_bad_lines, warn_bad_lines, skipfooter, doublequote, delim_whitespace, low_memory, memory_map, float_precision)\u001b[0m\n\u001b[0;32m    676\u001b[0m                     skip_blank_lines=skip_blank_lines)\n\u001b[0;32m    677\u001b[0m \u001b[1;33m\u001b[0m\u001b[0m\n\u001b[1;32m--> 678\u001b[1;33m         \u001b[1;32mreturn\u001b[0m \u001b[0m_read\u001b[0m\u001b[1;33m(\u001b[0m\u001b[0mfilepath_or_buffer\u001b[0m\u001b[1;33m,\u001b[0m \u001b[0mkwds\u001b[0m\u001b[1;33m)\u001b[0m\u001b[1;33m\u001b[0m\u001b[1;33m\u001b[0m\u001b[0m\n\u001b[0m\u001b[0;32m    679\u001b[0m \u001b[1;33m\u001b[0m\u001b[0m\n\u001b[0;32m    680\u001b[0m     \u001b[0mparser_f\u001b[0m\u001b[1;33m.\u001b[0m\u001b[0m__name__\u001b[0m \u001b[1;33m=\u001b[0m \u001b[0mname\u001b[0m\u001b[1;33m\u001b[0m\u001b[1;33m\u001b[0m\u001b[0m\n",
      "\u001b[1;32mC:\\ProgramData\\Anaconda3\\lib\\site-packages\\pandas\\io\\parsers.py\u001b[0m in \u001b[0;36m_read\u001b[1;34m(filepath_or_buffer, kwds)\u001b[0m\n\u001b[0;32m    444\u001b[0m \u001b[1;33m\u001b[0m\u001b[0m\n\u001b[0;32m    445\u001b[0m     \u001b[1;32mtry\u001b[0m\u001b[1;33m:\u001b[0m\u001b[1;33m\u001b[0m\u001b[1;33m\u001b[0m\u001b[0m\n\u001b[1;32m--> 446\u001b[1;33m         \u001b[0mdata\u001b[0m \u001b[1;33m=\u001b[0m \u001b[0mparser\u001b[0m\u001b[1;33m.\u001b[0m\u001b[0mread\u001b[0m\u001b[1;33m(\u001b[0m\u001b[0mnrows\u001b[0m\u001b[1;33m)\u001b[0m\u001b[1;33m\u001b[0m\u001b[1;33m\u001b[0m\u001b[0m\n\u001b[0m\u001b[0;32m    447\u001b[0m     \u001b[1;32mfinally\u001b[0m\u001b[1;33m:\u001b[0m\u001b[1;33m\u001b[0m\u001b[1;33m\u001b[0m\u001b[0m\n\u001b[0;32m    448\u001b[0m         \u001b[0mparser\u001b[0m\u001b[1;33m.\u001b[0m\u001b[0mclose\u001b[0m\u001b[1;33m(\u001b[0m\u001b[1;33m)\u001b[0m\u001b[1;33m\u001b[0m\u001b[1;33m\u001b[0m\u001b[0m\n",
      "\u001b[1;32mC:\\ProgramData\\Anaconda3\\lib\\site-packages\\pandas\\io\\parsers.py\u001b[0m in \u001b[0;36mread\u001b[1;34m(self, nrows)\u001b[0m\n\u001b[0;32m   1034\u001b[0m                 \u001b[1;32mraise\u001b[0m \u001b[0mValueError\u001b[0m\u001b[1;33m(\u001b[0m\u001b[1;34m'skipfooter not supported for iteration'\u001b[0m\u001b[1;33m)\u001b[0m\u001b[1;33m\u001b[0m\u001b[1;33m\u001b[0m\u001b[0m\n\u001b[0;32m   1035\u001b[0m \u001b[1;33m\u001b[0m\u001b[0m\n\u001b[1;32m-> 1036\u001b[1;33m         \u001b[0mret\u001b[0m \u001b[1;33m=\u001b[0m \u001b[0mself\u001b[0m\u001b[1;33m.\u001b[0m\u001b[0m_engine\u001b[0m\u001b[1;33m.\u001b[0m\u001b[0mread\u001b[0m\u001b[1;33m(\u001b[0m\u001b[0mnrows\u001b[0m\u001b[1;33m)\u001b[0m\u001b[1;33m\u001b[0m\u001b[1;33m\u001b[0m\u001b[0m\n\u001b[0m\u001b[0;32m   1037\u001b[0m \u001b[1;33m\u001b[0m\u001b[0m\n\u001b[0;32m   1038\u001b[0m         \u001b[1;31m# May alter columns / col_dict\u001b[0m\u001b[1;33m\u001b[0m\u001b[1;33m\u001b[0m\u001b[1;33m\u001b[0m\u001b[0m\n",
      "\u001b[1;32mC:\\ProgramData\\Anaconda3\\lib\\site-packages\\pandas\\io\\parsers.py\u001b[0m in \u001b[0;36mread\u001b[1;34m(self, rows)\u001b[0m\n\u001b[0;32m   2237\u001b[0m     \u001b[1;32mdef\u001b[0m \u001b[0mread\u001b[0m\u001b[1;33m(\u001b[0m\u001b[0mself\u001b[0m\u001b[1;33m,\u001b[0m \u001b[0mrows\u001b[0m\u001b[1;33m=\u001b[0m\u001b[1;32mNone\u001b[0m\u001b[1;33m)\u001b[0m\u001b[1;33m:\u001b[0m\u001b[1;33m\u001b[0m\u001b[1;33m\u001b[0m\u001b[0m\n\u001b[0;32m   2238\u001b[0m         \u001b[1;32mtry\u001b[0m\u001b[1;33m:\u001b[0m\u001b[1;33m\u001b[0m\u001b[1;33m\u001b[0m\u001b[0m\n\u001b[1;32m-> 2239\u001b[1;33m             \u001b[0mcontent\u001b[0m \u001b[1;33m=\u001b[0m \u001b[0mself\u001b[0m\u001b[1;33m.\u001b[0m\u001b[0m_get_lines\u001b[0m\u001b[1;33m(\u001b[0m\u001b[0mrows\u001b[0m\u001b[1;33m)\u001b[0m\u001b[1;33m\u001b[0m\u001b[1;33m\u001b[0m\u001b[0m\n\u001b[0m\u001b[0;32m   2240\u001b[0m         \u001b[1;32mexcept\u001b[0m \u001b[0mStopIteration\u001b[0m\u001b[1;33m:\u001b[0m\u001b[1;33m\u001b[0m\u001b[1;33m\u001b[0m\u001b[0m\n\u001b[0;32m   2241\u001b[0m             \u001b[1;32mif\u001b[0m \u001b[0mself\u001b[0m\u001b[1;33m.\u001b[0m\u001b[0m_first_chunk\u001b[0m\u001b[1;33m:\u001b[0m\u001b[1;33m\u001b[0m\u001b[1;33m\u001b[0m\u001b[0m\n",
      "\u001b[1;32mC:\\ProgramData\\Anaconda3\\lib\\site-packages\\pandas\\io\\parsers.py\u001b[0m in \u001b[0;36m_get_lines\u001b[1;34m(self, rows)\u001b[0m\n\u001b[0;32m   2969\u001b[0m                         \u001b[1;32mwhile\u001b[0m \u001b[1;32mTrue\u001b[0m\u001b[1;33m:\u001b[0m\u001b[1;33m\u001b[0m\u001b[1;33m\u001b[0m\u001b[0m\n\u001b[0;32m   2970\u001b[0m                             new_row = self._next_iter_line(\n\u001b[1;32m-> 2971\u001b[1;33m                                 row_num=self.pos + rows + 1)\n\u001b[0m\u001b[0;32m   2972\u001b[0m                             \u001b[0mrows\u001b[0m \u001b[1;33m+=\u001b[0m \u001b[1;36m1\u001b[0m\u001b[1;33m\u001b[0m\u001b[1;33m\u001b[0m\u001b[0m\n\u001b[0;32m   2973\u001b[0m \u001b[1;33m\u001b[0m\u001b[0m\n",
      "\u001b[1;32mC:\\ProgramData\\Anaconda3\\lib\\site-packages\\pandas\\io\\parsers.py\u001b[0m in \u001b[0;36m_next_iter_line\u001b[1;34m(self, row_num)\u001b[0m\n\u001b[0;32m   2715\u001b[0m                     \u001b[0mmsg\u001b[0m \u001b[1;33m+=\u001b[0m \u001b[1;34m'. '\u001b[0m \u001b[1;33m+\u001b[0m \u001b[0mreason\u001b[0m\u001b[1;33m\u001b[0m\u001b[1;33m\u001b[0m\u001b[0m\n\u001b[0;32m   2716\u001b[0m \u001b[1;33m\u001b[0m\u001b[0m\n\u001b[1;32m-> 2717\u001b[1;33m                 \u001b[0mself\u001b[0m\u001b[1;33m.\u001b[0m\u001b[0m_alert_malformed\u001b[0m\u001b[1;33m(\u001b[0m\u001b[0mmsg\u001b[0m\u001b[1;33m,\u001b[0m \u001b[0mrow_num\u001b[0m\u001b[1;33m)\u001b[0m\u001b[1;33m\u001b[0m\u001b[1;33m\u001b[0m\u001b[0m\n\u001b[0m\u001b[0;32m   2718\u001b[0m             \u001b[1;32mreturn\u001b[0m \u001b[1;32mNone\u001b[0m\u001b[1;33m\u001b[0m\u001b[1;33m\u001b[0m\u001b[0m\n\u001b[0;32m   2719\u001b[0m \u001b[1;33m\u001b[0m\u001b[0m\n",
      "\u001b[1;32mC:\\ProgramData\\Anaconda3\\lib\\site-packages\\pandas\\io\\parsers.py\u001b[0m in \u001b[0;36m_alert_malformed\u001b[1;34m(self, msg, row_num)\u001b[0m\n\u001b[0;32m   2674\u001b[0m \u001b[1;33m\u001b[0m\u001b[0m\n\u001b[0;32m   2675\u001b[0m         \u001b[1;32mif\u001b[0m \u001b[0mself\u001b[0m\u001b[1;33m.\u001b[0m\u001b[0merror_bad_lines\u001b[0m\u001b[1;33m:\u001b[0m\u001b[1;33m\u001b[0m\u001b[1;33m\u001b[0m\u001b[0m\n\u001b[1;32m-> 2676\u001b[1;33m             \u001b[1;32mraise\u001b[0m \u001b[0mParserError\u001b[0m\u001b[1;33m(\u001b[0m\u001b[0mmsg\u001b[0m\u001b[1;33m)\u001b[0m\u001b[1;33m\u001b[0m\u001b[1;33m\u001b[0m\u001b[0m\n\u001b[0m\u001b[0;32m   2677\u001b[0m         \u001b[1;32melif\u001b[0m \u001b[0mself\u001b[0m\u001b[1;33m.\u001b[0m\u001b[0mwarn_bad_lines\u001b[0m\u001b[1;33m:\u001b[0m\u001b[1;33m\u001b[0m\u001b[1;33m\u001b[0m\u001b[0m\n\u001b[0;32m   2678\u001b[0m             \u001b[0mbase\u001b[0m \u001b[1;33m=\u001b[0m \u001b[1;34m'Skipping line {row_num}: '\u001b[0m\u001b[1;33m.\u001b[0m\u001b[0mformat\u001b[0m\u001b[1;33m(\u001b[0m\u001b[0mrow_num\u001b[0m\u001b[1;33m=\u001b[0m\u001b[0mrow_num\u001b[0m\u001b[1;33m)\u001b[0m\u001b[1;33m\u001b[0m\u001b[1;33m\u001b[0m\u001b[0m\n",
      "\u001b[1;31mParserError\u001b[0m: field larger than field limit (131072)"
     ]
    }
   ],
   "source": [
    "temp = pd.read_csv('조현병_20190801.csv', engine='python', encoding='UTF-8')\n",
    "temp.shape"
   ]
  },
  {
   "cell_type": "code",
   "execution_count": 72,
   "metadata": {},
   "outputs": [],
   "source": [
    "for row in range(len(news)):\n",
    "    news[row]['year'] = news[row]['date'].split('.')[0]\n",
    "    news[row]['month'] = news[row]['date'].split('.')[1]"
   ]
  },
  {
   "cell_type": "code",
   "execution_count": 73,
   "metadata": {},
   "outputs": [
    {
     "data": {
      "text/plain": [
       "{'title': '“안인득 강제 입원 시도했으나 좌절”…이유는?',\n",
       " 'date': '2019.04.23. 오전 8:31',\n",
       " 'content': '친절한 뉴스 두 번째 소식은 경남 진주에서 발생한 아파트 방화 살인 사건 피의자 안인득 관련 소식입니다.사건 발생 일주일이 돼 가지만 피해 유족과 주민들은 집 밖에 나가는 것이 무섭다며 극심한 후유증을 호소하고 있는데요.이번 사건 역시 전후 사정을 잘 살펴보면 사전에 막을 수 있었는데 하는 안타까움이 남습니다. 범죄 발생 2주 전쯤 안 씨의 가족들이 안 씨를 강제 입원시키려 했지만 제도의 벽에 가로막혀 번번이 무산된 정황이 드러났기 때문입니다.대체 뭐가 문제였을까요?현행법상 정신질환자를 강제 입원시킬 수 있는 제도로는 크게 3가지가 있습니다.보호자 2명과 전문의 2명이 신청하는 보호입원, 전문의나 경찰이 지자체에 요청하는 행정입원, 의사와 경찰관의 동의 아래 의뢰하는 응급입원입니다.하지만 안 씨는 이 세 가지를 모두 비켜 갔습니다. 먼저 보호입원과 행정입원은 안 씨가 병원에 가자는 형의 말을 거부하는 바람에 전문의 진단서를 받지 못해 뜻을 이룰 수가 없었습니다.응급입원도 안 씨가 자신의 잘못을 인정한다는 이유로 경찰이 위험 가능성이 높지 않다고 판단해 받아들여지지 않았습니다.들어 보시죠. [경찰 관계자/음성변조 : \"강제입원을 시키거나 할 방법이 없느냐고 문의한 거예요. 자·타해 위험이 엄청 높을 때 (응급입원이) 가능하지 않습니까. (당시에) 그런 정도 자체가 아니었죠.\"]여기에 2017년 5월 개정된 정신건강복지법도 걸림돌이 됐습니다.환자의 인권을 강화한 게 강제 입원을 어렵게 만들었습니다.그렇게 2주가 흘렀고, 안 씨의 병세는 걷잡을 수 없이 악화되면서 이번 참극을 불렀습니다. 지난 연말이었죠?피의자 안인득처럼 정신 질환을 앓았던 사람에게 우리는 훌륭한 의사 한 명을 잃었던 기억이 있습니다.자신이 치료하던 환자가 휘두른 흉기에 숨진 고 임세원 교수입니다.당시 정부는 정신건강복지법을 다시 개정해 이른바 \\'임세원법\\'을 만들었습니다.위험한 정신질환자가 퇴원할 경우 보건소나 정신건강복지센터에서 치료한다는, 즉 사후 관리를 강화하는 내용입니다.하지만 이 역시 환자나 보호자가 반대할 경우 입원 치료를 진행하는 것은 어렵습니다.우리와 달리 미국과 유럽은 사법부가 환자의 입원 여부를 결정합니다.이른바 사법입원 제도입니다.직계 혈족을 넘어 환자의 4촌 이내 친족, 동거인도 입원 신청을 할 수 있게 하는 대신, 의료진이 아니라 법원이 심사하도록 하는 제도인데요.당시 임세원법 개정 당시 이 제도의 도입 여부가 논의됐지만 실제 개정안에는 빠졌습니다. 범인이 앓았다는 조현병은 원래 이름이 정신분열증이었습니다.현악기의 줄을 조율하듯 치료하자는 뜻을 담아 조현병으로 바꾼 건데요.주된 증상은 환청과 피해망상이지만 이보다 심각한 건 바로 \\'병이란 걸 모른다\\'는 겁니다.바로 이들에게 우리 사회가 실질적인 도움을 줄 수 있도록 격리·치료 시스템을 원천적으로 재정비해야 한다는 것, 이번 진주 참극이 우리에게 던진 경고입니다.친절한 뉴스였습니다.이윤희 기자 (heeya@kbs.co.kr)▶ 네이버 채널 KBS뉴스 구독! 시원하게 털어드립니다▶ ‘TV보다 ㄹㅇ’ 당신의 진짜 뉴스 ‘케이야’▶ [만세 지도] 우리 동네 3.1운동 현장은?\\n\\n',\n",
       " 'company': 'KBS',\n",
       " 'url': 'https://news.naver.com/main/read.nhn?mode=LSD&mid=sec&sid1=102&oid=056&aid=0010694178',\n",
       " 'is_murder': '0',\n",
       " 'comment': [[1703822701,\n",
       "   '',\n",
       "   '당시에 자타해 위험성이 엄청 높을때 하는건 응급입원이고 지속적인 신고 이력과 주민들 그리고 친형의 진술이 있으면 행정입원 의뢰를 하는게 맞는거다 경찰관계자야... 법을 피해가? 경찰이 일하기 귀찮고 당시에 행정입원의뢰를 어떨때 어떻게 하는지 몰랐을 가능성이 크다.',\n",
       "   '2019-04-23T18:15:24+0900',\n",
       "   3,\n",
       "   1],\n",
       "  [1703464311,\n",
       "   '',\n",
       "   '강제입원은 악용우려가 너무 커서 이래저래 손쓰기가 어려울거같은데',\n",
       "   '2019-04-23T12:10:22+0900',\n",
       "   0,\n",
       "   0],\n",
       "  [1703265451,\n",
       "   '',\n",
       "   '나라가 순 엉뚱한 데에만 관심 있고, 지 인기 떨어질까봐 절절 매며 물러터져서 그렇지 뭐. 삼청교육대처럼 가둬놓고 존나 패봐라.  말 잘 들을걸.',\n",
       "   '2019-04-23T09:07:56+0900',\n",
       "   0,\n",
       "   2],\n",
       "  [1703257231,\n",
       "   '',\n",
       "   '이번사건은인권단체가죽인거다   가해자및정신경력자한테   인권부여로인한  부작용이다',\n",
       "   '2019-04-23T08:58:56+0900',\n",
       "   15,\n",
       "   1],\n",
       "  [1703253361,\n",
       "   '',\n",
       "   '구캐들이 만날 딴짓만하니  법의 품질이 형편없다. 이거군.. 날려버려야 할 자한당 년넘들 !',\n",
       "   '2019-04-23T08:54:52+0900',\n",
       "   2,\n",
       "   0],\n",
       "  [1703247471,\n",
       "   '',\n",
       "   '일부언론과 일부 ㅇㅇ은 경찰책임라면서? 경찰이 신이냐고?',\n",
       "   '2019-04-23T08:48:50+0900',\n",
       "   0,\n",
       "   1]],\n",
       " 'comment_num': 6,\n",
       " 'year': '2019',\n",
       " 'month': '04'}"
      ]
     },
     "execution_count": 73,
     "metadata": {},
     "output_type": "execute_result"
    }
   ],
   "source": [
    "news[3]"
   ]
  },
  {
   "cell_type": "code",
   "execution_count": 28,
   "metadata": {},
   "outputs": [],
   "source": [
    "import json\n",
    "\n",
    "with open('네이버뉴스_조현병_20190801.txt', 'r') as outfile:\n",
    "    news = json.load(outfile)"
   ]
  },
  {
   "cell_type": "code",
   "execution_count": null,
   "metadata": {},
   "outputs": [],
   "source": []
  },
  {
   "cell_type": "code",
   "execution_count": 17,
   "metadata": {},
   "outputs": [],
   "source": [
    "import json\n",
    "\n",
    "with open('네이버뉴스_조현병_total.txt','r') as f:\n",
    "    l = json.load(f)"
   ]
  },
  {
   "cell_type": "code",
   "execution_count": 18,
   "metadata": {},
   "outputs": [
    {
     "data": {
      "text/plain": [
       "('조현병 10대 흉기 살해 뒤 태연히 집으로…',\n",
       " '2019.04.25. 오전 6:45',\n",
       " '\\n\\n\\n\\n동영상 뉴스\\t\\n\\t[뉴스투데이]◀ 앵커 ▶안인득 사건의 충격이 가시기도 전에, 또다시 조현병을 앓고 있던 10대가 이웃 할머니를 살해한 사건이 일어났습니다. 할머니와 말다툼을 벌인 뒤 복도에 숨어 기다리다 흉기를 휘둘렀습니다.보도에 이재경 기자입니다.◀ 리포트 ▶한 여성이 들것에 실려 엘리베이터에서 나오고, 급하게 심폐소생술을 받은 뒤 구급차에 실립니다. 경남 창원의 한 아파트 6층 복도에서 74살 김모 할머니가 흉기에 찔렸습니다. 할머니는 병원으로 옮겨졌지만 결국 숨졌습니다. 피의자는 바로 아랫집에 사는 18살 A군.A군은 김 할머니 집에 찾아가 말다툼을 벌인 뒤, 복도에 숨어 기다리다, 외출을 위해 집 밖으로 나온 할머니에게 흉기를 휘둘렀습니다. 이후 A군은 태연하게 아파트를 나가 인근 미술관 화장실에서 손을 씻은 뒤 10분 만에 집으로 돌아왔습니다.A군은 범행을 저지른 뒤 아버지와 함께 집에 있다 목격자의 신고를 받고 출동한 경찰에 긴급 체포됐습니다.2년 전 고등학교를 자퇴한 A군은 지난해 정신병원에서 편집성 정신분열증 진단을 받은 사실이 확인됐습니다.경찰은 A군이 전에도 층간소음 문제로 숨진 할머니와 마찰을 빚었지만 범행의 직접적인 원인으로 보기는 어렵다며, 정신 이상에 무게를 두고 있다고 밝혔습니다.경찰은 정확한 범행 동기를 밝히기 위해 프로파일러를 투입해 수사하는 한편, A군에 대해 살인 혐의로 구속영장을 신청할 방침입니다.MBC뉴스 이재경입니다.이재경 기자 [저작권자(c) MBC (http://imnews.imbc.com) 무단복제-재배포 금지]▶ 네이버 홈에서 [MBC뉴스] 채널 구독하기▶ [엠빅뉴스] 고객님 화장실엔 가면 안 되나요? 화장실 차별에 직원들은 아파요▶ [14F] 의료사고, 대리수술 … 수술실 CCTV 설치가 답?Copyright(c) Since 1996, MBC&iMBC All rights reserved.\\n\\t\\n',\n",
       " 'MBC',\n",
       " 'https://news.naver.com/main/read.nhn?mode=LSD&mid=sec&sid1=102&oid=214&aid=0000943319',\n",
       " '0',\n",
       " '[[1686818792, \\'\\', \\'어이구 이나라 조현병은 천하무적인데 할머니만 억울하게 가셨네..ㅅㅂ\\', \\'2019-04-25T21:26:01+0900\\', 0, 0], [1686755592, \\'\\', \\'애초에 정신병원감금해야됨 저렇게 풀어놓으니 문제생기지\\', \\'2019-04-25T20:28:25+0900\\', 0, 0], [1686744792, \\'\\', \\'또 병있다가 형 감형해줄 각이네.ㅜㅜ 에휴~이노무 아무짝에도 쓸모없는 울나라 법 ㅜㅜ\\', \\'2019-04-25T20:18:12+0900\\', 0, 0], [1686712062, \\'\\', \\'정신병자, 성범죄자, 살인자들은 섬에서 다함께 사이좋게 지내도록하자.\\', \\'2019-04-25T19:46:43+0900\\', 1, 0], [1686690632, \\'\\', \\'조현병 걸린새ㅔ끼들만 섬에다가 따로 격리시켜야 되는거 아니냐 ㅋㅋㅋ\\', \\'2019-04-25T19:24:20+0900\\', 1, 0], [1686507802, \\'\\', \\'ㅅㅂ  이래놓고 조현병에 편견가지지 마래\\', \\'2019-04-25T16:22:25+0900\\', 1, 0], [1686328842, \\'\\', \\'저 ㅅㄲ도 정신병자의 재미를 알았구만 살해를 해도 감형을 해주잖아\\', \\'2019-04-25T12:59:08+0900\\', 0, 0], [1686233242, \\'\\', \\'왜 이런지 아시나요 학생때 안처맞아서 그렇습니다. 꼰대같은 소리지만 학창시절에 체벌도 당하고 지 몸이 아프고 괴로운 걸 느끼게 해줘야 하는 부분도 분명 있는데 지 새끼 귀하다고 왜 패욧! 이러니 이꼬라지인거임\\', \\'2019-04-25T11:25:53+0900\\', 2, 0], [1686219842, \\'\\', \\'이런 명백한 살인사건의 범죄자는 사형으로 벌하면 좋겠다. 도대체 이런 살인자에게 무슨 인권이 있다는건지.\\', \\'2019-04-25T11:12:57+0900\\', 1, 0], [1686215702, \\'\\', \\'프로파일러가 문제가 아니라~~ 조현병 정신병자들 다 강제입원 시켜라!!! 나라에서 이런거 안하고 모하냐??\\', \\'2019-04-25T11:08:44+0900\\', 0, 0], [1686215072, \\'\\', \\'조현병 가두는곳 설립해라 어디 무인도 섬가튼데다가 병이라는 이유로 살인이 허락되어지는꼴 못본다\\', \\'2019-04-25T11:08:05+0900\\', 1, 0], [1686214622, \\'\\', \\'병원에서 조현병 진단을 판정한 의사는 반드시 국가 기관(경찰서 등)으로 보고토록 하여 국가에서 철저하게 격리하여 치료 및 관리하는 제도가 있으면 이러한 사고가 발생 하지 않을 듯 합니다.\\', \\'2019-04-25T11:07:35+0900\\', 0, 0], [1686206622, \\'\\', \\'요즘 멘털이 제정신이 사람 별로 없으니 심신미약 없애라 특별한경우가 아니다  이젠\\', \\'2019-04-25T10:58:11+0900\\', 1, 0], [1686202372, \\'\\', \\'그만 해라  더이상 기사쓰지말고  걍 흔적을없애라 불태워죽여버려\\', \\'2019-04-25T10:53:33+0900\\', 0, 0], [1686196032, \\'\\', \\'조현병 인권이 먼저다 from 문재앙\\', \\'2019-04-25T10:46:04+0900\\', 0, 3], [1686193682, \\'\\', \\'자자자 심신미약이니 또 어떤판사님이 형량을 낮춰주실건가요.... 이놈의 나라는 심신미약이면 감형이야 ....... 한숨만나온다...\\', \\'2019-04-25T10:43:24+0900\\', 1, 0], [1686192622, \\'\\', \\'범죄는 어른이 저지르건 아이가 저지르건 노인이 저지르건 누가 하든간에 범죄는 범죄다\\', \\'2019-04-25T10:42:12+0900\\', 2, 0], [1686190632, \\'\\', \\'그놈의 조현병 근데 저병은 왜 지보다 강해보이는 상대앞에서는 얌전해지는거냐?? 병이긴한거냐??\\', \\'2019-04-25T10:40:13+0900\\', 0, 0], [1686186342, \\'\\', \\'병이고나발이고 저런건그냥죽여버려라~!!!아나~G랄여엄병이다 이유없이당한사람은 뭔죄냐...\\', \\'2019-04-25T10:35:47+0900\\', 2, 0], [1686185662, \\'\\', \\'정신병자들이 정치를 하더니 뭔놈의 국가가 맨날 정신병\\', \\'2019-04-25T10:35:10+0900\\', 0, 1], [1686185232, \\'\\', \\'언제부터 정신병럭이 면죄부가 됬지?\\', \\'2019-04-25T10:34:52+0900\\', 0, 0], [1686179322, \\'\\', \\'나치독일처럼 격리해버릴까\\', \\'2019-04-25T10:28:35+0900\\', 0, 0], [1686176992, \\'\\', \\'미쳤다 17살이 벌써 살인이나 쳐하고  그놈의 조현병은 건장한 남자에겐 멀쩡해지는 병인가봄\\', \\'2019-04-25T10:26:18+0900\\', 0, 0], [1686164802, \\'\\', \\'내가 이런 뉴스 볼때마다 조현병 걸리겠다\\', \\'2019-04-25T10:12:28+0900\\', 0, 0], [1686164292, \\'\\', \\'미친. 조현병인지 개나발인지 요즘 범죄자들 트렌드냐? 심신미약에서 이제 조현병이야??\\', \\'2019-04-25T10:11:49+0900\\', 1, 0], [1686164132, \\'\\', \\'문제가 있는 사람들은 정신병원에 일단 수감해서 진단을 받게하고 케어가 필요한 자들은 치료를 받게 하라. 그냥 방치한다면 정신장애자들은 잠재적  흉기들이 될 수밖에 없다. 인권적인 면에서도 그게 정도이다.\\', \\'2019-04-25T10:11:38+0900\\', 0, 0], [1686163812, \\'\\', \\'정신 안옳다고 형내리지마라 똑같잊죽여야대\\', \\'2019-04-25T10:11:20+0900\\', 0, 0], [1686159942, \\'\\', \\'계획까지 짜서 살인을 저지르는데, 범죄가 더 잔인하다....술과 마약과 정신분열증세에 과분한선처를 하는 우리나라법을 강화할 필요가 있습니다.\\', \\'2019-04-25T10:07:01+0900\\', 0, 0], [1686158632, \\'\\', \\'심신 미약의 이유로 감경을 하려면 최소한 치료를 꾸준히 받고 있는 상황이어야 한다. 만약 알콜 및 기타 심신 미약으로 적정한 치료를 받지 않는 상태에서 일어난 범죄에대해서는 가중 처벌을 하여야 한다. 이게 상식 아닌가?\\', \\'2019-04-25T10:05:36+0900\\', 0, 0], [1686158352, \\'\\', \\'이런 애가 살아서 뭐하겠니?  사형이 답이다\\', \\'2019-04-25T10:05:18+0900\\', 0, 0], [1686157372, \\'\\', \\'정부와 국회는 이런건 남의 일이라 신경도 안씀  이게 현실임\\', \\'2019-04-25T10:04:21+0900\\', 0, 0], [1686157362, \\'\\', \\'경상도인가 했더니 정말 경상도네 쌍도 창원\\', \\'2019-04-25T10:04:20+0900\\', 0, 1], [1686156952, \\'\\', \\'초범이라 집행유예인가? 살인인데?\\', \\'2019-04-25T10:03:54+0900\\', 0, 0], [1686156082, \\'\\', \\'인권이랑 강제입원이 어려워 진건 환자들에게 좋은 소식인데 난 좀 방송에서 다큐로 정신병원 이야기를 다루는 프로그램이 나왔으면 한다 법도 바꿘 만큼 이제는 정신병원도 투명하게 갔음 좋겠다 그리고 인권은 존중 되야지 사람을 개돼지 취급하면 되냐 다른 환자들 대부분 부모님에게 가정교육 커서도 받고있다\\', \\'2019-04-25T10:03:15+0900\\', 0, 0], [1686152542, \\'\\', \\'조현병은 어떤병인가요?특징은?나도 가끔 내가 OOO같다는 생각을 함.혹 어린이도 조현병에 걸리나요?\\', \\'2019-04-25T10:00:05+0900\\', 0, 0], [1686152242, \\'\\', \\'진짜 저사람 출소하면 100%또 같은범죄 일어납니다 ㅠ\\', \\'2019-04-25T09:59:49+0900\\', 0, 0], [1686151672, \\'\\', \\'사형시키자 저런 것들 살려서 뭐하겠냐? 여자들도 참 고달프겠다.\\', \\'2019-04-25T09:59:12+0900\\', 0, 0], [1686151432, \\'\\', \\'74세까지만 복역해라..\\', \\'2019-04-25T09:59:03+0900\\', 0, 0], [1686149822, \\'\\', \\'하나만 생각할 줄 아는 사람들이 많네요. 정신분열증/조현병은 폭력적인 병도 아니고 증세가 살인도 아니에요..조현병 인구 집단에서의 강력범죄율보다 일반 남성 집단에서의 강력범죄 살인율이 더 높은데 그럼 일반 남성 집단은 다 사회에서 감금되어서 살아야 되나요 ...?(참고로 저도 남성입니다.) 그리고 조현병 증세가 치료가 되지 않는다고 말하고 무조건 감금하는 것이 옳다고만 말하시는 분들 계시는데, 조현병은 약물치료 진행하면 환각 증세 치료됩니다. 사회로부터 격리한다고 해결될 문제가 아니라는거에요..\\', \\'2019-04-25T09:57:45+0900\\', 0, 1], [1686149442, \\'\\', \\'앞으로는 조현병자도 성범죄자처럼 신상공개해주세요!!! 그래야 살인에 대한 예방을하죠!!!!! 정부가 내가족 지켜주는거아니잖아요\\', \\'2019-04-25T09:57:28+0900\\', 0, 0], [1686148672, \\'\\', \\'계획살인인데, 어이없고만.. 조현병이 면죄부  프리패스권인가?\\', \\'2019-04-25T09:56:48+0900\\', 1, 0], [1686147342, \\'\\', \\'얘랑 안인득이랑 조두순이랑 한방에 가둬보자 어때?\\', \\'2019-04-25T09:55:44+0900\\', 1, 1], [1686146062, \\'\\', \\'삼청교육대 부활하자\\', \\'2019-04-25T09:54:31+0900\\', 3, 0], [1686145112, \\'\\', \\'잔혹살인사건마다조현병으로감싸주니까같은범죄가자꾸늘어나는거아닌가  매번최고형을내리면같은범죄안생긴다. 죽은사람억울한거보다 OOO인권만언제까지감쌀건가\\', \\'2019-04-25T09:53:46+0900\\', 1, 0], [1686144072, \\'\\', \\'할매가  굿했구만..  위층에서..층간소음이구나...\\', \\'2019-04-25T09:52:58+0900\\', 1, 2], [1686142502, \\'\\', \\'잡아만주세요 이런놈들은 그냥죽여야한다니깐\\', \\'2019-04-25T09:51:53+0900\\', 0, 0], [1686142022, \\'\\', \\'조현병, 싸이코패쓰는 걸어다니는 시한폭탄이다. 언제 어떻게 무슨 짓을 저지를지 예측조차 할 수 없다. 무고한 한 생명을 죽였으면 사형으로 처벌받는 게 마땅하지.. 뭔 심신미약이다 하면서 감싸주는 거냐? 제발 사회와 격리는 물론 강력처벌해라. 무서운 사람들이다\\', \\'2019-04-25T09:51:34+0900\\', 2, 0], [1686140672, \\'\\', \\'조현병 환자들 다 정신병원에 넣어라 무고한 시민들 죽어난다!!!\\', \\'2019-04-25T09:50:26+0900\\', 0, 0], [1686140152, \\'\\', \\'가족들이 관리 못할것 같으면 정신병원에 감금시켜야지\\', \\'2019-04-25T09:50:02+0900\\', 1, 0], [1686139952, \\'\\', \\'조현병 환자들 정신병원에 쳐넣어라. 겁나서 살겠나.\\', \\'2019-04-25T09:49:55+0900\\', 2, 0], [1686139212, \\'\\', \\'쟤도 제정신이면 살인저질러서 인생망치고 싶었겠냐? 공격성이 발현될수 있는 정신병은  치료기간엔 입원해서 격리시키고 병원비가 부담된다면 국가에서 지원하게 하는 제도적 보완이 필요할때다. 국개의원새리들아 일좀 하라고\\', \\'2019-04-25T09:49:26+0900\\', 0, 0], [1686138352, \\'\\', \\'조현병? 병이 아니네. 악마네 악마. 치료안되니 돈 쓸 생각말고 정신병동에 가두든지 사형 시키는게 어떤가?\\', \\'2019-04-25T09:48:51+0900\\', 0, 0], [1686135462, \\'\\', \\'정신병자들 뇌를 파버리던지 가둬두던지 해라 제발\\', \\'2019-04-25T09:46:48+0900\\', 1, 0], [1686135042, \\'\\', \\'미성년에 심신미약 조현병이니 집유땅땅땅 아니 잘못없음 더찌르고 다녀도 돼 미성년은 죄없으니 참 조두순좀부탁하자 이나라에있는 미성년들아\\', \\'2019-04-25T09:46:30+0900\\', 0, 0], [1686134862, \\'\\', \\'저게 병이면 왜 맨날 당하는 사람은 약자인지 모르겠다. 지네학교 일진한테도 못덤비는 새기가 나이들고 약한 할머니를 공격한게 말이 안되지\\', \\'2019-04-25T09:46:21+0900\\', 3, 0], [1686134662, \\'\\', \\'정부인사의  가족이  저래됐어도  이렇게  조용할까?\\', \\'2019-04-25T09:46:10+0900\\', 0, 0], [1686133352, \\'\\', \\'이제 우리가 할 일은 범죄자들의 응징이 아니다 범죄자들 또는 잠재적 범죄자들을 격리하는 일이 최우선이다 법 체계를 싹 바꿔야 한다고\\', \\'2019-04-25T09:45:11+0900\\', 0, 0], [1686133342, \\'\\', \\'국민청원  어떻게하는겁니까?\\', \\'2019-04-25T09:45:09+0900\\', 0, 0], [1686132632, \\'\\', \\'아 조현병이면 범죄 저질러도 되눈거구낭...  잘 알겟습니당\\', \\'2019-04-25T09:44:33+0900\\', 1, 0], [1686130912, \\'\\', \\'조현병 엄청 무서운 병으로 배웠는데.. 매번 이렇게 피해자가 나오면 격리해야 하는거 아닌지\\', \\'2019-04-25T09:43:19+0900\\', 2, 0], [1686130562, \\'\\', \\'관련 예산은 줄였담서???? 도대체 맨날 추경하면서 경제가 나아지길하냐 복지가 나아지길하냐 인권 운운하더니 멀쩡한 사람들만 죽어나가고 정신질환자가 판을 치는게 정상국가냐\\', \\'2019-04-25T09:43:07+0900\\', 0, 0], [1686130232, \\'\\', \\'조현병은 왜 여자에게만?\\', \\'2019-04-25T09:42:51+0900\\', 1, 0], [1686129352, \\'\\', \\'그냥 조현병 진단나면 바로 그 병원에 가둬버리면 안돼냐? 조현병 이쯤되면 사회악 아님?\\', \\'2019-04-25T09:42:11+0900\\', 0, 0], [1686126842, \\'\\', \\'이게다 쓸때없는대가리에서  나온병   그런게있음 저래도되냐  그냥    죽여라\\', \\'2019-04-25T09:40:04+0900\\', 0, 0], [1686126322, \\'\\', \\'조현병걸린사람  문재인이나 어떻게 좀  보내버려줘라  살기너무힘들다\\', \\'2019-04-25T09:39:46+0900\\', 0, 1], [1686125392, \\'\\', \\'뭐하면 조현병이래   술처먹고 정신병치료받아도 심신미약으로  감형해주는 줓같은법이문제\\', \\'2019-04-25T09:39:03+0900\\', 0, 0], [1686125162, \\'\\', \\'이재명이 형도 백화점 난동피우고 트럭몰아 자살시도하고.  저 OOO이랑 별반 다를게 없었음.  다행이 사람이 안죽었다뿐,   끝까지 강제진단을 하지 못한 이재명과 상사지시 거부하고 직무유기한 보건소장들을 구속해라. 그래야 저런 정신병자들이 설치지않을것임.  이재명 재판은 이러한 사회현상에 반하는 짓.  처음부터 기소한 떡검은 반성해라\\', \\'2019-04-25T09:38:55+0900\\', 0, 0], [1686120822, \\'\\', \\'조현병자들 정부에서  강제로 조사해서 정신병원에가둬야한다\\', \\'2019-04-25T09:35:42+0900\\', 3, 0], [1686120662, \\'\\', \\'뭐든 조현병이래. 정신병이면 모든게 용서되냐?!!! 정신병자들도 살인같은 중대 범법행위하면 교도소에 평생 넣어둬야된다. 잠재적 살인자들~~!!!!\\', \\'2019-04-25T09:35:34+0900\\', 0, 0], [1686119962, \\'\\', \\'게임을 너무많이한거지 학교 도 안다니고   저건 조현병이아니라  게임중독이지    하루종일 뭐하겠어   게임인지 현실인지 구분 못하는거지\\', \\'2019-04-25T09:34:55+0900\\', 1, 0], [1686119592, \\'\\', \\'왜 저런 정.신/병/자들을 사회에 풀어놓냐고\\', \\'2019-04-25T09:34:34+0900\\', 1, 0], [1686119092, \\'\\', \\'이제 정신병이면 특별감시하는 것으로 해야하나......\\', \\'2019-04-25T09:34:13+0900\\', 0, 0], [1686117582, \\'\\', \\'조현병 환자때문에 노인.어린이.여자들이 희생이 더이상 없도록 대안을 마련해야 됨.\\', \\'2019-04-25T09:33:02+0900\\', 1, 0], [1686117542, \\'\\', \\'왜이리 개똘들이 많은지...이젠 심심하면 살인이구나...\\', \\'2019-04-25T09:33:00+0900\\', 0, 0], [1686116662, \\'\\', \\'우리나라는 이런것도 유행을 타나?\\', \\'2019-04-25T09:32:20+0900\\', 0, 0], [1686116492, \\'\\', \\'이회창이 아니라 김대중이었던 그때부터 법치가 사라짐\\', \\'2019-04-25T09:32:10+0900\\', 0, 0], [1686115732, \\'\\', \\'조현병(정신분열증 환자)들은 격리시키던지.    린치를 가해야 한다. 그렇치 않으면 옆에 사람이 죽을 수 있다. 나, 가족들이 죽을 수 있다. 주변에 조현병 환자가 있으면 패 버려라. 아주 얼씬도 못하게.....그들의 뇌는 인간의 뇌가 아니라 포유류의 뇌이다. 인간으로 생각하지 마라. 언제든지 포악성을 드러낸다.\\', \\'2019-04-25T09:31:29+0900\\', 1, 0], [1686115022, \\'\\', \\'누구나조현병이라고하면 사람죽여도되는 나라로 몰아가고있쟎아? 필리핀은 마약쟁이라고하면 아무나사살했다며..?..정부에대들면다죽는다는거지...    이나라가한리핀이되려나? 촛불국민이아직싸라있어서안되지.\\', \\'2019-04-25T09:30:46+0900\\', 0, 0], [1686114432, \\'\\', \\'대한민국 개판으로 돌아가네 윗사람들건들면 그때부터 법바꿀생각입니까? 아무렇지않게 대응하는 대한민국이 너무 싫어집니다. 사형제도 필요한거고 나와서 또 똑같은짓 할께 분명할꺼고 정말 한숨밖에안나온다.\\', \\'2019-04-25T09:30:09+0900\\', 2, 0], [1686114412, \\'\\', \\'조현병환자들은 ...소수약자만 폭행하는거에 대해 알수가 없는 아이러니한 상황이 벌어지네요?.강자에게는 폭행을 못하는이유는 사리분별을 할줄 안다는 사실아닌지 ..서글프네요~\\', \\'2019-04-25T09:30:08+0900\\', 4, 0], [1686114332, \\'\\', \\'정신병자 다 쳐놓고 아무도 풀어주지마라 ㅅ|발 헬조선에서는 내 생명은 내가 지켜야한다.\\', \\'2019-04-25T09:29:58+0900\\', 1, 0], [1686113962, \\'\\', \\'삼청교육대 부활이 시급하다 매가 약인시대가 됬다 인권단체는 OOO들만 있나? 피해자의 인권은 무시하는 OOO집단이다\\', \\'2019-04-25T09:29:30+0900\\', 0, 0], [1686113722, \\'\\', \\'또 심신미약으로 감형하기만해봐라 판결내는 사람들 니가족이당한일이다 하고 판결해주길\\', \\'2019-04-25T09:29:16+0900\\', 1, 0], [1686112772, \\'\\', \\'조현병 나오면 무조건 정신과 병동에 격리시키자\\', \\'2019-04-25T09:28:29+0900\\', 0, 0], [1686112662, \\'\\', \\'부모부터  강력처벌\\', \\'2019-04-25T09:28:26+0900\\', 0, 0], [1686112362, \\'\\', \\'불안해서 살 수가 없다. 조현병 정신병자 관리 좀해라. 이게 나라냐?\\', \\'2019-04-25T09:28:05+0900\\', 0, 0], [1686112162, \\'\\', \\'정신병원에 무기징역 추천\\', \\'2019-04-25T09:27:50+0900\\', 0, 0], [1686111642, \\'\\', \\'기자들이 매날 조현병만 쓰게되면 조용히 살고있는 다른 조현병 환자들이 피해를 받게되는데 솔직히 무식하다고 본다.  통체적으로 정신질환자라는 말이 맞는말입니다.\\', \\'2019-04-25T09:27:17+0900\\', 0, 0], [1686111542, \\'\\', \\'국회로 보내줘 쫌\\', \\'2019-04-25T09:27:11+0900\\', 0, 0], [1686109022, \\'\\', \\'국가적 관리가 필요하다 언제 죽임 당할지 모르는 이 나라\\', \\'2019-04-25T09:24:34+0900\\', 0, 0], [1686108972, \\'\\', \\'이건 빨리 국회에서 조현병 관련 법만들어라.. 항상긴장하고 살아야되나..? 아니면 내몸은 내가지키게 칼휴대한다..\\', \\'2019-04-25T09:24:32+0900\\', 1, 0], [1686108892, \\'\\', \\'조현병이 사람을 죽이는 살인마가 많다면 그럼 관리를 해야할거 아냐 왜 정신병 걸린 잠재적 살인마를 활보하게 냅두냐?? 그리고 가족들도 책임져라. 나몰라라 한죄\\', \\'2019-04-25T09:24:28+0900\\', 5, 0], [1686108772, \\'\\', \\'정신병에 청소년 버프 두르네 한국의 법을 잘 알고 있구나 이 미@친 나라는 언제쯤 이런걸 없앨까\\', \\'2019-04-25T09:24:18+0900\\', 1, 0], [1686108172, \\'\\', \\'범죄는 그 결과로 단죄해야 한다. 범인이 조현병이라거나, 심신미약 상태였다는 이유는 피해자가 고려할 사항이 아니다. 만약 이를 고려하여 징벌한다면 국가가 피해자에게 충분한 배상을 해야 할 것이다.\\', \\'2019-04-25T09:23:36+0900\\', 1, 0], [1686107812, \\'\\', \\'피자맥이고 짜장면 사맥이고 학원만 보내서 그래\\', \\'2019-04-25T09:23:15+0900\\', 0, 0], [1686107312, \\'\\', \\'미친다..  정신이상이라고 감경하면 그 또라이 정신상태로 일찍 나와서 똑같은짓 또 하라고? 조현병 걸린넘들이 다 저런 판새들 근처에만 살았음 좋겠다\\', \\'2019-04-25T09:22:49+0900\\', 0, 0], [1686106452, \\'\\', \\'제발...사형제 부활쫌..ㅡㅡ\\', \\'2019-04-25T09:22:00+0900\\', 5, 0], [1686105262, \\'\\', \\'그놈의 조현병  사람 죽이면 다 조현병이래  그럼 격리하는 법안 만들어 격리해야지\\', \\'2019-04-25T09:20:40+0900\\', 0, 0], [1686104612, \\'\\', \\'저게직접적인원인이아님머가직접적인이윤데? 제발그놈의조현병으로감형받는일좀고만해라이것들아\\', \\'2019-04-25T09:19:59+0900\\', 2, 0], [1686104582, \\'\\', \\'아마 저 애는  다른지역에 살다가 경상도로 이사온 모양이네요.... 경상도 사람들은 선해서  절대 저런짓 안하는데 ...\\', \\'2019-04-25T09:19:58+0900\\', 0, 2], [1686103982, \\'\\', \\'정신이상자아님 사형 ㄱㄱ\\', \\'2019-04-25T09:19:22+0900\\', 0, 0], [1686102892, \\'\\', \\'자식이 정신적 문제가 있어서 자퇴를 했으면  아이를   병원에 입원시켜서 치료를 받게끔 해야지...\\', \\'2019-04-25T09:18:06+0900\\', 0, 0], [1686102242, \\'\\', \\'경상도인들의 근친상간번식 문화가 있는  한 열성 유전자는 정신분열을 일으켜 이런 끝없는 살육이  재연될 것으로 본다. 인명을 경시하는 종자특성은 열등한 정신적 결함이고 이는 근친번식 때문이라는 것이닭\\', \\'2019-04-25T09:17:24+0900\\', 0, 1], [1686101632, \\'\\', \\'저 시키 부모는 뭐하고 있는거냐? 관리 안하고 . 살인자 가족됬네.꼴좋다.ㅉㅉ\\', \\'2019-04-25T09:16:52+0900\\', 2, 0], [1686101612, \\'\\', \\'어제 저희동네에도 어떤여자가 몇시간동안 욕하면서 아파트단지를 계속 돌더라구요... 미친여자같던데 .. 그런사람들 왜 돌아다니는지 모르겠어요 ..\\', \\'2019-04-25T09:16:51+0900\\', 0, 0], [1686101122, \\'\\', \\'어릴때부터 부모가 인정하고 치료받아야하는데  인정하는 사람이 많지 않음 ㅡㅡ 어떤상태인지 인지하지 못하는 경우도 많고 그래서 주위에서 아무리 병원 데려가라고 해도 듣지를 않음 ㅜㅜ 계속 시비걸어서  주변사람들만  애탐\\', \\'2019-04-25T09:16:26+0900\\', 2, 0], [1686099802, \\'\\', \\'한국남자가 또 죽였네\\', \\'2019-04-25T09:15:22+0900\\', 0, 2], [1686099742, \\'\\', \\'아 진짜 정신병자들 좀 병원에 쳐 넣어라 뭔 나라 꼴이 이게 뭐냐\\', \\'2019-04-25T09:15:19+0900\\', 1, 0], [1686098502, \\'\\', \\'근데 진짜 궁금한점: 정신병자인데 어떻게 냉철하게 약한 사람만 해침? 뭐 본능의 영역인가?\\', \\'2019-04-25T09:14:02+0900\\', 1, 0], [1686097142, \\'\\', \\'세상참..\\', \\'2019-04-25T09:12:48+0900\\', 0, 0], [1686094232, \\'\\', \\'말은 조현병, 실상은 자신보다 약한 특정 또는 불특정 사람들에 대한 계획적 테러... 조현병 걸렸다 주장하는 쉙히들이 자신들보다 더 건장하고 강해보이는 사람들을 공격했다는 사례를 들어본적이 없음... 이보다 더 소름끼치는 것은 불과 2~3년 전까지 법원 판사들이 현실이 이런데도 조현병 주장 테러분자들에 대해 초범, 사과, 뉘우침, 심신미약 등을 운운하며 대부분 대폭 감형, 아주 일부 소수는 무죄까지도 선고했다는 것임...\\', \\'2019-04-25T09:09:43+0900\\', 3, 0], [1686093312, \\'\\', \\'일반인들도 비슷한 범죄 저지르자나. 그냥 범죄형인간일 뿐이다. 모두들 꿈꾸지? 어떻게 혼자서 꿈을 꾸며 그속에서 대화를 하겠냐. 꿈꾸는동안 뇌가 2개3개로 늘어나냐? 그냥 그상황이 잠자지 않는데도 계속되는거다.\\', \\'2019-04-25T09:08:42+0900\\', 1, 0], [1686093102, \\'\\', \\'나라가망해가네\\', \\'2019-04-25T09:08:29+0900\\', 0, 0], [1686090382, \\'\\', \\'국가에서  조현병 과 같은 환자을 무료치료할수  있도록    해서     조현병  환자 가 있는 집에서  안심하게   장기 입원치료 받고  국가 관리 해서 이런 사건이 나지 않 토록  해야한다   전국  조현병자   국가 관리  로 환자명부을 만들어  관리해라\\', \\'2019-04-25T09:05:04+0900\\', 0, 0], [1686090172, \\'\\', \\'아니 근데 90년대에서2000년대 초반에도 조현병이라는게 있었냐?? 난 저단어 자체가 요근래에 보는 병 같다.\\', \\'2019-04-25T09:04:44+0900\\', 0, 0], [1686090162, \\'\\', \\'와..정신병자같은 새끼가  주변에  얼마나 깔려있는지  모르고살다가  정신병자들한테   당하고나면   죽어야하는거냐..?  정신병 치료와  내주변에  정신병환자  신상공개하라\\', \\'2019-04-25T09:04:43+0900\\', 0, 0], [1686089952, \\'\\', \\'나전에 알던 여자가  이웃집에서 벽을 치고 욕을 계속 한다고 경찰에 신고를 했음.. 경찰나와 주변조사 다하고 했는데 다들 그런적 없다고.. 나중에 알고보니 환청이였음..   좀유약해도 멀쩡했었는데  한순간에  정신줄  놔버림\\', \\'2019-04-25T09:04:28+0900\\', 1, 0], [1686088772, \\'\\', \\'조현병+미성년자는 살인면허 갖은거냐. 제발 터벌 제대로하자 하루 안빠지고 요새 살인을 하네\\', \\'2019-04-25T09:02:44+0900\\', 2, 0], [1686088462, \\'\\', \\'새벽에 손 절구질 빡돈다\\', \\'2019-04-25T09:02:24+0900\\', 0, 0], [1686088442, \\'\\', \\'저런새끼들 절대 지들보다 쌔 보이면 절대 저런짓안한다...조헌병으로 포장하지마라~~ 그냥 사형시켜...제발\\', \\'2019-04-25T09:02:23+0900\\', 2, 0], [1686087212, \\'\\', \\'층간소음 문제로 할머니와 마찰을 빚은 것이 직접적인 범행의 원인입니다.\\', \\'2019-04-25T09:01:08+0900\\', 0, 1], [1686087052, \\'\\', \\'좀 참았다가 조두순한테 그러지 그랬냐..\\', \\'2019-04-25T09:00:58+0900\\', 0, 0], [1686087022, \\'\\', \\'살인자는 살인자다. 정신병자랑 엮지마라. 아님 조현병 앓는 사람들 미래의 살인자로 일반화된다.\\', \\'2019-04-25T09:00:55+0900\\', 0, 0], [1686085262, \\'\\', \\'정신병자, 사이코패스, 범죄자 인권?- 서민들의 인권은?\\', \\'2019-04-25T08:58:58+0900\\', 0, 0], [1686084852, \\'\\', \\'조현병이고  나발이고 살인은 살인이지 말도안되는 개소리르하네 인권위원회야 이런데 인권타령하지말고 장애인분들이나 노약자분들 인권타령해라 그리고 살인은 살인이지 조현병으로 사람죽이면 살인아니냐?  말도안되는 개소리좀 그만하자\\', \\'2019-04-25T08:58:33+0900\\', 2, 0], [1686084622, \\'\\', \\'제발 조현병환자는 고요하게 안락사 좀 시키자!! 반대할 조현병환자는 없을 거다!!\\', \\'2019-04-25T08:58:14+0900\\', 0, 0], [1686083892, \\'\\', \\'\"경찰은 A군이 전에도 층간소음 문제로 숨진 할머니와 마찰을 빚었지만 범행의 직접적인 원인으로 보기는 어렵다며, 정신 이상에 무게를 두고 있다고 밝혔습니다.\"  왜요?  또 정신이상이라고 감형해주려구요?\\', \\'2019-04-25T08:57:34+0900\\', 1, 0], [1686083602, \\'\\', \\'저런 놈들은 삼청교육대 보내자\\', \\'2019-04-25T08:57:17+0900\\', 0, 0], [1686083392, \\'\\', \\'살인마한테 그놈에 인권타령그만했으면 청소년도 정신병도 이유없이 살인자는 살인자로 명시하고 얼굴공개해라 인권타령하니 범죄자가 많아짐\\', \\'2019-04-25T08:57:08+0900\\', 5, 0], [1686083232, \\'\\', \\'어려서부터 살인을 아무렇지 않게 하는거면 무기징역이 답이다 무기징역 제발좀 때리자 몆년 넣엇다가 또 나오게 하지말고 몆년 살다가 나와서 또 살인 저지르면 무고한 시민만 불쌍하게 죽거나  다친다.\\', \\'2019-04-25T08:56:55+0900\\', 0, 0], [1686083042, \\'\\', \\'정신병자는 절대아니다. OOO놈놈 이지\\', \\'2019-04-25T08:56:42+0900\\', 0, 1], [1686082812, \\'\\', \\'경쌍도에  정신 질환자가 많네 ㅉㅉㅉ\\', \\'2019-04-25T08:56:27+0900\\', 0, 0], [1686082212, \\'\\', \\'저런 동물들 집밖에 못나오게 해주세요. 무서워서 집밖을 못나오겠습니다.\\', \\'2019-04-25T08:55:42+0900\\', 0, 1], [1686082202, \\'\\', \\'다 죽여라\\', \\'2019-04-25T08:55:42+0900\\', 0, 0], [1686081922, \\'\\', \\'인권타령이나해라\\', \\'2019-04-25T08:55:17+0900\\', 1, 0], [1686081352, \\'\\', \\'조현병 학생들 특수학교로 보내는것도 막아주세요 지적장애와 정신분열은 전혀 다른 문제입니다. 조현병 학생으로 인해 교사 및 다른 학생들이 다치거나 사고를 당하는 일도 너무많습니다. 부탁드립니다.\\', \\'2019-04-25T08:54:45+0900\\', 0, 1], [1686081112, \\'\\', \\'조현병으로 풀어주려면 관리나 제대로 하던가 국가가 하는일이없어. 헌법은 괜히 있나보다. 성범죄자 거주지 관리도 안되고 공무원들 진짜 패주고싶다\\', \\'2019-04-25T08:54:26+0900\\', 1, 0], [1686080962, \\'\\', \\'지 애비나 죽일것이지 왜 남을 죽이냐 ?\\', \\'2019-04-25T08:54:18+0900\\', 0, 1], [1686080172, \\'\\', \\'아무렇지도 않게 칼로 찌르네\\', \\'2019-04-25T08:53:30+0900\\', 1, 0], [1686080102, \\'\\', \\'조현병 환자가 술까지 마시면 뭘 해도 무죄겠군 ㅉ ㅉ\\', \\'2019-04-25T08:53:24+0900\\', 3, 0], [1686079642, \\'\\', \\'1살 2살아주어린 나이때부터 부모손에 안키워지고 얼집에서 크는 것때문일까  아이들부터어른까지 정신병이너무많다\\', \\'2019-04-25T08:53:00+0900\\', 0, 0], [1686079342, \\'\\', \\'정신병자라고 또 봐주는거 아냐??\\', \\'2019-04-25T08:52:46+0900\\', 0, 0], [1686079292, \\'\\', \\'저런환자들이 조현병으로 감형된다는걸 알고 더활개를 치는데..언제까지 두고볼거예요??정신분열 수위가 사회생활할수있는 정도라면 분명 살해를 해도된다안된다 구분도 되는 걸텐데.계속해서 살인범들의 처벌이 가벼우니..당연히 살인하는 행위자체가 제정신이 아닌건데.언제까지 이렇게 죄없는 피해자만 만들어낼거냐구요.\\', \\'2019-04-25T08:52:44+0900\\', 2, 0], [1686078462, \\'\\', \\'저런 미치광이들은 사형이 답이지 모조리 다 사형시켜라 진짜\\', \\'2019-04-25T08:51:53+0900\\', 5, 0], [1686078312, \\'\\', \\'조현병, 분노조절장애자들 특) 지보다 쎄보이는 사람 앞에만 서면 기적적으로 병이 치료됨\\', \\'2019-04-25T08:51:45+0900\\', 2, 0], [1686078222, \\'\\', \\'정부가조현병환자입원을어렵게해서생긴일\\', \\'2019-04-25T08:51:41+0900\\', 0, 0], [1686077772, \\'\\', \\'정신이상 같은 소리 하고 있네. 살인후에 인근 미술관에서 손을 씻고, 아무일 없다는듯이 집에 들어갔으면, 당시에 상황판단 가능한 상태였던것 같은데???  범행후에 가족들한테 안들키려고 다른곳에서 씻고 들어간거 보면,  당시에는 정신이 온전한 상태였다고 보임\\', \\'2019-04-25T08:51:11+0900\\', 28, 1], [1686077752, \\'\\', \\'조현병이 그렇게 대단한 병이니...정신병원 구속시키던지 사형시켜라,..\\', \\'2019-04-25T08:51:10+0900\\', 2, 0], [1686077632, \\'\\', \\'모든 한남충=정신분열충\\', \\'2019-04-25T08:51:05+0900\\', 2, 0], [1686077402, \\'\\', \\'나는 조현병이라는 표현 자체가 마음에 안든다! 뭔가 OOO을 포장해 주는..합리화 시키려는 병명 같아! 그냥 미친 정신병자 라고 하라고! 격리가 필요한 정신병자!\\', \\'2019-04-25T08:50:53+0900\\', 3, 0], [1686077082, \\'\\', \\'제발 정신병있는애들 애초에 병원에 가둬놔라 아니 범죄 저지를정도로 정신이 이상한 애를 왜 내버려둬서 이 사달이 나는데? 범죄 저지르지 않을 정도면 걍 풀어놓도 대신 심신미약 없애라\\', \\'2019-04-25T08:50:33+0900\\', 4, 0], [1686076082, \\'\\', \\'조현병은 무슨! 정신분열증이라고 명칭 다시 되돌려라.  또 인권위가 지라ㄹ해서 이름 바꾼거냐? 조현이 뭐냐? 정신분열이라해야 더 직관적으로 와닿지\\', \\'2019-04-25T08:49:37+0900\\', 5, 0], [1686075992, \\'\\', \\'조현병으로 범행을 정당화시키는건 아니죠?\\', \\'2019-04-25T08:49:32+0900\\', 0, 0], [1686075922, \\'\\', \\'정신병ㅈㅏ를 집에방치하는 이유가뭐냐 병원비아낄려고 ㅡㅡ이런큰일 OOO게 하냐?ㅡㅡ\\', \\'2019-04-25T08:49:31+0900\\', 2, 1], [1686075872, \\'\\', \\'여럿 죽어 나가는구나...   니들이 찔려봐야 처신할래? 저런사라믄 가족한테도 위협적이자나.섬만드러서 끼리끼리살게해..\\', \\'2019-04-25T08:49:26+0900\\', 0, 0], [1686075702, \\'\\', \\'조현병의  증상 중 하나가 환청인데 층간소음이 원인이라는 건 뭐지?\\', \\'2019-04-25T08:49:15+0900\\', 0, 0], [1686075632, \\'\\', \\'정신병자좀 관리해라.\\', \\'2019-04-25T08:49:10+0900\\', 1, 0], [1686075542, \\'\\', \\'애비라는 새끼는 머한거냐. 부모도 같이 처벌받아야 지새끼 지가 관리한다\\', \\'2019-04-25T08:49:05+0900\\', 2, 0], [1686075102, \\'\\', \\'무섭다~ 내옆집에  환자가 살수도 있고 내옆을 돌아다닐수도 있는건데~ 누구나 피해자가 될수 있는거다\\', \\'2019-04-25T08:48:45+0900\\', 2, 0], [1686074882, \\'\\', \\'정신병자 본인 동의없이 강제입원 할수 없어. 문재인.\\', \\'2019-04-25T08:48:31+0900\\', 0, 2], [1686074642, \\'\\', \\'정신온전하니 미술관가서 손닦고왔겠지 무슨 정신병이냐저게 계획살인이지!!!!\\', \\'2019-04-25T08:48:20+0900\\', 1, 0], [1686074452, \\'\\', \\'법개정이 시급하구나.  하루가 멀다고 이런 일이\\', \\'2019-04-25T08:48:09+0900\\', 1, 0], [1686074302, \\'\\', \\'또 경남...김경수가 복귀하니 계속 살인나는구나\\', \\'2019-04-25T08:48:02+0900\\', 1, 0], [1686074142, \\'\\', \\'사형제불활시키자. 유가족들은 억울하다\\', \\'2019-04-25T08:47:54+0900\\', 1, 0], [1686073932, \\'\\', \\'정신나간 놈들에게 언제 등에 칼맞을지 모른다 정부는 정신보건법을 개정하여 사회와 격리 시켜라\\', \\'2019-04-25T08:47:43+0900\\', 0, 1], [1686073732, \\'\\', \\'조현병 맞나요??  우발적이면 모르겠지만 계획대로 진행한 잔인한 방법은 싸이코패스 같은데요???\\', \\'2019-04-25T08:47:28+0900\\', 0, 0], [1686073622, \\'\\', \\'마약에 성폭행에 성추행에 정신병에 난리도 아니구만\\', \\'2019-04-25T08:47:19+0900\\', 2, 0], [1686073462, \\'\\', \\'여러번 말하지만 제발 격리 쫌 시켜라..ㅅㅂ\\', \\'2019-04-25T08:47:10+0900\\', 1, 0], [1686073322, \\'\\', \\'신안으로\\', \\'2019-04-25T08:47:01+0900\\', 0, 0], [1686072772, \\'\\', \\'여러분 살인마 김정은이 비서실장이 인권 변호사 문재인 입니다\\', \\'2019-04-25T08:46:27+0900\\', 1, 1], [1686072702, \\'\\', \\'또 나와서 또 죽이고 또 후회하고 아주 법이 ㅈㄱㄴ 인권떠드는 것들도 공범자임\\', \\'2019-04-25T08:46:24+0900\\', 1, 0], [1686072512, \\'\\', \\'ㅅㅂ 쫌 죽여버리자 인권위고 나발이고 사형집행하라고 반대하는것덜 다 참수해버리자\\', \\'2019-04-25T08:46:11+0900\\', 1, 0], [1686072262, \\'\\', \\'사형가자...\\', \\'2019-04-25T08:45:55+0900\\', 1, 0], [1686072162, \\'\\', \\'진짜 미쳐분다~세상이 이러냐!!!!!!!\\', \\'2019-04-25T08:45:51+0900\\', 0, 0], [1686072072, \\'\\', \\'사람이 사람을 죽였는데  죽인놈을 살려준다? 이게 진정한 이나라 법이가.\\', \\'2019-04-25T08:45:46+0900\\', 0, 0], [1686071812, \\'\\', \\'용서해라 아직 어리다.\\', \\'2019-04-25T08:45:27+0900\\', 0, 6], [1686071652, \\'\\', \\'똥은 피하는 게 답입니다.  다른 사람이랑 마찰 생기면 양보하세요\\', \\'2019-04-25T08:45:19+0900\\', 1, 0], [1686071192, \\'\\', \\'사형제도  부활 해라\\', \\'2019-04-25T08:44:52+0900\\', 1, 0], [1686070792, \\'\\', \\'나라는점점더살기어려워지고 OOO과 성폭행범들은 법의테두리안에 활기차게 다니고 나라잘돌아간다\\', \\'2019-04-25T08:44:25+0900\\', 0, 0], [1686070592, \\'\\', \\'지하철에서도 요즘 잦은 시비가 붙는다 그것은 기본적인 매너를 지켜주지않아서 생기는것들이다 핸드폰보면서 걷다가 부딪히는 인간들, 내리는사람이 내리기도 전에 빈자리 앉겠다고 돌진하는 인간들, 만원전철에서 굳이 핸드폰게임 하는 인간들\\', \\'2019-04-25T08:44:12+0900\\', 2, 0], [1686070582, \\'\\', \\'정신이 온전한 사람보다 정신이 온전치 못한 사람이 더욱 인권을 우대 받는 나라 대한민국\\', \\'2019-04-25T08:44:10+0900\\', 7, 0], [1686070432, \\'\\', \\'이정도면 조현병 전수조사해서 리스트공개하시오 무서워서살겠나진짜\\', \\'2019-04-25T08:44:02+0900\\', 0, 0], [1686070062, \\'\\', \\'저런사람이 감경받고 일찍나와서. 또다른피해자를 발생시키면 어떻게하나요... 사회와격리좀....제발...\\', \\'2019-04-25T08:43:41+0900\\', 1, 0], [1686069682, \\'\\', \\'옆집아랫집윗집에조현병걸린사람이있나없나 살펴봐야겠군.조두순도짜증나는데...이긍\\', \\'2019-04-25T08:43:21+0900\\', 0, 0], [1686069092, \\'\\', \\'요즘은 정신나간 넘들이 많아서 무조건 무슨 일 있으면 몸 사려야 되는듯 죽고 다치는 사람만 불쌍하지 가해자는 솜방망이 처벌인데 뭐\\', \\'2019-04-25T08:42:44+0900\\', 0, 0], [1686069022, \\'\\', \\'반대로 생각한번 해보자. 저 피해자 할머니가 피의자학생에게 인격적으로 뭔가 잘못을 한것이 아니라면 저 학생이 저렇게까지 했을까?\\', \\'2019-04-25T08:42:36+0900\\', 1, 1], [1686068832, \\'\\', \\'조현병 환자는 잘 관리만 하면 사회와 어울리는데 문제없다는 전문가 진단 이제 없었으면 좋겠다.이런 소리는 이상적인 망상일 뿐이다. 사회에서 일일이 지켜 볼수도 없고 잘 관리하기 힘든게 현실아닌가?\\', \\'2019-04-25T08:42:24+0900\\', 1, 0], [1686068712, \\'\\', \\'몽둥이가약인데\\', \\'2019-04-25T08:42:14+0900\\', 1, 0], [1686068642, \\'\\', \\'조현병:자기보다 키,덩치큰 사람앞에서는 정상인으로 돌아오는 희귀한 병\\', \\'2019-04-25T08:42:11+0900\\', 6, 0], [1686068362, \\'\\', \\'정신분열 환자가 진짜 오리지널 정신병 환자, 정신분열은 약을 먹어도 약의 내성이 생기기 때문에 약을 바꿔줘야함. 물론 정신분열이 그럴때마다 약을 바꿔 먹는 시기를 놓침. 그래서 정신병원에 감금 시켜야하는데 뉴스를 보면 알듯이 99.9% 정신병원에 입원하는걸 거부함.\\', \\'2019-04-25T08:41:58+0900\\', 0, 1], [1686068302, \\'\\', \\'전라도에서 일어난 사건이면 지역감정 댓글 엄청 달렸을텐데. 비교되네\\', \\'2019-04-25T08:41:51+0900\\', 3, 5], [1686068242, \\'\\', \\'도대체 정부는 대책이 있는거냐?? 대책 좀 내놔라 ㅅㅂㄹㄴㄷㅇ\\', \\'2019-04-25T08:41:48+0900\\', 1, 0], [1686068142, \\'\\', \\'대체 이 사건이 병과 무슨 상관인가? 딱 봐도 평소부터 마음에 안 들었는데 참다 참다 일 저지른 것 같구만.\\', \\'2019-04-25T08:41:44+0900\\', 0, 1], [1686068122, \\'\\', \\'하여간 기질이 안좋아 7시나 5시나\\', \\'2019-04-25T08:41:43+0900\\', 0, 0], [1686067912, \\'\\', \\'조현병들은 사람이 아니다 사회에서 격리 시켜라 이것들이 약을 먹지않고 치료를 거부하는 것들이 반드시 살인을 저지른다 죽이려며 방치하고 놔둔 지 가족이나 죽일것이지 남이나 약자들만 죽이는건 조현병 때문만이라고 할 수 없지 계획적인 살인이다 이런것들은 사회 격리 시켜야지 왜 거리를 돌아 다니게 놔두는거야 조현병있는 것들은 모든 사람들이 알 수 있게 법으로 만들어라\\', \\'2019-04-25T08:41:30+0900\\', 0, 1], [1686067852, \\'\\', \\'조현병이 약자한테만 공격하는게 특징인가봐요\\', \\'2019-04-25T08:41:26+0900\\', 2, 0], [1686067702, \\'\\', \\'저런 나약한 새끼는 없어져야됨\\', \\'2019-04-25T08:41:13+0900\\', 0, 0], [1686067562, \\'\\', \\'또 경상도네 봄되면 경상디언 단체발작 일으킴? 안인득+부산여대생살해+애비살해pc방녀+할매살해10대+화장실미성년자강간 ㄷㄷㄷ 와 요 며칠사이에 강력범죄 뜨는건 죄다 경상도ㄷㄷ\\', \\'2019-04-25T08:41:02+0900\\', 0, 4], [1686067442, \\'\\', \\'인권쟁이들 떠들어봐라\\', \\'2019-04-25T08:40:52+0900\\', 1, 0], [1686067282, \\'\\', \\'딱 보니까 저새 끼 안인득 사건보고 따라한거네 OOO\\', \\'2019-04-25T08:40:44+0900\\', 1, 0], [1686067232, \\'\\', \\'뭐 전염돠는거 냐이건..\\', \\'2019-04-25T08:40:42+0900\\', 0, 0], [1686067112, \\'\\', \\'조현병에 걸린것도 안됐고 죽은 할머니도 불쌍하고ᆢ\\', \\'2019-04-25T08:40:35+0900\\', 0, 1], [1686066972, \\'\\', \\'조두순→→→경상북도\\', \\'2019-04-25T08:40:25+0900\\', 0, 0], [1686066782, \\'\\', \\'조현병 판정받은것들은 의무 입원시켜라  완치될때까지 못나오게 철저한 관리와치료\\', \\'2019-04-25T08:40:12+0900\\', 1, 0], [1686066762, \\'\\', \\'할매~ 이 여자야 말년에 고생이 많았다 그래도 80살 되기 전에 간 게 어디냐\\', \\'2019-04-25T08:40:12+0900\\', 0, 6], [1686066692, \\'\\', \\'저런 중환자도  본인동의 없으면 부모도 강제로 입원시킬 수 없고 경찰이 함부로 끼어들었다가는 모가지 날아갑니다. 이것이 20170년 개정된 정신건강법입니다. 가족들은 지옥에서 살고 있어요.\\', \\'2019-04-25T08:40:09+0900\\', 12, 2], [1686066642, \\'\\', \\'또또또 경상도\\', \\'2019-04-25T08:40:06+0900\\', 1, 0], [1686066502, \\'\\', \\'어리다고 용서 하지 말아라\\', \\'2019-04-25T08:39:58+0900\\', 1, 0], [1686066392, \\'\\', \\'표적살해를 병때문이란다. 아무리 어리지만 이건 아니다싶다. 사회에 위험 인물들이 판치게 하는것이 인권이냐?\\', \\'2019-04-25T08:39:45+0900\\', 4, 0], [1686066272, \\'\\', \\'말이 씨가 된다고 했다~~모두들 자기가 한 말과 글에 신중해야한다~~고스란히 자기에게 돌아올 수 있음을 알아야한다~허투루 말하지 말지어다\\', \\'2019-04-25T08:39:38+0900\\', 0, 2], [1686066022, \\'\\', \\'옆집에 정신이상자가 사는데ㅜㅜ 책을 계단에 천장까지 쌓아 놓는! 그 책 위에 가위를 항상 올려놓음! 소름? 시고했더니 개인 재산이라 손 댈 수 없고 정신병자라 이해 하라는데..우짜지요?\\', \\'2019-04-25T08:39:27+0900\\', 0, 0], [1686065942, \\'\\', \\'저거는ᆢ사이코패스 아님?\\', \\'2019-04-25T08:39:23+0900\\', 0, 0], [1686065722, \\'\\', \\'쟤들끼리 모아놔야 하는거 아닌가..외부  출입 못하게하고. 그들만의 세상을  만들어 주는것이 좋을것 같다.\\', \\'2019-04-25T08:39:10+0900\\', 0, 0], [1686065692, \\'\\', \\'태형처벌하라니까?  100%분노조절까지 완치됨\\', \\'2019-04-25T08:39:07+0900\\', 0, 0], [1686065282, \\'\\', \\'저번도 그렇고 조현병은 어린이 여성 노약자만 노리는 건가요? 약자만 공격해야 한다는 판단은 가능 한가봐요 병이 있다고 봐주지말고 행동에대한 강력처벌 바랍니다\\', \\'2019-04-25T08:38:37+0900\\', 0, 0], [1686065202, \\'\\', \\'차라리 기다렸다 조두순이나죽이지 칭찬받고 박수받으며 깜빵갈껀디.\\', \\'2019-04-25T08:38:32+0900\\', 4, 0], [1686064852, \\'\\', \\'이러다 조현병 = 잠재적살인자 성립되는거냐?\\', \\'2019-04-25T08:38:22+0900\\', 0, 0], [1686064812, \\'\\', \\'제발 정신장애자들 모조리 잡아다 가스실에 쳐 넣고 소각시킵시다\\', \\'2019-04-25T08:38:20+0900\\', 0, 2], [1686064572, \\'\\', \\'저런것들 어디섬에다 다 싸잡아 넣어놓고 지들끼리 죽이던 어쩌던 냅둬라!!!!무고한시민들 죽는일 더이상 생기게하지말고!!!!!!!\\', \\'2019-04-25T08:37:59+0900\\', 0, 0], [1686064032, \\'\\', \\'정신질환자는 절대 불쌍하지 않습니다. 정신질환자 동정 그만하세요. 정신병이 무서운이유.. 이건 완치가 없고 증상 나타나면 애비애미 못 알아봅니다. 약으로 증상을 조절해야하는데 정신병자들 퇴원하면.약 절대 안먹습니다. 약타러 병원에도 안 다녀요. 이사람들은 그냥 평생 병원에 입원시키는게 낫습니다. 완치도 없는병. 타인에게 해를 끼치는병. 자기스스로도 관리 안돼는 병. 사회 공공의 안전을 해하는 병. 정신병자들은 그냥 평생 격리입원시켜야합니다. 사회안전을 위해서 그 방법밖에는 없어요\\', \\'2019-04-25T08:37:23+0900\\', 41, 4], [1686063452, \\'\\', \\'넘 안 좋은 소식들이 매일같이 쏟아져 나오네요  안타까운 사건사고 지금처럼 참 무섭고 화나는 일까지ᆢ 언제쯤 안전하고 살기 좋아질까요?\\', \\'2019-04-25T08:36:50+0900\\', 1, 0], [1686063142, \\'\\', \\'내 주변에도 건너건너 조현병 환자가 있긴 하지만. 조현병 환자라고 모두 저러지 않는다.  저건 조현병과는 관련없는 분노조절장애 같은데??  자꾸 기사마다 조현병 강조하지마라. 전국에 알게모르게 조현병 환자가 얼마나 많은데....\\', \\'2019-04-25T08:36:31+0900\\', 9, 6], [1686062762, \\'\\', \\'정신병이고 나발이고 사형 시켜라. 억울하게 죽은 사람 눈이라도 제대로 감았겠나!\\', \\'2019-04-25T08:36:13+0900\\', 3, 0], [1686062722, \\'\\', \\'조현병은 왜 남자들만 생기나요? 상대는 왜 여자이죠?\\', \\'2019-04-25T08:36:10+0900\\', 5, 0], [1686062712, \\'\\', \\'계속 조현병자 살해가 일어나고 있는데 무슨조치라도 해야하는거 아닌가요? 이런일이 반복되는데두 나몰라라 식으로 넘어가는것같아 무섭네요~\\', \\'2019-04-25T08:36:08+0900\\', 20, 1], [1686062322, \\'\\', \\'보사부 장관은  물러나라.\\', \\'2019-04-25T08:35:50+0900\\', 4, 0], [1686062222, \\'\\', \\'훠훠훠 재미잇는 문건이군요 그나저나 북한은 언제가지요??\\', \\'2019-04-25T08:35:45+0900\\', 2, 0], [1686062102, \\'\\', \\'이 모든게 사형제 폐지로 생긴 것이다 사형제가 부활되면 두려워서라도 그런 짓 몬한다 인간 같지 않은 것들 인격 챙겨주다가 엄한 사람 죽어 나간다 정신 좀 차렸으면\\', \\'2019-04-25T08:35:38+0900\\', 11, 0], [1686061882, \\'\\', \\'갱상도에 조현병 살인마가 많네\\', \\'2019-04-25T08:35:20+0900\\', 1, 3], [1686061762, \\'\\', \\'조현병이고 나발이고 사형시켜\\', \\'2019-04-25T08:35:13+0900\\', 0, 0], [1686061582, \\'\\', \\'조현병 환자들 걍 싹다 없어져버렸음 좋겠다\\', \\'2019-04-25T08:34:56+0900\\', 2, 0], [1686061112, \\'\\', \\'정신분열증은  격리시키던지   해야지 매번  반복되는데두  대책을   안세우는군\\', \\'2019-04-25T08:34:28+0900\\', 2, 0], [1686061052, \\'\\', \\'보나마나 소년법의 의거 창창한 헬조선의 미래를 책임져야 할 임무가 상당하고 갱생의 의지가 1%라도 남아 있어 단기 1년 장기 2년에 쳐한다 땅땅땅\\', \\'2019-04-25T08:34:23+0900\\', 0, 0], [1686061012, \\'\\', \\'사람죽인놈이 그럼 당연히 태연하게 집에들어가지 사지 벌벌떨면서 기어다니겠냐\\', \\'2019-04-25T08:34:21+0900\\', 2, 0], [1686060802, \\'\\', \\'저러니까 사람들이 정신병자들을 싫어하는거지...한국 법이 적같은 이유가 뭐냐면...저런 놈 패면 처벌...당하면 사망...도데체 어쩌라는거야???\\', \\'2019-04-25T08:34:11+0900\\', 2, 0], [1686060752, \\'\\', \\'제 친구중에 조현병 환자 있는데요 가정상 친인척들이 없는데 친구들끼리 모여서 도와줄라고 보건부나 나라에 전화 수십통해도 한계가 있어 도와줄 수 없다네요. 저희도 친구로서의 도리를 다 했는데 지켜주지 못해 그 친구는 아예 친구들과 인연을 끊었습니다. 지금 혼자 어디서 뭘하는지.. 걱정되네요\\', \\'2019-04-25T08:34:08+0900\\', 0, 1], [1686060712, \\'\\', \\'정신병자. 음주운전   자들이 사고를 치면   따따블로   형을 내려야 한다\\', \\'2019-04-25T08:34:05+0900\\', 0, 0], [1686060532, \\'\\', \\'조헌병이고 10대면 저번처럼 사람 잘라죽이고 이번엔 찔러죽여도 괜찮다는건가...\\', \\'2019-04-25T08:33:51+0900\\', 2, 0], [1686060092, \\'\\', \\'프로파일러ㅡ 투입이 문제가 아니라... 조현병같은병은? 가족들이  합의하에 입원시키는  법을 만들어라ㅡ  본인스스로는ㅡ 절대입원 않할려고한다.\\', \\'2019-04-25T08:33:23+0900\\', 34, 1], [1686060062, \\'\\', \\'더러운 이명박근혜 쓰레기들이 태어난 경상도에서 끝없이 더러운 사건들이 일어나니 문제다.\\', \\'2019-04-25T08:33:21+0900\\', 0, 6], [1686059992, \\'\\', \\'OOO식히 개같은 국회의원이나 죽이지 힘없는 할머니를 죽이냐!!\\', \\'2019-04-25T08:33:16+0900\\', 5, 0], [1686059872, \\'\\', \\'얼굴 좀 보여라 태연하게 범죄를 저지른 놈을 왜 자꾸 인권을 지켜줘...\\', \\'2019-04-25T08:33:08+0900\\', 7, 0], [1686059862, \\'\\', \\'이참에 장애인들늘 가스실로 보내서 다 죽여야 한다\\', \\'2019-04-25T08:33:08+0900\\', 0, 2], [1686059772, \\'\\', \\'저런걸 방목해 두는 이유가 뭔가요 시설에 넣어야 하지 않나요\\', \\'2019-04-25T08:33:02+0900\\', 1, 0], [1686059322, \\'\\', \\'더이상 이런 정신병자 안태어나게라도 낙태허용해야한다 불행한 집안에서 크는것도 정신병의 원인중 하나다\\', \\'2019-04-25T08:32:36+0900\\', 6, 0], [1686059162, \\'\\', \\'격리고 나발이고 사형이 답\\', \\'2019-04-25T08:32:28+0900\\', 0, 0], [1686058932, \\'\\', \\'나보다 약자에겐  분노조절장애  강자에겐 분노조절잘해  안익득도 그 상황에 노인,아이,여자들만 골라 죽였다는데\\', \\'2019-04-25T08:32:12+0900\\', 4, 0], [1686058912, \\'\\', \\'문재인과 더불어민주당이 2017년 본인동의없이는 강제입원 못시키게 만들어버렸자나. 조현병환자들 인권보호해야한다면서. 조현병이나 정신병자에의해 살해된사람만 올해 400명이 넘음. 다음은 니들차례야. 언제어디서 이유없이 죽을지 모른다.\\', \\'2019-04-25T08:32:11+0900\\', 35, 2], [1686058582, \\'\\', \\'조현병 걸리면 이타심은 없어지고 이기심만 남습니다. 강한 남자를 건드리면 자신에게 이롭지 않기 때문에 강자에게 시비 걸지 않습니다.\\', \\'2019-04-25T08:31:45+0900\\', 16, 0], [1686058472, \\'\\', \\'조현병은 영구격리해야 되는것 아닌가.  왜 일반인들과 같이 사는가. 조현병이라서 봐주지마라. 수많은 사람들이 죽어나간다   .\\', \\'2019-04-25T08:31:36+0900\\', 3, 0], [1686058442, \\'\\', \\'심각하다.정신병자들\\', \\'2019-04-25T08:31:35+0900\\', 1, 0], [1686058052, \\'\\', \\'그나저나 조현병 = 살인자 라는 인식이 생길까봐 걱정 되는군요..우리나라는 워낙 이런거에 예민해서..\\', \\'2019-04-25T08:31:08+0900\\', 2, 3], [1686058002, \\'\\', \\'문재앙:어벤져스(미국영화) 못보게 규제하겠다ㅋㅋㅋㅋㅋㅋㅋㅋㅋㅋㅋㅋㅋㅋㅋㅋㅋㅋㅋㅋㅋㅋㅋㅋㅋㅋㅋㅋㅋㅋ 레알 미국에서 대놓고 빨갱이 취급하는 이유 ㅋㅋ\\', \\'2019-04-25T08:31:05+0900\\', 1, 2], [1686057952, \\'\\', \\'이새끼 친구도 없을꺼고 학교에서도 전나게 쳐 맞고 적응 못한 새끼일듯~ 고딩들아~~^^ 학교에서 등신같은 애들은 니들이 때려죽여 줘라!!\\', \\'2019-04-25T08:31:02+0900\\', 0, 2], [1686057242, \\'\\', \\'인권타령하며 입원치료 어렵게 만든 댓가다. 집안에 난치성 조현병이나 알콜중독 한명만 있으면 가족들 삶이 어떤지 아냐? ㅜ\\', \\'2019-04-25T08:30:10+0900\\', 57, 0], [1686057222, \\'\\', \\'다음 대통령은 사형집행시키는 대통령에 한표\\', \\'2019-04-25T08:30:09+0900\\', 26, 1], [1686057192, \\'\\', \\'저거10년뒤에나오면 또 죽이겠네..\\', \\'2019-04-25T08:30:07+0900\\', 0, 0], [1686056792, \\'\\', \\'더 무서운건 아무 소리도 안나는데..지 혼자 층간소음을 환청으로 느낀다는거..\\', \\'2019-04-25T08:29:38+0900\\', 43, 1], [1686056142, \\'\\', \\'인권위의 업적들이 슬슬 모습을 들춰내는구나\\', \\'2019-04-25T08:28:55+0900\\', 5, 0], [1686055902, \\'\\', \\'이렇게 심각한 정신병을 앓고 있었다면 가족의 적극적인 치료가 선행되야 했다. 그대로 방치한 부모에게도 강력한 처벌이 뒤따라야 한다.\\', \\'2019-04-25T08:28:33+0900\\', 32, 3], [1686055552, \\'\\', \\'사형좀 시키자 조현병 진단받은것들 싹다\\', \\'2019-04-25T08:28:11+0900\\', 0, 1], [1686055452, \\'\\', \\'조현병 은 사람 마구 쑤셔 죽여도 이 정부는 도대체 머하는거냐? 정신병원에 입원시켜라 약 맥여서 고쳐라\\', \\'2019-04-25T08:28:06+0900\\', 0, 0], [1686055382, \\'\\', \\'엉터리 조선법! 엉터리 조선판새! &gt;&gt;&gt; “zOt 잡고 반성하므로 징역 3년에 집행유예 5년을 선고 하겠습니다.”\\', \\'2019-04-25T08:28:02+0900\\', 0, 0], [1686055272, \\'\\', \\'제발 격리시켜라  부모는 뭐하냐\\', \\'2019-04-25T08:27:55+0900\\', 0, 0], [1686054972, \\'\\', \\'조현병환자들 증상있는데 약안먹으면 감옥에 감옥에 가두어서라도 치료중단하는일  없도록 하자\\', \\'2019-04-25T08:27:40+0900\\', 1, 0], [1686054102, \\'\\', \\'조현병이고 지랄이고 저런 쓰레기들은 다 사형시켜라\\', \\'2019-04-25T08:26:38+0900\\', 9, 0], [1686054042, \\'\\', \\'저런병 있는 애들은 따로 격리시켜야돼....정부세금으로 지역마다 시설 만들어서 관리하던지~교도소처럼 생산성 일시키면서 소득활동허게 만들고 거기서 나오는 이윤으로 운영해라~~절대 사회에 섞여있으면 안되는 존재다....물과 기름은 섞일수 없는거야~\\', \\'2019-04-25T08:26:33+0900\\', 0, 2], [1686053862, \\'\\', \\'또 감형되겠구만..사람죽인 증거가 확실할때는 사형이 필요하다.\\', \\'2019-04-25T08:26:22+0900\\', 0, 0], [1686053572, \\'\\', \\'정신병자는 교도소 가면  괜찮음?\\', \\'2019-04-25T08:25:56+0900\\', 0, 0], [1686053552, \\'\\', \\'지보다 약한사람한테만 조현병이고 ㅈㄹ이고 잘도오네\\', \\'2019-04-25T08:25:56+0900\\', 1, 0], [1686052922, \\'\\', \\'뭔개풀뜯어먹는소리  붙잡아서 가두고 치료시켜야죠!!\\', \\'2019-04-25T08:25:11+0900\\', 0, 0], [1686052752, \\'\\', \\'정신병자들 인권 챙기다가 멀쩡한 사람들 목숨이 사라지는중\\', \\'2019-04-25T08:24:58+0900\\', 26, 2], [1686052492, \\'\\', \\'조현병도 신상공개하고  주민들  보호해야 하는거 아닐까요?\\', \\'2019-04-25T08:24:38+0900\\', 21, 1], [1686052082, \\'\\', \\'정신이상자들 범죄자들은 무기징역때려라... 살가치조차없는 인간들이다..이런인간들만 살아나고 무고한 시민들이 억울하게 하나둘 죽어가고있다..  수십년후엔 ㄸㄹ이좀비들만 남겠지.....\\', \\'2019-04-25T08:24:06+0900\\', 0, 0], [1686051882, \\'\\', \\'미친 X끼\\', \\'2019-04-25T08:23:52+0900\\', 0, 0], [1686051812, \\'\\', \\'사람      새      끼     가      아니라   완전    개       새         끼네 뒈   져  라\\', \\'2019-04-25T08:23:49+0900\\', 0, 0], [1686051652, \\'\\', \\'인간다운사람에게 인권을 보장해야 할건데\\', \\'2019-04-25T08:23:35+0900\\', 1, 0], [1686051212, \\'\\', \\'병은 병 죄는 죄. 감형하지 말고 죄에 맞게 구형해라\\', \\'2019-04-25T08:22:46+0900\\', 18, 0], [1686050612, \\'\\', \\'정신분열증을 조현병이란 이뿌장한 이름으로 부르지마라.\\', \\'2019-04-25T08:22:06+0900\\', 23, 1], [1686050022, \\'\\', \\'조현병걸린애에의해 꼭 판사ㆍ국개의원등 솜방망이 처벌내리고 만든애들이 똑같이 당해서 니들도 정상참작되는걸 당하길 간절히 기원한다\\', \\'2019-04-25T08:21:14+0900\\', 7, 0], [1686049892, \\'\\', \\'진짜 격리시켜라\\', \\'2019-04-25T08:21:04+0900\\', 0, 0], [1686049782, \\'\\', \\'정부에서는 강제 약투여를 해야한다 조현병은 약만 먹으면 정상생활 가능한 도파민 과다분비에 기한 생각보다 단순한 병이다\\', \\'2019-04-25T08:20:53+0900\\', 1, 0], [1686049762, \\'\\', \\'경상도인간들 멀리하라고했던이유가\\', \\'2019-04-25T08:20:52+0900\\', 2, 3], [1686049122, \\'\\', \\'너는 나이도 어린데 니 숨이 멎는 날까지 감옥에서 썩길 바란다. 교정시설이 말이 좋아 교정이지 너같은건 썩으러 들어가는거야\\', \\'2019-04-25T08:19:52+0900\\', 3, 0], [1686049062, \\'\\', \\'조현병이  무슨 살인 면허냐\\', \\'2019-04-25T08:19:48+0900\\', 65, 0], [1686048652, \\'\\', \\'제발 사회와 격리해라\\', \\'2019-04-25T08:19:27+0900\\', 203, 9], [1686048582, \\'\\', \\'저런 또라이는 제발 강제 집행해서 평생 병원 넣어둘거 아님 죽여라... 제발\\', \\'2019-04-25T08:19:23+0900\\', 263, 2], [1686047662, \\'\\', \\'한남이 또.\\', \\'2019-04-25T08:18:27+0900\\', 1, 3], [1686038862, \\'\\', \\'아 좀 진짜 제대로 관리 안할거면 그냥 이런 환자들 강제입원이라고 시켜라... 진짜 이거도 아니고 저거도 아니고\\', \\'2019-04-25T08:08:04+0900\\', 11, 0], [1686013802, \\'\\', \\'조현병이 걸리면 사리분별력이 높아진다. 범행 전 치밀하게 계산하며 절대 자기보다 강자에게 덤벼드는 바보짓은 안한다.\\', \\'2019-04-25T07:39:32+0900\\', 665, 19], [1686005452, \\'\\', \\'이런놈들이 얼마나 될까요? 정부는 파악이나 하고 있을까요?\\', \\'2019-04-25T07:30:33+0900\\', 185, 15], [1685995132, \\'\\', \\'조현병환자는 국가에서 수술비 부담하여 전,후,측두엽 절제 수술  시행해서 치료해줘야 한다\\', \\'2019-04-25T07:18:56+0900\\', 19, 10], [1685985282, \\'\\', \\'조현병이면 감경 대신 더 가둬 놓아야 하는게 상식 아닌가! 여긴 상식이 없는 나라이다.\\', \\'2019-04-25T07:07:23+0900\\', 1536, 12]]',\n",
       " 293)"
      ]
     },
     "execution_count": 18,
     "metadata": {},
     "output_type": "execute_result"
    }
   ],
   "source": [
    "data = l[0]\n",
    "data['title'], data['date'], data['content'], data['company'], data['url'], data['is_murder'], str(data['comment']), data['comment_num']"
   ]
  },
  {
   "cell_type": "code",
   "execution_count": 21,
   "metadata": {},
   "outputs": [
    {
     "ename": "ValueError",
     "evalue": "dict contains fields not in fieldnames: 'link'",
     "output_type": "error",
     "traceback": [
      "\u001b[1;31m---------------------------------------------------------------------------\u001b[0m",
      "\u001b[1;31mValueError\u001b[0m                                Traceback (most recent call last)",
      "\u001b[1;32m<ipython-input-21-6d0d152160fe>\u001b[0m in \u001b[0;36m<module>\u001b[1;34m\u001b[0m\n\u001b[0;32m      6\u001b[0m     \u001b[0mwriter\u001b[0m\u001b[1;33m.\u001b[0m\u001b[0mwriteheader\u001b[0m\u001b[1;33m(\u001b[0m\u001b[1;33m)\u001b[0m\u001b[1;33m\u001b[0m\u001b[1;33m\u001b[0m\u001b[0m\n\u001b[0;32m      7\u001b[0m     \u001b[1;32mfor\u001b[0m \u001b[0mi\u001b[0m \u001b[1;32min\u001b[0m \u001b[0ml\u001b[0m\u001b[1;33m:\u001b[0m\u001b[1;33m\u001b[0m\u001b[1;33m\u001b[0m\u001b[0m\n\u001b[1;32m----> 8\u001b[1;33m         \u001b[0mwriter\u001b[0m\u001b[1;33m.\u001b[0m\u001b[0mwriterow\u001b[0m\u001b[1;33m(\u001b[0m\u001b[0mi\u001b[0m\u001b[1;33m)\u001b[0m\u001b[1;33m\u001b[0m\u001b[1;33m\u001b[0m\u001b[0m\n\u001b[0m",
      "\u001b[1;32mC:\\ProgramData\\Anaconda3\\lib\\csv.py\u001b[0m in \u001b[0;36mwriterow\u001b[1;34m(self, rowdict)\u001b[0m\n\u001b[0;32m    153\u001b[0m \u001b[1;33m\u001b[0m\u001b[0m\n\u001b[0;32m    154\u001b[0m     \u001b[1;32mdef\u001b[0m \u001b[0mwriterow\u001b[0m\u001b[1;33m(\u001b[0m\u001b[0mself\u001b[0m\u001b[1;33m,\u001b[0m \u001b[0mrowdict\u001b[0m\u001b[1;33m)\u001b[0m\u001b[1;33m:\u001b[0m\u001b[1;33m\u001b[0m\u001b[1;33m\u001b[0m\u001b[0m\n\u001b[1;32m--> 155\u001b[1;33m         \u001b[1;32mreturn\u001b[0m \u001b[0mself\u001b[0m\u001b[1;33m.\u001b[0m\u001b[0mwriter\u001b[0m\u001b[1;33m.\u001b[0m\u001b[0mwriterow\u001b[0m\u001b[1;33m(\u001b[0m\u001b[0mself\u001b[0m\u001b[1;33m.\u001b[0m\u001b[0m_dict_to_list\u001b[0m\u001b[1;33m(\u001b[0m\u001b[0mrowdict\u001b[0m\u001b[1;33m)\u001b[0m\u001b[1;33m)\u001b[0m\u001b[1;33m\u001b[0m\u001b[1;33m\u001b[0m\u001b[0m\n\u001b[0m\u001b[0;32m    156\u001b[0m \u001b[1;33m\u001b[0m\u001b[0m\n\u001b[0;32m    157\u001b[0m     \u001b[1;32mdef\u001b[0m \u001b[0mwriterows\u001b[0m\u001b[1;33m(\u001b[0m\u001b[0mself\u001b[0m\u001b[1;33m,\u001b[0m \u001b[0mrowdicts\u001b[0m\u001b[1;33m)\u001b[0m\u001b[1;33m:\u001b[0m\u001b[1;33m\u001b[0m\u001b[1;33m\u001b[0m\u001b[0m\n",
      "\u001b[1;32mC:\\ProgramData\\Anaconda3\\lib\\csv.py\u001b[0m in \u001b[0;36m_dict_to_list\u001b[1;34m(self, rowdict)\u001b[0m\n\u001b[0;32m    149\u001b[0m             \u001b[1;32mif\u001b[0m \u001b[0mwrong_fields\u001b[0m\u001b[1;33m:\u001b[0m\u001b[1;33m\u001b[0m\u001b[1;33m\u001b[0m\u001b[0m\n\u001b[0;32m    150\u001b[0m                 raise ValueError(\"dict contains fields not in fieldnames: \"\n\u001b[1;32m--> 151\u001b[1;33m                                  + \", \".join([repr(x) for x in wrong_fields]))\n\u001b[0m\u001b[0;32m    152\u001b[0m         \u001b[1;32mreturn\u001b[0m \u001b[1;33m(\u001b[0m\u001b[0mrowdict\u001b[0m\u001b[1;33m.\u001b[0m\u001b[0mget\u001b[0m\u001b[1;33m(\u001b[0m\u001b[0mkey\u001b[0m\u001b[1;33m,\u001b[0m \u001b[0mself\u001b[0m\u001b[1;33m.\u001b[0m\u001b[0mrestval\u001b[0m\u001b[1;33m)\u001b[0m \u001b[1;32mfor\u001b[0m \u001b[0mkey\u001b[0m \u001b[1;32min\u001b[0m \u001b[0mself\u001b[0m\u001b[1;33m.\u001b[0m\u001b[0mfieldnames\u001b[0m\u001b[1;33m)\u001b[0m\u001b[1;33m\u001b[0m\u001b[1;33m\u001b[0m\u001b[0m\n\u001b[0;32m    153\u001b[0m \u001b[1;33m\u001b[0m\u001b[0m\n",
      "\u001b[1;31mValueError\u001b[0m: dict contains fields not in fieldnames: 'link'"
     ]
    }
   ],
   "source": [
    "import csv\n",
    "\n",
    "with open('조현병.csv', 'w', encoding='utf-8', newline='') as f:\n",
    "    fieldnames = ['title', 'date', 'content', 'company', 'url', 'is_murder', 'comment', 'comment_num']\n",
    "    writer = csv.DictWriter(f, fieldnames=fieldnames)\n",
    "    writer.writeheader()\n",
    "    for i in l:\n",
    "        writer.writerow(i)"
   ]
  },
  {
   "cell_type": "code",
   "execution_count": 31,
   "metadata": {},
   "outputs": [
    {
     "ename": "KeyError",
     "evalue": "'url'",
     "output_type": "error",
     "traceback": [
      "\u001b[1;31m---------------------------------------------------------------------------\u001b[0m",
      "\u001b[1;31mKeyError\u001b[0m                                  Traceback (most recent call last)",
      "\u001b[1;32m<ipython-input-31-f145b538fbe5>\u001b[0m in \u001b[0;36m<module>\u001b[1;34m\u001b[0m\n\u001b[0;32m      2\u001b[0m \u001b[1;33m\u001b[0m\u001b[0m\n\u001b[0;32m      3\u001b[0m \u001b[1;32mfor\u001b[0m \u001b[0mi\u001b[0m\u001b[1;33m,\u001b[0m \u001b[0mdata\u001b[0m \u001b[1;32min\u001b[0m \u001b[0menumerate\u001b[0m\u001b[1;33m(\u001b[0m\u001b[0ml\u001b[0m\u001b[1;33m)\u001b[0m\u001b[1;33m:\u001b[0m\u001b[1;33m\u001b[0m\u001b[1;33m\u001b[0m\u001b[0m\n\u001b[1;32m----> 4\u001b[1;33m     \u001b[0mtemp\u001b[0m\u001b[1;33m.\u001b[0m\u001b[0mloc\u001b[0m\u001b[1;33m[\u001b[0m\u001b[0mi\u001b[0m\u001b[1;33m]\u001b[0m \u001b[1;33m=\u001b[0m \u001b[1;33m[\u001b[0m\u001b[0mdata\u001b[0m\u001b[1;33m[\u001b[0m\u001b[1;34m'title'\u001b[0m\u001b[1;33m]\u001b[0m\u001b[1;33m,\u001b[0m \u001b[0mdata\u001b[0m\u001b[1;33m[\u001b[0m\u001b[1;34m'date'\u001b[0m\u001b[1;33m]\u001b[0m\u001b[1;33m,\u001b[0m \u001b[0mdata\u001b[0m\u001b[1;33m[\u001b[0m\u001b[1;34m'content'\u001b[0m\u001b[1;33m]\u001b[0m\u001b[1;33m,\u001b[0m \u001b[0mdata\u001b[0m\u001b[1;33m[\u001b[0m\u001b[1;34m'company'\u001b[0m\u001b[1;33m]\u001b[0m\u001b[1;33m,\u001b[0m \u001b[0mdata\u001b[0m\u001b[1;33m[\u001b[0m\u001b[1;34m'url'\u001b[0m\u001b[1;33m]\u001b[0m\u001b[1;33m,\u001b[0m \u001b[0mdata\u001b[0m\u001b[1;33m[\u001b[0m\u001b[1;34m'is_murder'\u001b[0m\u001b[1;33m]\u001b[0m\u001b[1;33m,\u001b[0m \u001b[0mstr\u001b[0m\u001b[1;33m(\u001b[0m\u001b[0mdata\u001b[0m\u001b[1;33m[\u001b[0m\u001b[1;34m'comment'\u001b[0m\u001b[1;33m]\u001b[0m\u001b[1;33m)\u001b[0m\u001b[1;33m,\u001b[0m \u001b[0mdata\u001b[0m\u001b[1;33m[\u001b[0m\u001b[1;34m'comment_num'\u001b[0m\u001b[1;33m]\u001b[0m\u001b[1;33m]\u001b[0m\u001b[1;33m\u001b[0m\u001b[1;33m\u001b[0m\u001b[0m\n\u001b[0m",
      "\u001b[1;31mKeyError\u001b[0m: 'url'"
     ]
    }
   ],
   "source": [
    "temp = pd.DataFrame(columns=l[0].keys())\n",
    "\n",
    "for i, data in enumerate(l):\n",
    "    temp.loc[i] = [data['title'], data['date'], data['content'], data['company'], data['url'], data['is_murder'], str(data['comment']), data['comment_num']]"
   ]
  },
  {
   "cell_type": "code",
   "execution_count": 23,
   "metadata": {},
   "outputs": [
    {
     "data": {
      "text/html": [
       "<div>\n",
       "<style scoped>\n",
       "    .dataframe tbody tr th:only-of-type {\n",
       "        vertical-align: middle;\n",
       "    }\n",
       "\n",
       "    .dataframe tbody tr th {\n",
       "        vertical-align: top;\n",
       "    }\n",
       "\n",
       "    .dataframe thead th {\n",
       "        text-align: right;\n",
       "    }\n",
       "</style>\n",
       "<table border=\"1\" class=\"dataframe\">\n",
       "  <thead>\n",
       "    <tr style=\"text-align: right;\">\n",
       "      <th></th>\n",
       "      <th>title</th>\n",
       "      <th>date</th>\n",
       "      <th>content</th>\n",
       "      <th>company</th>\n",
       "      <th>url</th>\n",
       "      <th>is_murder</th>\n",
       "      <th>comment</th>\n",
       "      <th>comment_num</th>\n",
       "    </tr>\n",
       "  </thead>\n",
       "  <tbody>\n",
       "    <tr>\n",
       "      <th>0</th>\n",
       "      <td>(조현병 10대 흉기 살해 뒤 태연히 집으로…, 2019.04.25. 오전 6:45...</td>\n",
       "      <td>(조현병 10대 흉기 살해 뒤 태연히 집으로…, 2019.04.25. 오전 6:45...</td>\n",
       "      <td>(조현병 10대 흉기 살해 뒤 태연히 집으로…, 2019.04.25. 오전 6:45...</td>\n",
       "      <td>(조현병 10대 흉기 살해 뒤 태연히 집으로…, 2019.04.25. 오전 6:45...</td>\n",
       "      <td>(조현병 10대 흉기 살해 뒤 태연히 집으로…, 2019.04.25. 오전 6:45...</td>\n",
       "      <td>(조현병 10대 흉기 살해 뒤 태연히 집으로…, 2019.04.25. 오전 6:45...</td>\n",
       "      <td>(조현병 10대 흉기 살해 뒤 태연히 집으로…, 2019.04.25. 오전 6:45...</td>\n",
       "      <td>(조현병 10대 흉기 살해 뒤 태연히 집으로…, 2019.04.25. 오전 6:45...</td>\n",
       "    </tr>\n",
       "    <tr>\n",
       "      <th>1</th>\n",
       "      <td>(\"할머니가 머릿속에 들어와\"…조현병 10대 '흉기 살해', 2019.04.24. ...</td>\n",
       "      <td>(\"할머니가 머릿속에 들어와\"…조현병 10대 '흉기 살해', 2019.04.24. ...</td>\n",
       "      <td>(\"할머니가 머릿속에 들어와\"…조현병 10대 '흉기 살해', 2019.04.24. ...</td>\n",
       "      <td>(\"할머니가 머릿속에 들어와\"…조현병 10대 '흉기 살해', 2019.04.24. ...</td>\n",
       "      <td>(\"할머니가 머릿속에 들어와\"…조현병 10대 '흉기 살해', 2019.04.24. ...</td>\n",
       "      <td>(\"할머니가 머릿속에 들어와\"…조현병 10대 '흉기 살해', 2019.04.24. ...</td>\n",
       "      <td>(\"할머니가 머릿속에 들어와\"…조현병 10대 '흉기 살해', 2019.04.24. ...</td>\n",
       "      <td>(\"할머니가 머릿속에 들어와\"…조현병 10대 '흉기 살해', 2019.04.24. ...</td>\n",
       "    </tr>\n",
       "    <tr>\n",
       "      <th>2</th>\n",
       "      <td>([김경래의 최강시사] 조현병환우회 “치료거부 환자에 공권력 행사해야”, 2019....</td>\n",
       "      <td>([김경래의 최강시사] 조현병환우회 “치료거부 환자에 공권력 행사해야”, 2019....</td>\n",
       "      <td>([김경래의 최강시사] 조현병환우회 “치료거부 환자에 공권력 행사해야”, 2019....</td>\n",
       "      <td>([김경래의 최강시사] 조현병환우회 “치료거부 환자에 공권력 행사해야”, 2019....</td>\n",
       "      <td>([김경래의 최강시사] 조현병환우회 “치료거부 환자에 공권력 행사해야”, 2019....</td>\n",
       "      <td>([김경래의 최강시사] 조현병환우회 “치료거부 환자에 공권력 행사해야”, 2019....</td>\n",
       "      <td>([김경래의 최강시사] 조현병환우회 “치료거부 환자에 공권력 행사해야”, 2019....</td>\n",
       "      <td>([김경래의 최강시사] 조현병환우회 “치료거부 환자에 공권력 행사해야”, 2019....</td>\n",
       "    </tr>\n",
       "    <tr>\n",
       "      <th>3</th>\n",
       "      <td>(“안인득 강제 입원 시도했으나 좌절”…이유는?, 2019.04.23. 오전 8:3...</td>\n",
       "      <td>(“안인득 강제 입원 시도했으나 좌절”…이유는?, 2019.04.23. 오전 8:3...</td>\n",
       "      <td>(“안인득 강제 입원 시도했으나 좌절”…이유는?, 2019.04.23. 오전 8:3...</td>\n",
       "      <td>(“안인득 강제 입원 시도했으나 좌절”…이유는?, 2019.04.23. 오전 8:3...</td>\n",
       "      <td>(“안인득 강제 입원 시도했으나 좌절”…이유는?, 2019.04.23. 오전 8:3...</td>\n",
       "      <td>(“안인득 강제 입원 시도했으나 좌절”…이유는?, 2019.04.23. 오전 8:3...</td>\n",
       "      <td>(“안인득 강제 입원 시도했으나 좌절”…이유는?, 2019.04.23. 오전 8:3...</td>\n",
       "      <td>(“안인득 강제 입원 시도했으나 좌절”…이유는?, 2019.04.23. 오전 8:3...</td>\n",
       "    </tr>\n",
       "    <tr>\n",
       "      <th>4</th>\n",
       "      <td>(안인득, 조현병 치료 중단 후 33개월 '방치', 2019.04.22. 오전 9:...</td>\n",
       "      <td>(안인득, 조현병 치료 중단 후 33개월 '방치', 2019.04.22. 오전 9:...</td>\n",
       "      <td>(안인득, 조현병 치료 중단 후 33개월 '방치', 2019.04.22. 오전 9:...</td>\n",
       "      <td>(안인득, 조현병 치료 중단 후 33개월 '방치', 2019.04.22. 오전 9:...</td>\n",
       "      <td>(안인득, 조현병 치료 중단 후 33개월 '방치', 2019.04.22. 오전 9:...</td>\n",
       "      <td>(안인득, 조현병 치료 중단 후 33개월 '방치', 2019.04.22. 오전 9:...</td>\n",
       "      <td>(안인득, 조현병 치료 중단 후 33개월 '방치', 2019.04.22. 오전 9:...</td>\n",
       "      <td>(안인득, 조현병 치료 중단 후 33개월 '방치', 2019.04.22. 오전 9:...</td>\n",
       "    </tr>\n",
       "  </tbody>\n",
       "</table>\n",
       "</div>"
      ],
      "text/plain": [
       "                                               title  \\\n",
       "0  (조현병 10대 흉기 살해 뒤 태연히 집으로…, 2019.04.25. 오전 6:45...   \n",
       "1  (\"할머니가 머릿속에 들어와\"…조현병 10대 '흉기 살해', 2019.04.24. ...   \n",
       "2  ([김경래의 최강시사] 조현병환우회 “치료거부 환자에 공권력 행사해야”, 2019....   \n",
       "3  (“안인득 강제 입원 시도했으나 좌절”…이유는?, 2019.04.23. 오전 8:3...   \n",
       "4  (안인득, 조현병 치료 중단 후 33개월 '방치', 2019.04.22. 오전 9:...   \n",
       "\n",
       "                                                date  \\\n",
       "0  (조현병 10대 흉기 살해 뒤 태연히 집으로…, 2019.04.25. 오전 6:45...   \n",
       "1  (\"할머니가 머릿속에 들어와\"…조현병 10대 '흉기 살해', 2019.04.24. ...   \n",
       "2  ([김경래의 최강시사] 조현병환우회 “치료거부 환자에 공권력 행사해야”, 2019....   \n",
       "3  (“안인득 강제 입원 시도했으나 좌절”…이유는?, 2019.04.23. 오전 8:3...   \n",
       "4  (안인득, 조현병 치료 중단 후 33개월 '방치', 2019.04.22. 오전 9:...   \n",
       "\n",
       "                                             content  \\\n",
       "0  (조현병 10대 흉기 살해 뒤 태연히 집으로…, 2019.04.25. 오전 6:45...   \n",
       "1  (\"할머니가 머릿속에 들어와\"…조현병 10대 '흉기 살해', 2019.04.24. ...   \n",
       "2  ([김경래의 최강시사] 조현병환우회 “치료거부 환자에 공권력 행사해야”, 2019....   \n",
       "3  (“안인득 강제 입원 시도했으나 좌절”…이유는?, 2019.04.23. 오전 8:3...   \n",
       "4  (안인득, 조현병 치료 중단 후 33개월 '방치', 2019.04.22. 오전 9:...   \n",
       "\n",
       "                                             company  \\\n",
       "0  (조현병 10대 흉기 살해 뒤 태연히 집으로…, 2019.04.25. 오전 6:45...   \n",
       "1  (\"할머니가 머릿속에 들어와\"…조현병 10대 '흉기 살해', 2019.04.24. ...   \n",
       "2  ([김경래의 최강시사] 조현병환우회 “치료거부 환자에 공권력 행사해야”, 2019....   \n",
       "3  (“안인득 강제 입원 시도했으나 좌절”…이유는?, 2019.04.23. 오전 8:3...   \n",
       "4  (안인득, 조현병 치료 중단 후 33개월 '방치', 2019.04.22. 오전 9:...   \n",
       "\n",
       "                                                 url  \\\n",
       "0  (조현병 10대 흉기 살해 뒤 태연히 집으로…, 2019.04.25. 오전 6:45...   \n",
       "1  (\"할머니가 머릿속에 들어와\"…조현병 10대 '흉기 살해', 2019.04.24. ...   \n",
       "2  ([김경래의 최강시사] 조현병환우회 “치료거부 환자에 공권력 행사해야”, 2019....   \n",
       "3  (“안인득 강제 입원 시도했으나 좌절”…이유는?, 2019.04.23. 오전 8:3...   \n",
       "4  (안인득, 조현병 치료 중단 후 33개월 '방치', 2019.04.22. 오전 9:...   \n",
       "\n",
       "                                           is_murder  \\\n",
       "0  (조현병 10대 흉기 살해 뒤 태연히 집으로…, 2019.04.25. 오전 6:45...   \n",
       "1  (\"할머니가 머릿속에 들어와\"…조현병 10대 '흉기 살해', 2019.04.24. ...   \n",
       "2  ([김경래의 최강시사] 조현병환우회 “치료거부 환자에 공권력 행사해야”, 2019....   \n",
       "3  (“안인득 강제 입원 시도했으나 좌절”…이유는?, 2019.04.23. 오전 8:3...   \n",
       "4  (안인득, 조현병 치료 중단 후 33개월 '방치', 2019.04.22. 오전 9:...   \n",
       "\n",
       "                                             comment  \\\n",
       "0  (조현병 10대 흉기 살해 뒤 태연히 집으로…, 2019.04.25. 오전 6:45...   \n",
       "1  (\"할머니가 머릿속에 들어와\"…조현병 10대 '흉기 살해', 2019.04.24. ...   \n",
       "2  ([김경래의 최강시사] 조현병환우회 “치료거부 환자에 공권력 행사해야”, 2019....   \n",
       "3  (“안인득 강제 입원 시도했으나 좌절”…이유는?, 2019.04.23. 오전 8:3...   \n",
       "4  (안인득, 조현병 치료 중단 후 33개월 '방치', 2019.04.22. 오전 9:...   \n",
       "\n",
       "                                         comment_num  \n",
       "0  (조현병 10대 흉기 살해 뒤 태연히 집으로…, 2019.04.25. 오전 6:45...  \n",
       "1  (\"할머니가 머릿속에 들어와\"…조현병 10대 '흉기 살해', 2019.04.24. ...  \n",
       "2  ([김경래의 최강시사] 조현병환우회 “치료거부 환자에 공권력 행사해야”, 2019....  \n",
       "3  (“안인득 강제 입원 시도했으나 좌절”…이유는?, 2019.04.23. 오전 8:3...  \n",
       "4  (안인득, 조현병 치료 중단 후 33개월 '방치', 2019.04.22. 오전 9:...  "
      ]
     },
     "execution_count": 23,
     "metadata": {},
     "output_type": "execute_result"
    }
   ],
   "source": [
    "temp.head()"
   ]
  },
  {
   "cell_type": "code",
   "execution_count": 17,
   "metadata": {},
   "outputs": [
    {
     "name": "stdout",
     "output_type": "stream",
     "text": [
      "{'title': '', 'date': '', 'content': '', 'company': '채널A', 'url': 'http://news.ichannela.com/society/3/03/20131023/58404245/1', 'is_murder': '0', 'comment': [], 'comment_num': 0}\n",
      "{'title': '', 'date': '', 'content': '', 'company': 'KBS', 'url': 'http://news.kbs.co.kr/news/naverNewsView.do?SEARCH_NEWS_CODE=2667344', 'is_murder': '0', 'comment': [], 'comment_num': 0}\n",
      "{'title': '', 'date': '', 'content': '', 'company': '채널A', 'url': 'http://news.ichannela.com/society/3/03/20130507/54955846/1', 'is_murder': '0', 'comment': [], 'comment_num': 0}\n",
      "{'title': '', 'date': '', 'content': '', 'company': 'KBS', 'url': 'http://news.kbs.co.kr/news/NewsView.do?SEARCH_NEWS_CODE=2643554', 'is_murder': '0', 'comment': [], 'comment_num': 0}\n",
      "{'title': '', 'date': '', 'content': '', 'company': '채널A', 'url': 'http://news.ichannela.com/society/3/03/20130119/52434848/1', 'is_murder': '0', 'comment': [], 'comment_num': 0}\n",
      "{'title': '', 'date': '', 'content': '', 'company': 'KBS', 'url': 'http://news.kbs.co.kr/society/2012/11/23/2572115.html', 'is_murder': '0', 'comment': [], 'comment_num': 0}\n",
      "{'title': '', 'date': '', 'content': '', 'company': '채널A', 'url': 'http://news.ichannela.com/society/3/03/20131023/58397245/1', 'is_murder': '0', 'comment': [], 'comment_num': 0}\n",
      "{'title': '', 'date': '', 'content': '', 'company': 'KBS', 'url': 'http://news.kbs.co.kr/news/NewsView.do?SEARCH_NEWS_CODE=2732780&ref=S', 'is_murder': '0', 'comment': [], 'comment_num': 0}\n",
      "{'title': '', 'date': '', 'content': '', 'company': '채널A', 'url': 'http://news.ichannela.com/society/3/03/20121122/51028876/2', 'is_murder': '0', 'comment': [], 'comment_num': 0}\n",
      "{'title': '', 'date': '', 'content': '', 'company': 'KBS', 'url': 'http://news.kbs.co.kr/society/2012/10/02/2544650.html', 'is_murder': '0', 'comment': [], 'comment_num': 0}\n",
      "{'title': '', 'date': '', 'content': '', 'company': 'KBS', 'url': 'http://news.kbs.co.kr/society/2012/01/12/2418525.html', 'is_murder': '0', 'comment': [], 'comment_num': 0}\n",
      "{'title': '', 'date': '', 'content': '', 'company': 'KBS', 'url': 'http://news.kbs.co.kr/society/2012/01/12/2418440.html', 'is_murder': '0', 'comment': [], 'comment_num': 0}\n",
      "{'title': '', 'date': '', 'content': '', 'company': 'KBS', 'url': 'http://news.kbs.co.kr/society/2012/09/07/2531881.html', 'is_murder': '0', 'comment': [], 'comment_num': 0}\n",
      "{'title': '', 'date': '', 'content': '', 'company': 'KBS', 'url': 'http://news.kbs.co.kr/world/2011/11/30/2396942.html', 'is_murder': '1', 'comment': [], 'comment_num': 0}\n",
      "{'title': '', 'date': '', 'content': '', 'company': 'KBS', 'url': 'http://news.kbs.co.kr/news/NewsView.do?SEARCH_NEWS_CODE=2736151&ref=S', 'is_murder': '0', 'comment': [], 'comment_num': 0}\n",
      "{'title': '', 'date': '', 'content': '', 'company': 'KBS', 'url': 'http://news.kbs.co.kr/society/2011/12/28/2410998.html', 'is_murder': '0', 'comment': [], 'comment_num': 0}\n",
      "{'title': '', 'date': '', 'content': '', 'company': '연합뉴스', 'link': 'http://sports.news.naver.com/general/news/read.nhn?oid=001&aid=0005206525', 'is_murder': '0', 'comment': [], 'comment_num': 0}\n",
      "0\n",
      "3292\n"
     ]
    }
   ],
   "source": [
    "count = 0\n",
    "list_ = []\n",
    "for data in l:\n",
    "    if data['content'] == '':\n",
    "        print(data)\n",
    "        l.remove(data)\n",
    "        \n",
    "print(count)\n",
    "print(len(l))"
   ]
  },
  {
   "cell_type": "code",
   "execution_count": 18,
   "metadata": {},
   "outputs": [
    {
     "data": {
      "text/plain": [
       "3286"
      ]
     },
     "execution_count": 18,
     "metadata": {},
     "output_type": "execute_result"
    }
   ],
   "source": [
    "3309-23"
   ]
  },
  {
   "cell_type": "code",
   "execution_count": 36,
   "metadata": {},
   "outputs": [
    {
     "name": "stdout",
     "output_type": "stream",
     "text": [
      "0\n"
     ]
    }
   ],
   "source": [
    "count = 0\n",
    "list_ = []\n",
    "for data in l:\n",
    "    if data['content'] == '':\n",
    "        print(data)\n",
    "        count+=1\n",
    "        \n",
    "        l.remove(data)\n",
    "print(count)"
   ]
  },
  {
   "cell_type": "code",
   "execution_count": 35,
   "metadata": {},
   "outputs": [
    {
     "data": {
      "text/plain": [
       "3286"
      ]
     },
     "execution_count": 35,
     "metadata": {},
     "output_type": "execute_result"
    }
   ],
   "source": [
    "len(l)"
   ]
  },
  {
   "cell_type": "code",
   "execution_count": 37,
   "metadata": {},
   "outputs": [],
   "source": [
    "import json\n",
    "\n",
    "with open('네이버뉴스_조현병_final.txt', 'w') as outfile:\n",
    "    json.dump(l, outfile, default=str)"
   ]
  },
  {
   "cell_type": "code",
   "execution_count": 38,
   "metadata": {},
   "outputs": [
    {
     "name": "stdout",
     "output_type": "stream",
     "text": [
      "3286\n"
     ]
    }
   ],
   "source": [
    "import json\n",
    "\n",
    "with open('네이버뉴스_조현병_final.txt', 'r') as outfile:\n",
    "    temp = json.load(outfile)\n",
    "    print(len(temp))"
   ]
  },
  {
   "cell_type": "code",
   "execution_count": null,
   "metadata": {},
   "outputs": [],
   "source": [
    "notnull_df = df_content.loc[df_content['title'].isnull() == False].reset_index(drop=True)\n",
    "notnull_df.head()"
   ]
  },
  {
   "cell_type": "code",
   "execution_count": null,
   "metadata": {},
   "outputs": [],
   "source": [
    "comment_len = []\n",
    "comment_cont = []\n",
    "for i in range(len(notnull_df)):\n",
    "    if notnull_df['url'].loc[i] != '':\n",
    "        comment_list.append(len(get_comments(notnull_df['url'].loc[i])))\n",
    "        comment_cont.append(get_comments(notnull_df['url'].loc[i]))\n",
    "    else:\n",
    "        comment_len.append('')\n",
    "        comment_cont.append('')"
   ]
  },
  {
   "cell_type": "code",
   "execution_count": null,
   "metadata": {},
   "outputs": [],
   "source": [
    "com_df = pd.DataFrame(columns=['title','date','content','company','url', 'comment_num', 'comment_cont'])\n",
    "com_df = notnull_df\n",
    "com_df['comment_num'] = comment_len\n",
    "com_df['comment_cont'] = comment_cont\n",
    "com_df.head()"
   ]
  },
  {
   "cell_type": "code",
   "execution_count": null,
   "metadata": {},
   "outputs": [],
   "source": []
  },
  {
   "cell_type": "code",
   "execution_count": null,
   "metadata": {},
   "outputs": [],
   "source": [
    "list = []\n",
    "for i in com_df:\n",
    "    dict_ = {'title':title, 'date':date, 'company':company, 'url':url, 'comment_num':comment, 'comment_cont':comment_cont}\n",
    "    list.append(dict_)\n",
    "    \n",
    "json.dumps()"
   ]
  },
  {
   "cell_type": "code",
   "execution_count": null,
   "metadata": {},
   "outputs": [],
   "source": []
  },
  {
   "cell_type": "code",
   "execution_count": null,
   "metadata": {},
   "outputs": [],
   "source": []
  },
  {
   "cell_type": "code",
   "execution_count": null,
   "metadata": {},
   "outputs": [],
   "source": []
  },
  {
   "cell_type": "code",
   "execution_count": null,
   "metadata": {},
   "outputs": [],
   "source": []
  },
  {
   "cell_type": "code",
   "execution_count": null,
   "metadata": {},
   "outputs": [],
   "source": [
    "df = pd.read_csv('네이버뉴스_0.csv', encoding='UTF-8', engine='python')\n",
    "df1 = pd.read_csv('네이버뉴스_1.csv', encoding='UTF-8', engine='python')\n",
    "df2 = pd.read_csv('네이버뉴스_2.csv', encoding='UTF-8', engine='python')\n",
    "\n",
    "for i in tqdm(range(2,16)):\n",
    "    date_ = []\n",
    "    contents = []\n",
    "    comments_len = []\n",
    "    comments_cont = []\n",
    "    temp = pd.read_csv('네이버뉴스_{}.csv'.format(i),encoding='UTF-8', engine='python')\n",
    "    \n",
    "    \n",
    "    url = temp['url']\n",
    "    for j in range(len(url)):\n",
    "        url_ = url.loc[i]\n",
    "        response = urllib.request.urlopen(url_)\n",
    "        soup = BeautifulSoup(response, \"html.parser\")\n",
    "        #    results = soup.select('div[class=ranking_headline]')  \n",
    "        try: \n",
    "            btext = soup.find('div', {'id':'articleBodyContents'}).text.replace('\\n\\n\\n\\n\\n// flash 오류를 우회하기 위한 함수 추가\\nfunction _flash_removeCallback() {}\\n\\n', '')\n",
    "            #content = soup.select_one(\"#articleBodyContents\").get_text.replace('\\n',\" \")\n",
    "            #btext = content.replace(\"// flash 오류를 우회하기 위한 함수 추가 function _flash_removeCallback() {}\", \"\") \n",
    "        except AttributeError:\n",
    "            btext = ''\n",
    "            print(\"content_error\", i,j, url_)\n",
    "        comments_len =  len(get_comments(url_))\n",
    "        comments_cont = get_comments(url_)\n",
    "\n",
    "        try:\n",
    "            date = soup.select('span.t11')[0].text  \n",
    "        except IndexError:\n",
    "            date=''\n",
    "            print(\"date_error\",i,j, url_)\n",
    "\n",
    "        #    time.sleep(0.1)\n",
    "        temp0 = [date]\n",
    "        temp1 = [btext.strip()]\n",
    "        temp2 = [comment_len]\n",
    "        date_.append(temp)\n",
    "        contents.append(temp1)\n",
    "        comments_len.append(temp2)\n",
    "        comments_cont.append(comment_cont)\n",
    "    temp = pd.DataFrame(temp)\n",
    "    temp['date'] = date_\n",
    "    temp['contents'] = contents\n",
    "    temp['comments_len'] = comments_len\n",
    "    temp['comments_cont'] = comments_cont\n",
    "    df2 = pd.concat([df2, temp], sort=False)\n",
    "#df2.to_csv('article_dataframe.csv',index=False)"
   ]
  }
 ],
 "metadata": {
  "kernelspec": {
   "display_name": "Python 3",
   "language": "python",
   "name": "python3"
  },
  "language_info": {
   "codemirror_mode": {
    "name": "ipython",
    "version": 3
   },
   "file_extension": ".py",
   "mimetype": "text/x-python",
   "name": "python",
   "nbconvert_exporter": "python",
   "pygments_lexer": "ipython3",
   "version": "3.7.1"
  }
 },
 "nbformat": 4,
 "nbformat_minor": 2
}
